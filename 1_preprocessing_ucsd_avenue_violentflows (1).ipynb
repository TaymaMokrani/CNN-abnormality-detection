{
 "cells": [
  {
   "cell_type": "markdown",
   "id": "9abe7f3a",
   "metadata": {},
   "source": [
    "# 🧠 Crowd Anomaly Detection – Preprocessing Notebook\n",
    "This notebook handles preprocessing for the CUHK Avenue and Violent-Flows datasets by extracting frames, converting them to grayscale, resizing them, and generating label files.\n"
   ]
  },
  {
   "cell_type": "markdown",
   "id": "685b7a0f",
   "metadata": {},
   "source": [
    "## 📚 Import Required Libraries\n"
   ]
  },
  {
   "cell_type": "code",
   "execution_count": 1,
   "id": "7431545d",
   "metadata": {},
   "outputs": [],
   "source": [
    "import cv2\n",
    "import os\n",
    "import numpy as np\n",
    "import pandas as pd\n",
    "from tqdm import tqdm\n",
    "from scipy.io import loadmat\n",
    "from PIL import Image"
   ]
  },
  {
   "cell_type": "markdown",
   "id": "dc409f8f",
   "metadata": {},
   "source": [
    "## 🎞️ Frame Extraction Function\n",
    "Extract frames from any video, convert to grayscale, resize to 200×200, and save them as PNG images.\n"
   ]
  },
  {
   "cell_type": "code",
   "execution_count": 2,
   "id": "64e6aa02",
   "metadata": {},
   "outputs": [],
   "source": [
    "def extract_frames_from_video(video_path, output_dir, resize_dim=(200, 200)):\n",
    "    os.makedirs(output_dir, exist_ok=True)\n",
    "    cap = cv2.VideoCapture(video_path)\n",
    "    idx = 0\n",
    "    while cap.isOpened():\n",
    "        ret, frame = cap.read()\n",
    "        if not ret:\n",
    "            break\n",
    "        gray = cv2.cvtColor(frame, cv2.COLOR_BGR2GRAY)\n",
    "        resized = cv2.resize(gray, resize_dim)\n",
    "        path = os.path.join(output_dir, f\"frame_{idx:04d}.png\")\n",
    "        cv2.imwrite(path, resized)\n",
    "        idx += 1\n",
    "    cap.release()\n",
    "    return idx  # nombre total de frames extraites\n"
   ]
  },
  {
   "cell_type": "markdown",
   "id": "b215061e",
   "metadata": {},
   "source": [
    "## 🧪 Process CUHK Avenue Test Set\n",
    "Extract test video frames and assign labels using the .mat annotation files.\n"
   ]
  },
  {
   "cell_type": "code",
   "execution_count": 3,
   "id": "5a019c64",
   "metadata": {},
   "outputs": [],
   "source": [
    "def process_avenue_test_set(test_video_dir, test_vol_dir, output_frames_dir, output_csv_path):\n",
    "    os.makedirs(output_frames_dir, exist_ok=True)\n",
    "    video_list = sorted([v for v in os.listdir(test_video_dir) if v.endswith('.avi')])\n",
    "    data = []\n",
    "\n",
    "    for i, video_file in enumerate(video_list):\n",
    "        video_name = os.path.splitext(video_file)[0]\n",
    "        video_path = os.path.join(test_video_dir, video_file)\n",
    "        mat_path = os.path.join(test_vol_dir, f\"vol{i+1:02d}.mat\")\n",
    "\n",
    "        print(f\"🔄 Traitement de la vidéo : {video_file}\")\n",
    "\n",
    "        output_dir = os.path.join(output_frames_dir, video_name)\n",
    "        n_frames = extract_frames_from_video(video_path, output_dir)\n",
    "\n",
    "        mat = loadmat(mat_path)\n",
    "        volume = mat['vol']\n",
    "        n_vol_frames = volume.shape[2]\n",
    "        min_len = min(n_frames, n_vol_frames)\n",
    "\n",
    "        frame_labels = [1 if np.any(volume[:, :, f] == f) else 0 for f in range(min_len)]\n",
    "\n",
    "        for j in range(min_len):\n",
    "            frame_path = os.path.join(output_dir, f\"frame_{j:04d}.png\")\n",
    "            if os.path.exists(frame_path):\n",
    "                data.append({'path': frame_path, 'label': frame_labels[j]})\n",
    "\n",
    "    df = pd.DataFrame(data)\n",
    "    df.to_csv(output_csv_path, index=False)\n",
    "    print(f\"✅ Labels enregistrés dans : {output_csv_path}\")\n"
   ]
  },
  {
   "cell_type": "markdown",
   "id": "5d4e60b0",
   "metadata": {},
   "source": [
    "## 🚀 Run Test Set Processing (Avenue)\n"
   ]
  },
  {
   "cell_type": "code",
   "execution_count": 10,
   "id": "7a57b4dc",
   "metadata": {},
   "outputs": [
    {
     "name": "stdout",
     "output_type": "stream",
     "text": [
      "🔄 Traitement de la vidéo : 01.avi\n",
      "🔄 Traitement de la vidéo : 02.avi\n",
      "🔄 Traitement de la vidéo : 03.avi\n",
      "🔄 Traitement de la vidéo : 04.avi\n",
      "🔄 Traitement de la vidéo : 05.avi\n",
      "🔄 Traitement de la vidéo : 06.avi\n",
      "🔄 Traitement de la vidéo : 07.avi\n",
      "🔄 Traitement de la vidéo : 08.avi\n",
      "🔄 Traitement de la vidéo : 09.avi\n",
      "🔄 Traitement de la vidéo : 10.avi\n",
      "🔄 Traitement de la vidéo : 11.avi\n",
      "🔄 Traitement de la vidéo : 12.avi\n",
      "🔄 Traitement de la vidéo : 13.avi\n",
      "🔄 Traitement de la vidéo : 14.avi\n",
      "🔄 Traitement de la vidéo : 15.avi\n",
      "🔄 Traitement de la vidéo : 16.avi\n",
      "🔄 Traitement de la vidéo : 17.avi\n",
      "🔄 Traitement de la vidéo : 18.avi\n",
      "🔄 Traitement de la vidéo : 19.avi\n",
      "🔄 Traitement de la vidéo : 20.avi\n",
      "🔄 Traitement de la vidéo : 21.avi\n",
      "✅ Labels enregistrés dans : data/avenue/test_labels.csv\n"
     ]
    }
   ],
   "source": [
    "process_avenue_test_set(\n",
    "    test_video_dir='data/avenue/testing_videos/',\n",
    "    test_vol_dir='data/avenue/testing_vol/',\n",
    "    output_frames_dir='data/avenue/test_frames/',\n",
    "    output_csv_path='data/avenue/test_labels.csv'\n",
    ")\n"
   ]
  },
  {
   "cell_type": "markdown",
   "id": "5eb529e3",
   "metadata": {},
   "source": [
    "## 🏗️ Process CUHK Avenue Training Set\n",
    "Extract training video frames and label them all as normal (label = 0).\n"
   ]
  },
  {
   "cell_type": "code",
   "execution_count": 11,
   "id": "0d8cb8b8",
   "metadata": {},
   "outputs": [],
   "source": [
    "def process_avenue_training_set(training_video_dir, output_frames_dir, output_csv_path):\n",
    "    os.makedirs(output_frames_dir, exist_ok=True)\n",
    "    video_list = sorted([v for v in os.listdir(training_video_dir) if v.endswith('.avi')])\n",
    "    data = []\n",
    "\n",
    "    for video_file in video_list:\n",
    "        video_name = os.path.splitext(video_file)[0]\n",
    "        video_path = os.path.join(training_video_dir, video_file)\n",
    "\n",
    "        print(f\"🎞️ Extraction de : {video_file}\")\n",
    "        output_dir = os.path.join(output_frames_dir, video_name)\n",
    "        os.makedirs(output_dir, exist_ok=True)\n",
    "\n",
    "        cap = cv2.VideoCapture(video_path)\n",
    "        idx = 0\n",
    "        while cap.isOpened():\n",
    "            ret, frame = cap.read()\n",
    "            if not ret:\n",
    "                break\n",
    "            gray = cv2.cvtColor(frame, cv2.COLOR_BGR2GRAY)\n",
    "            resized = cv2.resize(gray, (200, 200))\n",
    "            frame_path = os.path.join(output_dir, f\"frame_{idx:04d}.png\")\n",
    "            cv2.imwrite(frame_path, resized)\n",
    "            data.append({'path': frame_path, 'label': 0})  # Tout est normal\n",
    "            idx += 1\n",
    "        cap.release()\n",
    "\n",
    "    df = pd.DataFrame(data)\n",
    "    df.to_csv(output_csv_path, index=False)\n",
    "    print(f\"✅ Labels sauvegardés dans : {output_csv_path}\")\n"
   ]
  },
  {
   "cell_type": "markdown",
   "id": "5ae1e6a0",
   "metadata": {},
   "source": [
    "## 🚀 Run Training Set Processing (Avenue)\n"
   ]
  },
  {
   "cell_type": "code",
   "execution_count": 12,
   "id": "65f858b0",
   "metadata": {},
   "outputs": [
    {
     "name": "stdout",
     "output_type": "stream",
     "text": [
      "🎞️ Extraction de : 01.avi\n",
      "🎞️ Extraction de : 02.avi\n",
      "🎞️ Extraction de : 03.avi\n",
      "🎞️ Extraction de : 04.avi\n",
      "🎞️ Extraction de : 05.avi\n",
      "🎞️ Extraction de : 06.avi\n",
      "🎞️ Extraction de : 07.avi\n",
      "🎞️ Extraction de : 08.avi\n",
      "🎞️ Extraction de : 09.avi\n",
      "🎞️ Extraction de : 10.avi\n",
      "🎞️ Extraction de : 11.avi\n",
      "🎞️ Extraction de : 12.avi\n",
      "🎞️ Extraction de : 13.avi\n",
      "🎞️ Extraction de : 14.avi\n",
      "🎞️ Extraction de : 15.avi\n",
      "🎞️ Extraction de : 16.avi\n",
      "✅ Labels sauvegardés dans : data/avenue/train_labels.csv\n"
     ]
    }
   ],
   "source": [
    "process_avenue_training_set(\n",
    "    training_video_dir='data/avenue/training_videos/',\n",
    "    output_frames_dir='data/avenue/train_frames/',\n",
    "    output_csv_path='data/avenue/train_labels.csv'\n",
    ")"
   ]
  },
  {
   "cell_type": "markdown",
   "id": "487ba155",
   "metadata": {},
   "source": [
    "## 🔥 Process Violent-Flows Dataset\n",
    "Automatically extract and label frames from all videos in the Violent-Flows dataset based on directory structure (violent / non-violent).\n"
   ]
  },
  {
   "cell_type": "code",
   "execution_count": 15,
   "id": "3caa05fa",
   "metadata": {},
   "outputs": [],
   "source": [
    "def preprocess_violent_flows_dataset(root_dir, output_dir, output_csv):\n",
    "    os.makedirs(output_dir, exist_ok=True)\n",
    "    data = []\n",
    "    folders = [f for f in os.listdir(root_dir) if os.path.isdir(os.path.join(root_dir, f))]\n",
    "    folders.sort()\n",
    "\n",
    "    for folder in folders:\n",
    "        folder_path = os.path.join(root_dir, folder)\n",
    "        for subdir, _, video_files in os.walk(folder_path):\n",
    "            video_files = [f for f in video_files if f.endswith('.avi') or f.endswith('.mp4')]\n",
    "            print(f\"📂 Dossier : {subdir} - {len(video_files)} vidéos\")\n",
    "\n",
    "            for video_file in tqdm(video_files):\n",
    "                video_path = os.path.join(subdir, video_file)\n",
    "                label = 1 if 'violence' in subdir.lower() and 'non' not in subdir.lower() else 0\n",
    "\n",
    "                video_name = os.path.splitext(video_file)[0]\n",
    "                frame_output = os.path.join(output_dir, video_name)\n",
    "                os.makedirs(frame_output, exist_ok=True)\n",
    "\n",
    "                cap = cv2.VideoCapture(video_path)\n",
    "                idx = 0\n",
    "                while cap.isOpened():\n",
    "                    ret, frame = cap.read()\n",
    "                    if not ret:\n",
    "                        break\n",
    "                    gray = cv2.cvtColor(frame, cv2.COLOR_BGR2GRAY)\n",
    "                    resized = cv2.resize(gray, (200, 200))\n",
    "                    frame_path = os.path.join(frame_output, f\"frame_{idx:04d}.png\")\n",
    "                    cv2.imwrite(frame_path, resized)\n",
    "                    data.append({'path': frame_path, 'label': label})\n",
    "                    idx += 1\n",
    "                cap.release()\n",
    "\n",
    "    df = pd.DataFrame(data)\n",
    "    df.to_csv(output_csv, index=False)\n",
    "    print(f\"✅ CSV généré : {output_csv} - {len(df)} entrées\")\n"
   ]
  },
  {
   "cell_type": "markdown",
   "id": "99538847",
   "metadata": {},
   "source": [
    "## 🚀 Run Violent-Flows Processing\n"
   ]
  },
  {
   "cell_type": "code",
   "execution_count": 17,
   "id": "3f3713c5",
   "metadata": {},
   "outputs": [
    {
     "name": "stdout",
     "output_type": "stream",
     "text": [
      "📂 Dossier : data/Violent-Flows\\1 - 0 vidéos\n"
     ]
    },
    {
     "name": "stderr",
     "output_type": "stream",
     "text": [
      "0it [00:00, ?it/s]\n"
     ]
    },
    {
     "name": "stdout",
     "output_type": "stream",
     "text": [
      "📂 Dossier : data/Violent-Flows\\1\\NonViolence - 25 vidéos\n"
     ]
    },
    {
     "name": "stderr",
     "output_type": "stream",
     "text": [
      "100%|██████████| 25/25 [00:08<00:00,  3.03it/s]\n"
     ]
    },
    {
     "name": "stdout",
     "output_type": "stream",
     "text": [
      "📂 Dossier : data/Violent-Flows\\1\\Violence - 25 vidéos\n"
     ]
    },
    {
     "name": "stderr",
     "output_type": "stream",
     "text": [
      "100%|██████████| 25/25 [00:09<00:00,  2.75it/s]\n"
     ]
    },
    {
     "name": "stdout",
     "output_type": "stream",
     "text": [
      "📂 Dossier : data/Violent-Flows\\2 - 0 vidéos\n"
     ]
    },
    {
     "name": "stderr",
     "output_type": "stream",
     "text": [
      "0it [00:00, ?it/s]\n"
     ]
    },
    {
     "name": "stdout",
     "output_type": "stream",
     "text": [
      "📂 Dossier : data/Violent-Flows\\2\\NonViolence - 25 vidéos\n"
     ]
    },
    {
     "name": "stderr",
     "output_type": "stream",
     "text": [
      "100%|██████████| 25/25 [00:07<00:00,  3.57it/s]\n"
     ]
    },
    {
     "name": "stdout",
     "output_type": "stream",
     "text": [
      "📂 Dossier : data/Violent-Flows\\2\\Violence - 25 vidéos\n"
     ]
    },
    {
     "name": "stderr",
     "output_type": "stream",
     "text": [
      "100%|██████████| 25/25 [00:11<00:00,  2.27it/s]\n"
     ]
    },
    {
     "name": "stdout",
     "output_type": "stream",
     "text": [
      "📂 Dossier : data/Violent-Flows\\3 - 0 vidéos\n"
     ]
    },
    {
     "name": "stderr",
     "output_type": "stream",
     "text": [
      "0it [00:00, ?it/s]\n"
     ]
    },
    {
     "name": "stdout",
     "output_type": "stream",
     "text": [
      "📂 Dossier : data/Violent-Flows\\3\\NonViolence - 25 vidéos\n"
     ]
    },
    {
     "name": "stderr",
     "output_type": "stream",
     "text": [
      "100%|██████████| 25/25 [00:07<00:00,  3.16it/s]\n"
     ]
    },
    {
     "name": "stdout",
     "output_type": "stream",
     "text": [
      "📂 Dossier : data/Violent-Flows\\3\\Violence - 25 vidéos\n"
     ]
    },
    {
     "name": "stderr",
     "output_type": "stream",
     "text": [
      "100%|██████████| 25/25 [00:13<00:00,  1.85it/s]\n"
     ]
    },
    {
     "name": "stdout",
     "output_type": "stream",
     "text": [
      "📂 Dossier : data/Violent-Flows\\4 - 0 vidéos\n"
     ]
    },
    {
     "name": "stderr",
     "output_type": "stream",
     "text": [
      "0it [00:00, ?it/s]\n"
     ]
    },
    {
     "name": "stdout",
     "output_type": "stream",
     "text": [
      "📂 Dossier : data/Violent-Flows\\4\\NonViolence - 24 vidéos\n"
     ]
    },
    {
     "name": "stderr",
     "output_type": "stream",
     "text": [
      "100%|██████████| 24/24 [00:15<00:00,  1.57it/s]\n"
     ]
    },
    {
     "name": "stdout",
     "output_type": "stream",
     "text": [
      "📂 Dossier : data/Violent-Flows\\4\\Violence - 24 vidéos\n"
     ]
    },
    {
     "name": "stderr",
     "output_type": "stream",
     "text": [
      "100%|██████████| 24/24 [00:12<00:00,  1.85it/s]\n"
     ]
    },
    {
     "name": "stdout",
     "output_type": "stream",
     "text": [
      "📂 Dossier : data/Violent-Flows\\5 - 0 vidéos\n"
     ]
    },
    {
     "name": "stderr",
     "output_type": "stream",
     "text": [
      "0it [00:00, ?it/s]\n"
     ]
    },
    {
     "name": "stdout",
     "output_type": "stream",
     "text": [
      "📂 Dossier : data/Violent-Flows\\5\\NonViolence - 24 vidéos\n"
     ]
    },
    {
     "name": "stderr",
     "output_type": "stream",
     "text": [
      "100%|██████████| 24/24 [00:23<00:00,  1.03it/s]\n"
     ]
    },
    {
     "name": "stdout",
     "output_type": "stream",
     "text": [
      "📂 Dossier : data/Violent-Flows\\5\\Violence - 24 vidéos\n"
     ]
    },
    {
     "name": "stderr",
     "output_type": "stream",
     "text": [
      "100%|██████████| 24/24 [00:08<00:00,  2.88it/s]\n"
     ]
    },
    {
     "name": "stdout",
     "output_type": "stream",
     "text": [
      "📂 Dossier : data/Violent-Flows\\frames - 0 vidéos\n"
     ]
    },
    {
     "name": "stderr",
     "output_type": "stream",
     "text": [
      "0it [00:00, ?it/s]\n"
     ]
    },
    {
     "name": "stdout",
     "output_type": "stream",
     "text": [
      "📂 Dossier : data/Violent-Flows\\frames\\audience_violence__Riot_police_attack_peaceful_protesters_at_G20_Climate_Camp__bristlekrs__t244-zEENSs - 0 vidéos\n"
     ]
    },
    {
     "name": "stderr",
     "output_type": "stream",
     "text": [
      "0it [00:00, ?it/s]\n"
     ]
    },
    {
     "name": "stdout",
     "output_type": "stream",
     "text": [
      "📂 Dossier : data/Violent-Flows\\frames\\balcony_football_violence__Brannik_Football_Violence__Nattevandring__ysW-tGv-YjI - 0 vidéos\n"
     ]
    },
    {
     "name": "stderr",
     "output_type": "stream",
     "text": [
      "0it [00:00, ?it/s]\n"
     ]
    },
    {
     "name": "stdout",
     "output_type": "stream",
     "text": [
      "📂 Dossier : data/Violent-Flows\\frames\\balcony_football_violence__British_Football_Hooligans_Mix_1__MorningGlory1997__pn6CNLi3UhA - 0 vidéos\n"
     ]
    },
    {
     "name": "stderr",
     "output_type": "stream",
     "text": [
      "0it [00:00, ?it/s]\n"
     ]
    },
    {
     "name": "stdout",
     "output_type": "stream",
     "text": [
      "📂 Dossier : data/Violent-Flows\\frames\\balcony_football_violence__British_Football_Hooligans_Mix_3__MorningGlory1997__kW23lUV6oFk - 0 vidéos\n"
     ]
    },
    {
     "name": "stderr",
     "output_type": "stream",
     "text": [
      "0it [00:00, ?it/s]\n"
     ]
    },
    {
     "name": "stdout",
     "output_type": "stream",
     "text": [
      "📂 Dossier : data/Violent-Flows\\frames\\balcony_football_violence__Football_Hooligans_Bury_v_Stockport_1998__MorningGlory1997__g6p_k37oWws - 0 vidéos\n"
     ]
    },
    {
     "name": "stderr",
     "output_type": "stream",
     "text": [
      "0it [00:00, ?it/s]\n"
     ]
    },
    {
     "name": "stdout",
     "output_type": "stream",
     "text": [
      "📂 Dossier : data/Violent-Flows\\frames\\balcony_football_violence__Football_Hooligans_Leeds_v_Wolves_2005__MorningGlory1997__f66MTrNLPL0 - 0 vidéos\n"
     ]
    },
    {
     "name": "stderr",
     "output_type": "stream",
     "text": [
      "0it [00:00, ?it/s]\n"
     ]
    },
    {
     "name": "stdout",
     "output_type": "stream",
     "text": [
      "📂 Dossier : data/Violent-Flows\\frames\\balcony_football_violence__Football_Hooligans_Oxford_Utd_v_Aston_Villa_2002__MorningGlory1997__bWY8AQIFYXM - 0 vidéos\n"
     ]
    },
    {
     "name": "stderr",
     "output_type": "stream",
     "text": [
      "0it [00:00, ?it/s]\n"
     ]
    },
    {
     "name": "stdout",
     "output_type": "stream",
     "text": [
      "📂 Dossier : data/Violent-Flows\\frames\\balcony_football_violence__Football_Hooligans_Watford_v_Luton_2002_Version_1__MorningGlory1997__vLOTaR9eMlg - 0 vidéos\n"
     ]
    },
    {
     "name": "stderr",
     "output_type": "stream",
     "text": [
      "0it [00:00, ?it/s]\n"
     ]
    },
    {
     "name": "stdout",
     "output_type": "stream",
     "text": [
      "📂 Dossier : data/Violent-Flows\\frames\\balcony_football_violence__Football_Hooligans_Watford_v_Luton_2002_Version_2__MorningGlory1997__1XbY1Sr2Obw - 0 vidéos\n"
     ]
    },
    {
     "name": "stderr",
     "output_type": "stream",
     "text": [
      "0it [00:00, ?it/s]\n"
     ]
    },
    {
     "name": "stdout",
     "output_type": "stream",
     "text": [
      "📂 Dossier : data/Violent-Flows\\frames\\balcony_football_violence__Football_Violence_Gais_AIK_2005__spliffpolitics__e4xiTNkfN0U - 0 vidéos\n"
     ]
    },
    {
     "name": "stderr",
     "output_type": "stream",
     "text": [
      "0it [00:00, ?it/s]\n"
     ]
    },
    {
     "name": "stdout",
     "output_type": "stream",
     "text": [
      "📂 Dossier : data/Violent-Flows\\frames\\balcony_football__birmingham_promoted_to_premier_from_balcony_town_hall__clippo67_ - 0 vidéos\n"
     ]
    },
    {
     "name": "stderr",
     "output_type": "stream",
     "text": [
      "0it [00:00, ?it/s]\n"
     ]
    },
    {
     "name": "stdout",
     "output_type": "stream",
     "text": [
      "📂 Dossier : data/Violent-Flows\\frames\\balcony_football__Seoul_vs_Dae_Gu_Futbol_Roman_Candles__JOECORE__bbpgvaM2sxs - 0 vidéos\n"
     ]
    },
    {
     "name": "stderr",
     "output_type": "stream",
     "text": [
      "0it [00:00, ?it/s]\n"
     ]
    },
    {
     "name": "stdout",
     "output_type": "stream",
     "text": [
      "📂 Dossier : data/Violent-Flows\\frames\\crowd_violence__Crowd_Violence_Control_techniques__mackevster__wkva5YERsRg - 0 vidéos\n"
     ]
    },
    {
     "name": "stderr",
     "output_type": "stream",
     "text": [
      "0it [00:00, ?it/s]\n"
     ]
    },
    {
     "name": "stdout",
     "output_type": "stream",
     "text": [
      "📂 Dossier : data/Violent-Flows\\frames\\crowd_violence__FooTBaLL_Violence__dyster8__iN4kiCHg2S4 - 0 vidéos\n"
     ]
    },
    {
     "name": "stderr",
     "output_type": "stream",
     "text": [
      "0it [00:00, ?it/s]\n"
     ]
    },
    {
     "name": "stdout",
     "output_type": "stream",
     "text": [
      "📂 Dossier : data/Violent-Flows\\frames\\crowd_violence__Man_Utd_vs_Roma_Crowd_Trouble__uncychris__ZGI5vlDMpJA - 0 vidéos\n"
     ]
    },
    {
     "name": "stderr",
     "output_type": "stream",
     "text": [
      "0it [00:00, ?it/s]\n"
     ]
    },
    {
     "name": "stdout",
     "output_type": "stream",
     "text": [
      "📂 Dossier : data/Violent-Flows\\frames\\crowd_violence__Roma_V_Man_Utd_Police_beating_crowd__Beck84Utd__jwtg8AkcAfc - 0 vidéos\n"
     ]
    },
    {
     "name": "stderr",
     "output_type": "stream",
     "text": [
      "0it [00:00, ?it/s]\n"
     ]
    },
    {
     "name": "stdout",
     "output_type": "stream",
     "text": [
      "📂 Dossier : data/Violent-Flows\\frames\\crowd_violence__Rostock_Anti_G8_Demo_Police_Violence__erikaransom__f185olt6W4I - 0 vidéos\n"
     ]
    },
    {
     "name": "stderr",
     "output_type": "stream",
     "text": [
      "0it [00:00, ?it/s]\n"
     ]
    },
    {
     "name": "stdout",
     "output_type": "stream",
     "text": [
      "📂 Dossier : data/Violent-Flows\\frames\\crowd_violence__Violence_At_Upton_Park_25_08_09__JunaidNixamani__MgXe0isUnSg - 0 vidéos\n"
     ]
    },
    {
     "name": "stderr",
     "output_type": "stream",
     "text": [
      "0it [00:00, ?it/s]"
     ]
    },
    {
     "name": "stdout",
     "output_type": "stream",
     "text": [
      "📂 Dossier : data/Violent-Flows\\frames\\fans_violence__Accidents_Fights_Violence_Tragedies_Hooligans_Football_Fights_HORRIBLE_THINGS__darkhero00__PgujG07PUq0 - 0 vidéos"
     ]
    },
    {
     "name": "stderr",
     "output_type": "stream",
     "text": [
      "\n"
     ]
    },
    {
     "name": "stdout",
     "output_type": "stream",
     "text": [
      "\n"
     ]
    },
    {
     "name": "stderr",
     "output_type": "stream",
     "text": [
      "0it [00:00, ?it/s]\n"
     ]
    },
    {
     "name": "stdout",
     "output_type": "stream",
     "text": [
      "📂 Dossier : data/Violent-Flows\\frames\\fans_violence__BRANNIK_Football_Violence_CSKA__Arpecua__gew9Ks_9VRU - 0 vidéos\n"
     ]
    },
    {
     "name": "stderr",
     "output_type": "stream",
     "text": [
      "0it [00:00, ?it/s]"
     ]
    },
    {
     "name": "stdout",
     "output_type": "stream",
     "text": [
      "📂 Dossier : data/Violent-Flows\\frames\\fans_violence__English_Hooligans_vs_Turkey_Ultras__Vandal83__J8S2-pGz8ao - 0 vidéos"
     ]
    },
    {
     "name": "stderr",
     "output_type": "stream",
     "text": [
      "\n"
     ]
    },
    {
     "name": "stdout",
     "output_type": "stream",
     "text": [
      "\n"
     ]
    },
    {
     "name": "stderr",
     "output_type": "stream",
     "text": [
      "0it [00:00, ?it/s]"
     ]
    },
    {
     "name": "stdout",
     "output_type": "stream",
     "text": [
      "📂 Dossier : data/Violent-Flows\\frames\\fans_violence__Fans_Fighting_Roma_vs_Man_Utd__teafor22__oYikreK6ng4 - 0 vidéos\n"
     ]
    },
    {
     "name": "stderr",
     "output_type": "stream",
     "text": [
      "\n",
      "0it [00:00, ?it/s]\n"
     ]
    },
    {
     "name": "stdout",
     "output_type": "stream",
     "text": [
      "📂 Dossier : data/Violent-Flows\\frames\\fans_violence__FootBall_Fans_Violence__xxxXLsDXxxx__EaCpQJLdxJ8 - 0 vidéos\n"
     ]
    },
    {
     "name": "stderr",
     "output_type": "stream",
     "text": [
      "0it [00:00, ?it/s]\n"
     ]
    },
    {
     "name": "stdout",
     "output_type": "stream",
     "text": [
      "📂 Dossier : data/Violent-Flows\\frames\\fans_violence__Football_Hooligans_Preston_North_End_Mix__prestonparasoccer__qwrOc8xmlpY - 0 vidéos\n"
     ]
    },
    {
     "name": "stderr",
     "output_type": "stream",
     "text": [
      "0it [00:00, ?it/s]\n"
     ]
    },
    {
     "name": "stdout",
     "output_type": "stream",
     "text": [
      "📂 Dossier : data/Violent-Flows\\frames\\fans_violence__Football_Hooligans_Watford_v_Luton_2002_Version_1__MorningGlory1997__vLOTaR9eMlg - 0 vidéos\n"
     ]
    },
    {
     "name": "stderr",
     "output_type": "stream",
     "text": [
      "0it [00:00, ?it/s]\n"
     ]
    },
    {
     "name": "stdout",
     "output_type": "stream",
     "text": [
      "📂 Dossier : data/Violent-Flows\\frames\\fans_violence__Football_Violence_From_England_And_Netherlands__spliffpolitics__anRuF6MBO-s - 0 vidéos\n"
     ]
    },
    {
     "name": "stderr",
     "output_type": "stream",
     "text": [
      "0it [00:00, ?it/s]\n"
     ]
    },
    {
     "name": "stdout",
     "output_type": "stream",
     "text": [
      "📂 Dossier : data/Violent-Flows\\frames\\fans_violence__F_GHT_S_MORE_MPORTANT_THAN_FOOTBALL_sometimes__shevchenko776__9a616Ppoeak - 0 vidéos\n"
     ]
    },
    {
     "name": "stderr",
     "output_type": "stream",
     "text": [
      "0it [00:00, ?it/s]\n"
     ]
    },
    {
     "name": "stdout",
     "output_type": "stream",
     "text": [
      "📂 Dossier : data/Violent-Flows\\frames\\fans_violence__Hardcore_Supporter_Fight_Extreme_Violence_Final_Four_Volley_Praha__javierulf__jzmiAbjN6Mw - 0 vidéos\n"
     ]
    },
    {
     "name": "stderr",
     "output_type": "stream",
     "text": [
      "0it [00:00, ?it/s]\n"
     ]
    },
    {
     "name": "stdout",
     "output_type": "stream",
     "text": [
      "📂 Dossier : data/Violent-Flows\\frames\\fans_violence__Hockey_Fights_and_Fan_Brawls__dsnitris2007__XinJCGR7u6w - 0 vidéos\n"
     ]
    },
    {
     "name": "stderr",
     "output_type": "stream",
     "text": [
      "0it [00:00, ?it/s]\n"
     ]
    },
    {
     "name": "stdout",
     "output_type": "stream",
     "text": [
      "📂 Dossier : data/Violent-Flows\\frames\\fans_violence__Hooligans_violence_in_stadiums_PART_1__yuossef5959__PPIP1AYJyXE - 0 vidéos\n"
     ]
    },
    {
     "name": "stderr",
     "output_type": "stream",
     "text": [
      "0it [00:00, ?it/s]\n"
     ]
    },
    {
     "name": "stdout",
     "output_type": "stream",
     "text": [
      "📂 Dossier : data/Violent-Flows\\frames\\fans_violence__IRAKLIS_FANS_OUTLAW__RESISTANCE1908__15XLSFN7mFs - 0 vidéos\n"
     ]
    },
    {
     "name": "stderr",
     "output_type": "stream",
     "text": [
      "0it [00:00, ?it/s]\n"
     ]
    },
    {
     "name": "stdout",
     "output_type": "stream",
     "text": [
      "📂 Dossier : data/Violent-Flows\\frames\\fans_violence__Marseille_World_Cup_fans_riot__tizwaz35__I9sUIDRjpoo - 0 vidéos\n"
     ]
    },
    {
     "name": "stderr",
     "output_type": "stream",
     "text": [
      "0it [00:00, ?it/s]"
     ]
    },
    {
     "name": "stdout",
     "output_type": "stream",
     "text": [
      "📂 Dossier : data/Violent-Flows\\frames\\fans_violence__Roma_vs_Man_United_Police_violence_DANISH_TV__7Anotnac7__gIfgEwL - 0 vidéos"
     ]
    },
    {
     "name": "stderr",
     "output_type": "stream",
     "text": [
      "\n"
     ]
    },
    {
     "name": "stdout",
     "output_type": "stream",
     "text": [
      "\n"
     ]
    },
    {
     "name": "stderr",
     "output_type": "stream",
     "text": [
      "0it [00:00, ?it/s]\n"
     ]
    },
    {
     "name": "stdout",
     "output_type": "stream",
     "text": [
      "📂 Dossier : data/Violent-Flows\\frames\\fans_violence__Slovak_chauvinism_nationalism_extremism_intolerance_and_all_form - 0 vidéos\n"
     ]
    },
    {
     "name": "stderr",
     "output_type": "stream",
     "text": [
      "0it [00:00, ?it/s]\n"
     ]
    },
    {
     "name": "stdout",
     "output_type": "stream",
     "text": [
      "📂 Dossier : data/Violent-Flows\\frames\\fans_violence__THE_BEST_HOOLIGANS_Los_hinchas_ultras_barra_torcida_fans_fanatic - 0 vidéos\n"
     ]
    },
    {
     "name": "stderr",
     "output_type": "stream",
     "text": [
      "0it [00:00, ?it/s]\n"
     ]
    },
    {
     "name": "stdout",
     "output_type": "stream",
     "text": [
      "📂 Dossier : data/Violent-Flows\\frames\\fans_violence__Tigers_Yob_Violence_Hull_Daily_Mail__AllMail__J_znZ1TJugw - 0 vidéos\n"
     ]
    },
    {
     "name": "stderr",
     "output_type": "stream",
     "text": [
      "0it [00:00, ?it/s]\n"
     ]
    },
    {
     "name": "stdout",
     "output_type": "stream",
     "text": [
      "📂 Dossier : data/Violent-Flows\\frames\\fans_violence__Vanilla_Muffins_Chelsea_West_Ham_A_Look_At_Football_Violence__TheSicSociety__Qx0W0-0dDFQ - 0 vidéos\n"
     ]
    },
    {
     "name": "stderr",
     "output_type": "stream",
     "text": [
      "0it [00:00, ?it/s]\n"
     ]
    },
    {
     "name": "stdout",
     "output_type": "stream",
     "text": [
      "📂 Dossier : data/Violent-Flows\\frames\\fans_violence__Violence_after_bball_game__shlomipr__WSFdO3em2I8 - 0 vidéos\n"
     ]
    },
    {
     "name": "stderr",
     "output_type": "stream",
     "text": [
      "0it [00:00, ?it/s]\n"
     ]
    },
    {
     "name": "stdout",
     "output_type": "stream",
     "text": [
      "📂 Dossier : data/Violent-Flows\\frames\\fans_violence__Violence_in_Soccer_Stadiums_The_Hooligan_Syndrome__evanese1__-x2 - 0 vidéos\n"
     ]
    },
    {
     "name": "stderr",
     "output_type": "stream",
     "text": [
      "0it [00:00, ?it/s]\n"
     ]
    },
    {
     "name": "stdout",
     "output_type": "stream",
     "text": [
      "📂 Dossier : data/Violent-Flows\\frames\\football_crowds_cheering__9697_stadium_crowds__oddballfilmvideo__4onlltf20tE - 0 vidéos\n"
     ]
    },
    {
     "name": "stderr",
     "output_type": "stream",
     "text": [
      "0it [00:00, ?it/s]\n"
     ]
    },
    {
     "name": "stdout",
     "output_type": "stream",
     "text": [
      "📂 Dossier : data/Violent-Flows\\frames\\football_crowds_cheering__Alabama_Ole_Miss_08_Rammer_Jammer__jaydubya10__mviEzH28NiE - 0 vidéos\n"
     ]
    },
    {
     "name": "stderr",
     "output_type": "stream",
     "text": [
      "0it [00:00, ?it/s]\n"
     ]
    },
    {
     "name": "stdout",
     "output_type": "stream",
     "text": [
      "📂 Dossier : data/Violent-Flows\\frames\\football_crowds_cheering__Alabama_vs_San_Jose_State__marlincaddell__RqdBKczKyA4 - 0 vidéos\n"
     ]
    },
    {
     "name": "stderr",
     "output_type": "stream",
     "text": [
      "0it [00:00, ?it/s]\n"
     ]
    },
    {
     "name": "stdout",
     "output_type": "stream",
     "text": [
      "📂 Dossier : data/Violent-Flows\\frames\\football_crowds_cheering__Andres_Iniesta_Standing_Ovations__allas11__WKv7pmjgDeg - 0 vidéos\n"
     ]
    },
    {
     "name": "stderr",
     "output_type": "stream",
     "text": [
      "0it [00:00, ?it/s]"
     ]
    },
    {
     "name": "stdout",
     "output_type": "stream",
     "text": [
      "📂 Dossier : data/Violent-Flows\\frames\\football_crowds_cheering__Arkansas_vs_ULM_September_11_2010_Woo_Pig_Sooie__jayd243__RfMRWT - 0 vidéos"
     ]
    },
    {
     "name": "stderr",
     "output_type": "stream",
     "text": [
      "\n"
     ]
    },
    {
     "name": "stdout",
     "output_type": "stream",
     "text": [
      "\n"
     ]
    },
    {
     "name": "stderr",
     "output_type": "stream",
     "text": [
      "0it [00:00, ?it/s]\n"
     ]
    },
    {
     "name": "stdout",
     "output_type": "stream",
     "text": [
      "📂 Dossier : data/Violent-Flows\\frames\\football_crowds_cheering__Australia_vs_Ghana__cubicspacedivision__hy9sgs_Rzbg - 0 vidéos\n"
     ]
    },
    {
     "name": "stderr",
     "output_type": "stream",
     "text": [
      "0it [00:00, ?it/s]"
     ]
    },
    {
     "name": "stdout",
     "output_type": "stream",
     "text": [
      "📂 Dossier : data/Violent-Flows\\frames\\football_crowds_cheering__Brisbane_Lions_v_Carlton_Blues_The_Gabba_5_Sept_2009__jacktion19 - 0 vidéos\n"
     ]
    },
    {
     "name": "stderr",
     "output_type": "stream",
     "text": [
      "\n",
      "0it [00:00, ?it/s]\n"
     ]
    },
    {
     "name": "stdout",
     "output_type": "stream",
     "text": [
      "📂 Dossier : data/Violent-Flows\\frames\\football_crowds_cheering__Buddy_kicks_100_goals_Hawthorn_vs_Carlton__Greaperman__BlUgh2qDj - 0 vidéos\n"
     ]
    },
    {
     "name": "stderr",
     "output_type": "stream",
     "text": [
      "0it [00:00, ?it/s]\n"
     ]
    },
    {
     "name": "stdout",
     "output_type": "stream",
     "text": [
      "📂 Dossier : data/Violent-Flows\\frames\\football_crowds_cheering__Cal_Beats_Stanford_Big_Game_2002_short_low_res_version__belmonto - 0 vidéos\n"
     ]
    },
    {
     "name": "stderr",
     "output_type": "stream",
     "text": [
      "0it [00:00, ?it/s]\n"
     ]
    },
    {
     "name": "stdout",
     "output_type": "stream",
     "text": [
      "📂 Dossier : data/Violent-Flows\\frames\\football_crowds_cheering__Chang_Rai_United_Football_Match__goldfly___aTVnHfqClA - 0 vidéos\n"
     ]
    },
    {
     "name": "stderr",
     "output_type": "stream",
     "text": [
      "0it [00:00, ?it/s]\n"
     ]
    },
    {
     "name": "stdout",
     "output_type": "stream",
     "text": [
      "📂 Dossier : data/Violent-Flows\\frames\\football_crowds_cheering__Cheering_EAHS_JV_Win__GoAlvarezEagles__Ya-N2JawEyc - 0 vidéos\n"
     ]
    },
    {
     "name": "stderr",
     "output_type": "stream",
     "text": [
      "0it [00:00, ?it/s]\n"
     ]
    },
    {
     "name": "stdout",
     "output_type": "stream",
     "text": [
      "📂 Dossier : data/Violent-Flows\\frames\\football_crowds_cheering__Cheering_in_the_dawg_pack_as_game_gets_under_way__hometownkid__p - 0 vidéos\n"
     ]
    },
    {
     "name": "stderr",
     "output_type": "stream",
     "text": [
      "0it [00:00, ?it/s]\n"
     ]
    },
    {
     "name": "stdout",
     "output_type": "stream",
     "text": [
      "📂 Dossier : data/Violent-Flows\\frames\\football_crowds_cheering__Cheering_the_Nod__DjOky__iwrZ7iOfXAA - 0 vidéos\n"
     ]
    },
    {
     "name": "stderr",
     "output_type": "stream",
     "text": [
      "0it [00:00, ?it/s]\n"
     ]
    },
    {
     "name": "stdout",
     "output_type": "stream",
     "text": [
      "📂 Dossier : data/Violent-Flows\\frames\\football_crowds_cheering__Cougar_Football__montanhaf100__tZMx6fr49H0 - 0 vidéos\n"
     ]
    },
    {
     "name": "stderr",
     "output_type": "stream",
     "text": [
      "0it [00:00, ?it/s]\n"
     ]
    },
    {
     "name": "stdout",
     "output_type": "stream",
     "text": [
      "📂 Dossier : data/Violent-Flows\\frames\\football_crowds_cheering__Crystal_cheering_on_the_Angels__jayskilove__NpCBQfC7TSc - 0 vidéos\n"
     ]
    },
    {
     "name": "stderr",
     "output_type": "stream",
     "text": [
      "0it [00:00, ?it/s]\n"
     ]
    },
    {
     "name": "stdout",
     "output_type": "stream",
     "text": [
      "📂 Dossier : data/Violent-Flows\\frames\\football_crowds_cheering__Day_254_of_2010_Washington_Huskies_First_Half__shinystuffff__H3x - 0 vidéos\n"
     ]
    },
    {
     "name": "stderr",
     "output_type": "stream",
     "text": [
      "0it [00:00, ?it/s]"
     ]
    },
    {
     "name": "stdout",
     "output_type": "stream",
     "text": [
      "📂 Dossier : data/Violent-Flows\\frames\\football_crowds_cheering__Drill_Team_cheering_2_9_24_09__GHSClassOf09__qX4tQ1OHw3c - 0 vidéos\n"
     ]
    },
    {
     "name": "stderr",
     "output_type": "stream",
     "text": [
      "\n",
      "0it [00:00, ?it/s]\n"
     ]
    },
    {
     "name": "stdout",
     "output_type": "stream",
     "text": [
      "📂 Dossier : data/Violent-Flows\\frames\\football_crowds_cheering__FIFA_2010_USA_v_ENG_Dupont_Cirlce_Washington_DC__icallmyselfbria - 0 vidéos\n"
     ]
    },
    {
     "name": "stderr",
     "output_type": "stream",
     "text": [
      "0it [00:00, ?it/s]\n"
     ]
    },
    {
     "name": "stdout",
     "output_type": "stream",
     "text": [
      "📂 Dossier : data/Violent-Flows\\frames\\football_crowds_cheering__football_game__banonit123__m5pMOoPH21w - 0 vidéos\n"
     ]
    },
    {
     "name": "stderr",
     "output_type": "stream",
     "text": [
      "0it [00:00, ?it/s]\n"
     ]
    },
    {
     "name": "stdout",
     "output_type": "stream",
     "text": [
      "📂 Dossier : data/Violent-Flows\\frames\\football_crowds_cheering__Ghana_stars_in_heroes_reception__NTVKenya__RXQA-gagvKI - 0 vidéos\n"
     ]
    },
    {
     "name": "stderr",
     "output_type": "stream",
     "text": [
      "0it [00:00, ?it/s]\n"
     ]
    },
    {
     "name": "stdout",
     "output_type": "stream",
     "text": [
      "📂 Dossier : data/Violent-Flows\\frames\\football_crowds_cheering__Goldfellas_GT_vs_Maryland_1999_Crowd_Shot__tonyanddanielleoliva__xiCWDdaUSbg - 0 vidéos\n"
     ]
    },
    {
     "name": "stderr",
     "output_type": "stream",
     "text": [
      "0it [00:00, ?it/s]"
     ]
    },
    {
     "name": "stdout",
     "output_type": "stream",
     "text": [
      "📂 Dossier : data/Violent-Flows\\frames\\football_crowds_cheering__Hajduk_Split_vs_Dinamo_Zagreb_28_May_2009_Croatia_Cup_Final__jay - 0 vidéos"
     ]
    },
    {
     "name": "stderr",
     "output_type": "stream",
     "text": [
      "\n"
     ]
    },
    {
     "name": "stdout",
     "output_type": "stream",
     "text": [
      "\n"
     ]
    },
    {
     "name": "stderr",
     "output_type": "stream",
     "text": [
      "0it [00:00, ?it/s]\n"
     ]
    },
    {
     "name": "stdout",
     "output_type": "stream",
     "text": [
      "📂 Dossier : data/Violent-Flows\\frames\\football_crowds_cheering__Hamburg_Fan_Party_Opening_Match_World_Cup_2006__Dee162__6ROznW9c - 0 vidéos\n"
     ]
    },
    {
     "name": "stderr",
     "output_type": "stream",
     "text": [
      "0it [00:00, ?it/s]\n"
     ]
    },
    {
     "name": "stdout",
     "output_type": "stream",
     "text": [
      "📂 Dossier : data/Violent-Flows\\frames\\football_crowds_cheering__Human_LCD_Close_Up_Video_SOUTH_KOREA__rnqhdtnr__7Jgkm2pdWgY - 0 vidéos\n"
     ]
    },
    {
     "name": "stderr",
     "output_type": "stream",
     "text": [
      "0it [00:00, ?it/s]\n"
     ]
    },
    {
     "name": "stdout",
     "output_type": "stream",
     "text": [
      "📂 Dossier : data/Violent-Flows\\frames\\football_crowds_cheering__Inside_the_Iowa_Spirit_Squads__uimediaproduction__V365Mro2t88 - 0 vidéos\n"
     ]
    },
    {
     "name": "stderr",
     "output_type": "stream",
     "text": [
      "0it [00:00, ?it/s]\n"
     ]
    },
    {
     "name": "stdout",
     "output_type": "stream",
     "text": [
      "📂 Dossier : data/Violent-Flows\\frames\\football_crowds_cheering__IU_Football_travels_to_Michigan__wtiu__GkRsT40daQ0 - 0 vidéos\n"
     ]
    },
    {
     "name": "stderr",
     "output_type": "stream",
     "text": [
      "0it [00:00, ?it/s]\n"
     ]
    },
    {
     "name": "stdout",
     "output_type": "stream",
     "text": [
      "📂 Dossier : data/Violent-Flows\\frames\\football_crowds_cheering__I_O_W_A__temery16__EDS_jct18FA - 0 vidéos\n"
     ]
    },
    {
     "name": "stderr",
     "output_type": "stream",
     "text": [
      "0it [00:00, ?it/s]"
     ]
    },
    {
     "name": "stdout",
     "output_type": "stream",
     "text": [
      "📂 Dossier : data/Violent-Flows\\frames\\football_crowds_cheering__Jacksonville_Jaguar_Promo__joshlee1090__jIoVPOVXuww - 0 vidéos"
     ]
    },
    {
     "name": "stderr",
     "output_type": "stream",
     "text": [
      "\n"
     ]
    },
    {
     "name": "stdout",
     "output_type": "stream",
     "text": [
      "\n"
     ]
    },
    {
     "name": "stderr",
     "output_type": "stream",
     "text": [
      "0it [00:00, ?it/s]\n"
     ]
    },
    {
     "name": "stdout",
     "output_type": "stream",
     "text": [
      "📂 Dossier : data/Violent-Flows\\frames\\football_crowds_cheering__Jaguars_vs_Broncos_in_HD__misspfaff__LPM8ONCnh2g - 0 vidéos\n"
     ]
    },
    {
     "name": "stderr",
     "output_type": "stream",
     "text": [
      "0it [00:00, ?it/s]"
     ]
    },
    {
     "name": "stdout",
     "output_type": "stream",
     "text": [
      "📂 Dossier : data/Violent-Flows\\frames\\football_crowds_cheering__Jon_and_JJ_The_Elder_Crowd__jonandjj__NCFv0XMyvUk - 0 vidéos\n"
     ]
    },
    {
     "name": "stderr",
     "output_type": "stream",
     "text": [
      "\n",
      "0it [00:00, ?it/s]\n"
     ]
    },
    {
     "name": "stdout",
     "output_type": "stream",
     "text": [
      "📂 Dossier : data/Violent-Flows\\frames\\football_crowds_cheering__Kickoff_in_Camp_Randall__spt414__bEZahnaRpmQ - 0 vidéos\n"
     ]
    },
    {
     "name": "stderr",
     "output_type": "stream",
     "text": [
      "0it [00:00, ?it/s]\n"
     ]
    },
    {
     "name": "stdout",
     "output_type": "stream",
     "text": [
      "📂 Dossier : data/Violent-Flows\\frames\\football_crowds_cheering__K_State_fans_chant_WE_OWN_TEXAS__rockCHOKE21__YVr3IdD6rpY - 0 vidéos\n"
     ]
    },
    {
     "name": "stderr",
     "output_type": "stream",
     "text": [
      "0it [00:00, ?it/s]\n"
     ]
    },
    {
     "name": "stdout",
     "output_type": "stream",
     "text": [
      "📂 Dossier : data/Violent-Flows\\frames\\football_crowds_cheering__larson_is_welcomed_to_OT__mc4566__sBVBkxmK3VY - 0 vidéos\n"
     ]
    },
    {
     "name": "stderr",
     "output_type": "stream",
     "text": [
      "0it [00:00, ?it/s]"
     ]
    },
    {
     "name": "stdout",
     "output_type": "stream",
     "text": [
      "📂 Dossier : data/Violent-Flows\\frames\\football_crowds_cheering__LIVE_SQUAD_Morgan_State_University_Band_Pep_Club__DShock17__2x96 - 0 vidéos"
     ]
    },
    {
     "name": "stderr",
     "output_type": "stream",
     "text": [
      "\n"
     ]
    },
    {
     "name": "stdout",
     "output_type": "stream",
     "text": [
      "\n"
     ]
    },
    {
     "name": "stderr",
     "output_type": "stream",
     "text": [
      "0it [00:00, ?it/s]\n"
     ]
    },
    {
     "name": "stdout",
     "output_type": "stream",
     "text": [
      "📂 Dossier : data/Violent-Flows\\frames\\football_crowds_cheering__LSU_Game_Day__LSU__dyxtnGpQ3lg - 0 vidéos\n"
     ]
    },
    {
     "name": "stderr",
     "output_type": "stream",
     "text": [
      "0it [00:00, ?it/s]\n"
     ]
    },
    {
     "name": "stdout",
     "output_type": "stream",
     "text": [
      "📂 Dossier : data/Violent-Flows\\frames\\football_crowds_cheering__MAN_DROPS_BEER_STATE_OF_ORIGIN_2009__afhb2512__rLoVsCv00Ao - 0 vidéos\n"
     ]
    },
    {
     "name": "stderr",
     "output_type": "stream",
     "text": [
      "0it [00:00, ?it/s]\n"
     ]
    },
    {
     "name": "stdout",
     "output_type": "stream",
     "text": [
      "📂 Dossier : data/Violent-Flows\\frames\\football_crowds_cheering__mu_beats_ku_victory_celebration__brennanhobart__q7ANQ6HCRIU - 0 vidéos\n"
     ]
    },
    {
     "name": "stderr",
     "output_type": "stream",
     "text": [
      "0it [00:00, ?it/s]\n"
     ]
    },
    {
     "name": "stdout",
     "output_type": "stream",
     "text": [
      "📂 Dossier : data/Violent-Flows\\frames\\football_crowds_cheering__New_Mexico_Men_s_Soccer_Crowd_Atmosphere__menslobosoccer__us9aHz - 0 vidéos\n"
     ]
    },
    {
     "name": "stderr",
     "output_type": "stream",
     "text": [
      "0it [00:00, ?it/s]\n"
     ]
    },
    {
     "name": "stdout",
     "output_type": "stream",
     "text": [
      "📂 Dossier : data/Violent-Flows\\frames\\football_crowds_cheering__Oregon_Ducks_vs_USC_Trojans_10_31_09__thatssnorthwest__9f0fI4-sF - 0 vidéos\n"
     ]
    },
    {
     "name": "stderr",
     "output_type": "stream",
     "text": [
      "0it [00:00, ?it/s]\n"
     ]
    },
    {
     "name": "stdout",
     "output_type": "stream",
     "text": [
      "📂 Dossier : data/Violent-Flows\\frames\\football_crowds_cheering__Penn_State_Crowd__mam1042__-yp5n8JJ-zA - 0 vidéos\n"
     ]
    },
    {
     "name": "stderr",
     "output_type": "stream",
     "text": [
      "0it [00:00, ?it/s]\n"
     ]
    },
    {
     "name": "stdout",
     "output_type": "stream",
     "text": [
      "📂 Dossier : data/Violent-Flows\\frames\\football_crowds_cheering__rowdy_crowd_at_Football_game__andyisalive__RWnAoJdeXsE - 0 vidéos\n"
     ]
    },
    {
     "name": "stderr",
     "output_type": "stream",
     "text": [
      "0it [00:00, ?it/s]"
     ]
    },
    {
     "name": "stdout",
     "output_type": "stream",
     "text": [
      "📂 Dossier : data/Violent-Flows\\frames\\football_crowds_cheering__Sandy_Creek_High_School_Football__cartmanspeedzone__jpX-DHradPo - 0 vidéos"
     ]
    },
    {
     "name": "stderr",
     "output_type": "stream",
     "text": [
      "\n"
     ]
    },
    {
     "name": "stdout",
     "output_type": "stream",
     "text": [
      "\n"
     ]
    },
    {
     "name": "stderr",
     "output_type": "stream",
     "text": [
      "0it [00:00, ?it/s]\n"
     ]
    },
    {
     "name": "stdout",
     "output_type": "stream",
     "text": [
      "📂 Dossier : data/Violent-Flows\\frames\\football_crowds_cheering__Scenes_from_Friday_s_ESPN_College_Game_Day_at_UK__UKSGREAT__dXA5 - 0 vidéos\n"
     ]
    },
    {
     "name": "stderr",
     "output_type": "stream",
     "text": [
      "0it [00:00, ?it/s]\n"
     ]
    },
    {
     "name": "stdout",
     "output_type": "stream",
     "text": [
      "📂 Dossier : data/Violent-Flows\\frames\\football_crowds_cheering__Spartans_What_Is_Your_Profession_Chant__PaulWaLL4EvR__KeWNYvvINZ - 0 vidéos\n"
     ]
    },
    {
     "name": "stderr",
     "output_type": "stream",
     "text": [
      "0it [00:00, ?it/s]\n"
     ]
    },
    {
     "name": "stdout",
     "output_type": "stream",
     "text": [
      "📂 Dossier : data/Violent-Flows\\frames\\football_crowds_cheering__Sunderland_Goal_against_Wigan__adamfearman__yXSc-kCWBjY - 0 vidéos\n"
     ]
    },
    {
     "name": "stderr",
     "output_type": "stream",
     "text": [
      "0it [00:00, ?it/s]\n"
     ]
    },
    {
     "name": "stdout",
     "output_type": "stream",
     "text": [
      "📂 Dossier : data/Violent-Flows\\frames\\football_crowds_cheering__Tallest_Cup_Stack_in_Football_Fan_History__break__ofi003Eec_E - 0 vidéos\n"
     ]
    },
    {
     "name": "stderr",
     "output_type": "stream",
     "text": [
      "0it [00:00, ?it/s]"
     ]
    },
    {
     "name": "stdout",
     "output_type": "stream",
     "text": [
      "📂 Dossier : data/Violent-Flows\\frames\\football_crowds_cheering__TCU_Fans_Cheer_The_Biggest_Crowd_In_TCU_History_at_Amon_Carter_S - 0 vidéos"
     ]
    },
    {
     "name": "stderr",
     "output_type": "stream",
     "text": [
      "\n"
     ]
    },
    {
     "name": "stdout",
     "output_type": "stream",
     "text": [
      "\n"
     ]
    },
    {
     "name": "stderr",
     "output_type": "stream",
     "text": [
      "0it [00:00, ?it/s]\n"
     ]
    },
    {
     "name": "stdout",
     "output_type": "stream",
     "text": [
      "📂 Dossier : data/Violent-Flows\\frames\\football_crowds_cheering__The_Crowd__Rosiercentral__aqIzMGff5ak - 0 vidéos\n"
     ]
    },
    {
     "name": "stderr",
     "output_type": "stream",
     "text": [
      "0it [00:00, ?it/s]"
     ]
    },
    {
     "name": "stdout",
     "output_type": "stream",
     "text": [
      "📂 Dossier : data/Violent-Flows\\frames\\football_crowds_cheering__The_Greatest_Game_of_the_Year__MarcelloMussarela__lmJVKXUQPJA - 0 vidéos\n"
     ]
    },
    {
     "name": "stderr",
     "output_type": "stream",
     "text": [
      "\n",
      "0it [00:00, ?it/s]\n"
     ]
    },
    {
     "name": "stdout",
     "output_type": "stream",
     "text": [
      "📂 Dossier : data/Violent-Flows\\frames\\football_crowds_cheering__The_Ohio_State_University_Cheer__DEXTERTEEOHIO__FM9Jcpixqz0 - 0 vidéos\n"
     ]
    },
    {
     "name": "stderr",
     "output_type": "stream",
     "text": [
      "0it [00:00, ?it/s]\n"
     ]
    },
    {
     "name": "stdout",
     "output_type": "stream",
     "text": [
      "📂 Dossier : data/Violent-Flows\\frames\\football_crowds_cheering__The_Wave_at_The_Big_Game__contron__DBQaM3PVLqA - 0 vidéos\n"
     ]
    },
    {
     "name": "stderr",
     "output_type": "stream",
     "text": [
      "0it [00:00, ?it/s]\n"
     ]
    },
    {
     "name": "stdout",
     "output_type": "stream",
     "text": [
      "📂 Dossier : data/Violent-Flows\\frames\\football_crowds_cheering__Totally_Stupid_Footballers_Series_1_Episode_5_An_Ending_With_A_H - 0 vidéos\n"
     ]
    },
    {
     "name": "stderr",
     "output_type": "stream",
     "text": [
      "0it [00:00, ?it/s]\n"
     ]
    },
    {
     "name": "stdout",
     "output_type": "stream",
     "text": [
      "📂 Dossier : data/Violent-Flows\\frames\\football_crowds_cheering__UF_Cheering_style__Playersgod__RaBmHs4MdLo - 0 vidéos\n"
     ]
    },
    {
     "name": "stderr",
     "output_type": "stream",
     "text": [
      "0it [00:00, ?it/s]\n"
     ]
    },
    {
     "name": "stdout",
     "output_type": "stream",
     "text": [
      "📂 Dossier : data/Violent-Flows\\frames\\football_crowds_cheering__Vanier_Cup_2009_Queen_s_Gaels_vs_Calgary_Dinos_HD__Treps___J5TDF - 0 vidéos\n"
     ]
    },
    {
     "name": "stderr",
     "output_type": "stream",
     "text": [
      "0it [00:00, ?it/s]\n"
     ]
    },
    {
     "name": "stdout",
     "output_type": "stream",
     "text": [
      "📂 Dossier : data/Violent-Flows\\frames\\football_crowds_cheering__Varsity_Football_Cardinal_O_Hara_vs_Roman_Catholic__Varsity365__ - 0 vidéos\n"
     ]
    },
    {
     "name": "stderr",
     "output_type": "stream",
     "text": [
      "0it [00:00, ?it/s]"
     ]
    },
    {
     "name": "stdout",
     "output_type": "stream",
     "text": [
      "📂 Dossier : data/Violent-Flows\\frames\\football_crowds_cheering__Varsity_Football_Conestoga_at_Ridley__Varsity365__wR3tNpXRcYg - 0 vidéos"
     ]
    },
    {
     "name": "stderr",
     "output_type": "stream",
     "text": [
      "\n"
     ]
    },
    {
     "name": "stdout",
     "output_type": "stream",
     "text": [
      "\n"
     ]
    },
    {
     "name": "stderr",
     "output_type": "stream",
     "text": [
      "0it [00:00, ?it/s]\n"
     ]
    },
    {
     "name": "stdout",
     "output_type": "stream",
     "text": [
      "📂 Dossier : data/Violent-Flows\\frames\\football_crowds_cheering__Welcome_Home_ACC_Champions_part_A__jamesllvt__UGurBSFE8Es - 0 vidéos\n"
     ]
    },
    {
     "name": "stderr",
     "output_type": "stream",
     "text": [
      "0it [00:00, ?it/s]"
     ]
    },
    {
     "name": "stdout",
     "output_type": "stream",
     "text": [
      "📂 Dossier : data/Violent-Flows\\frames\\football_crowds_cheering__World_Cup_2010_Korea_vs_Uruguay_Han_River_Seoul_Korea_Ties_Game_ - 0 vidéos"
     ]
    },
    {
     "name": "stderr",
     "output_type": "stream",
     "text": [
      "\n"
     ]
    },
    {
     "name": "stdout",
     "output_type": "stream",
     "text": [
      "\n"
     ]
    },
    {
     "name": "stderr",
     "output_type": "stream",
     "text": [
      "0it [00:00, ?it/s]"
     ]
    },
    {
     "name": "stdout",
     "output_type": "stream",
     "text": [
      "📂 Dossier : data/Violent-Flows\\frames\\football_crowds_cheering__World_Cup_2010_Korea_vs_Uruguay_Han_River_Seoul_Pre_game__vivach - 0 vidéos"
     ]
    },
    {
     "name": "stderr",
     "output_type": "stream",
     "text": [
      "\n"
     ]
    },
    {
     "name": "stdout",
     "output_type": "stream",
     "text": [
      "\n"
     ]
    },
    {
     "name": "stderr",
     "output_type": "stream",
     "text": [
      "0it [00:00, ?it/s]"
     ]
    },
    {
     "name": "stdout",
     "output_type": "stream",
     "text": [
      "📂 Dossier : data/Violent-Flows\\frames\\football_crowds__2008_Penn_State_Football_Crowd_Pump_Up_Video__rmcmillen50__rQB1R - 0 vidéos\n"
     ]
    },
    {
     "name": "stderr",
     "output_type": "stream",
     "text": [
      "\n",
      "0it [00:00, ?it/s]\n"
     ]
    },
    {
     "name": "stdout",
     "output_type": "stream",
     "text": [
      "📂 Dossier : data/Violent-Flows\\frames\\football_crowds__Anglia_News_Sport_Soccer_Football_FIFA_South_Africa_World_Cup_2010_The_Vuvuzela__anglianewseast__3JrtWmyk-Do - 0 vidéos\n"
     ]
    },
    {
     "name": "stderr",
     "output_type": "stream",
     "text": [
      "0it [00:00, ?it/s]\n"
     ]
    },
    {
     "name": "stdout",
     "output_type": "stream",
     "text": [
      "📂 Dossier : data/Violent-Flows\\frames\\football_crowds__ASB_SHOW_HOMECOMING_VIDEO_2010__deweesbrofilms__RUAVfS2OyX0 - 0 vidéos\n"
     ]
    },
    {
     "name": "stderr",
     "output_type": "stream",
     "text": [
      "0it [00:00, ?it/s]\n"
     ]
    },
    {
     "name": "stdout",
     "output_type": "stream",
     "text": [
      "📂 Dossier : data/Violent-Flows\\frames\\football_crowds__Both_crowds_Boca_vs_Internacionale__HansieC__ramrVUP0W0k - 0 vidéos\n"
     ]
    },
    {
     "name": "stderr",
     "output_type": "stream",
     "text": [
      "0it [00:00, ?it/s]\n"
     ]
    },
    {
     "name": "stdout",
     "output_type": "stream",
     "text": [
      "📂 Dossier : data/Violent-Flows\\frames\\football_crowds__Brazilian_Football__WELLBRAN__kKRw-i7pukY - 0 vidéos\n"
     ]
    },
    {
     "name": "stderr",
     "output_type": "stream",
     "text": [
      "0it [00:00, ?it/s]\n"
     ]
    },
    {
     "name": "stdout",
     "output_type": "stream",
     "text": [
      "📂 Dossier : data/Violent-Flows\\frames\\football_crowds__Brisbane_Lions_vs_Melbourne_Demons_The_Gabba__StudyinBrisbane__Y - 0 vidéos\n"
     ]
    },
    {
     "name": "stderr",
     "output_type": "stream",
     "text": [
      "0it [00:00, ?it/s]"
     ]
    },
    {
     "name": "stdout",
     "output_type": "stream",
     "text": [
      "📂 Dossier : data/Violent-Flows\\frames\\football_crowds__Egypt_2_0_Algeria_World_Cup_2010__Azariful__joItnDgUGUc - 0 vidéos\n"
     ]
    },
    {
     "name": "stderr",
     "output_type": "stream",
     "text": [
      "\n",
      "0it [00:00, ?it/s]\n"
     ]
    },
    {
     "name": "stdout",
     "output_type": "stream",
     "text": [
      "📂 Dossier : data/Violent-Flows\\frames\\football_crowds__FIFA_World_Cup_The_Warriors_and_Magicians__SuperUdink__I2kOH7p48 - 0 vidéos\n"
     ]
    },
    {
     "name": "stderr",
     "output_type": "stream",
     "text": [
      "0it [00:00, ?it/s]\n"
     ]
    },
    {
     "name": "stdout",
     "output_type": "stream",
     "text": [
      "📂 Dossier : data/Violent-Flows\\frames\\football_crowds__football_crowds__Anglia_News_Sport_Soccer_Football_FIFA_South_Africa_World_Cup_20 - 0 vidéos\n"
     ]
    },
    {
     "name": "stderr",
     "output_type": "stream",
     "text": [
      "0it [00:00, ?it/s]\n"
     ]
    },
    {
     "name": "stdout",
     "output_type": "stream",
     "text": [
      "📂 Dossier : data/Violent-Flows\\frames\\football_crowds__F_A_Cup_Final_2010_Clips_Lifestyle_Video__JPettsProductions__Kvt - 0 vidéos\n"
     ]
    },
    {
     "name": "stderr",
     "output_type": "stream",
     "text": [
      "0it [00:00, ?it/s]\n"
     ]
    },
    {
     "name": "stdout",
     "output_type": "stream",
     "text": [
      "📂 Dossier : data/Violent-Flows\\frames\\football_crowds__Giants_of_Brazil_5_of_6__anandaliyanage__5tw2pojykz8 - 0 vidéos\n"
     ]
    },
    {
     "name": "stderr",
     "output_type": "stream",
     "text": [
      "0it [00:00, ?it/s]\n"
     ]
    },
    {
     "name": "stdout",
     "output_type": "stream",
     "text": [
      "📂 Dossier : data/Violent-Flows\\frames\\football_crowds__Giants_of_Brazil_6_of_6__anandaliyanage__lq-GBA34iEI - 0 vidéos\n"
     ]
    },
    {
     "name": "stderr",
     "output_type": "stream",
     "text": [
      "0it [00:00, ?it/s]\n"
     ]
    },
    {
     "name": "stdout",
     "output_type": "stream",
     "text": [
      "📂 Dossier : data/Violent-Flows\\frames\\football_crowds__HARRY_KEWELL_SCORES_CROWD_GO_NUTS__phillipstama__K7qlpU7tMhQ - 0 vidéos\n"
     ]
    },
    {
     "name": "stderr",
     "output_type": "stream",
     "text": [
      "0it [00:00, ?it/s]"
     ]
    },
    {
     "name": "stdout",
     "output_type": "stream",
     "text": [
      "📂 Dossier : data/Violent-Flows\\frames\\football_crowds__Inside_the_Iowa_Spirit_Squads__uimediaproduction__V365Mro2t88 - 0 vidéos\n"
     ]
    },
    {
     "name": "stderr",
     "output_type": "stream",
     "text": [
      "\n",
      "0it [00:00, ?it/s]\n"
     ]
    },
    {
     "name": "stdout",
     "output_type": "stream",
     "text": [
      "📂 Dossier : data/Violent-Flows\\frames\\football_crowds__Love_for_the_local_game__NTVKenya__52tfgLRJ2TA - 0 vidéos\n"
     ]
    },
    {
     "name": "stderr",
     "output_type": "stream",
     "text": [
      "0it [00:00, ?it/s]\n"
     ]
    },
    {
     "name": "stdout",
     "output_type": "stream",
     "text": [
      "📂 Dossier : data/Violent-Flows\\frames\\football_crowds__Love_is_in_the_air_DUFC_cup_final_Hampden_2010__tattoosyke__Afp7 - 0 vidéos\n"
     ]
    },
    {
     "name": "stderr",
     "output_type": "stream",
     "text": [
      "0it [00:00, ?it/s]\n"
     ]
    },
    {
     "name": "stdout",
     "output_type": "stream",
     "text": [
      "📂 Dossier : data/Violent-Flows\\frames\\football_crowds__Maracana_Football_Crowd_Atmosphere__thetravelmap__xfi3rvFKIPU - 0 vidéos\n"
     ]
    },
    {
     "name": "stderr",
     "output_type": "stream",
     "text": [
      "0it [00:00, ?it/s]\n"
     ]
    },
    {
     "name": "stdout",
     "output_type": "stream",
     "text": [
      "📂 Dossier : data/Violent-Flows\\frames\\football_crowds__Massena_Central_High_School_Hall_Of_Fame_Football_Game_2009__joh - 0 vidéos\n"
     ]
    },
    {
     "name": "stderr",
     "output_type": "stream",
     "text": [
      "0it [00:00, ?it/s]\n"
     ]
    },
    {
     "name": "stdout",
     "output_type": "stream",
     "text": [
      "📂 Dossier : data/Violent-Flows\\frames\\football_crowds__MaximsNewsNetwork_SUDAN_ELECTIONS_YASIR_ARMAN_OMAR_AL_BASHIR_UNM - 0 vidéos\n"
     ]
    },
    {
     "name": "stderr",
     "output_type": "stream",
     "text": [
      "0it [00:00, ?it/s]"
     ]
    },
    {
     "name": "stdout",
     "output_type": "stream",
     "text": [
      "📂 Dossier : data/Violent-Flows\\frames\\football_crowds__Nepal_U16_versus_Tajikistan_U16__ampr1150gs__xcn-9PxjnIE - 0 vidéos"
     ]
    },
    {
     "name": "stderr",
     "output_type": "stream",
     "text": [
      "\n"
     ]
    },
    {
     "name": "stdout",
     "output_type": "stream",
     "text": [
      "\n"
     ]
    },
    {
     "name": "stderr",
     "output_type": "stream",
     "text": [
      "0it [00:00, ?it/s]\n"
     ]
    },
    {
     "name": "stdout",
     "output_type": "stream",
     "text": [
      "📂 Dossier : data/Violent-Flows\\frames\\football_crowds__New_Mexico_Men_s_Soccer_Crowd_Atmosphere__menslobosoccer__us9aHz - 0 vidéos\n"
     ]
    },
    {
     "name": "stderr",
     "output_type": "stream",
     "text": [
      "0it [00:00, ?it/s]\n"
     ]
    },
    {
     "name": "stdout",
     "output_type": "stream",
     "text": [
      "📂 Dossier : data/Violent-Flows\\frames\\football_crowds__Poldi_Odonkor_und_Asamoah_singen_in_Berlin__indra1974__4TkcO2r0q - 0 vidéos\n"
     ]
    },
    {
     "name": "stderr",
     "output_type": "stream",
     "text": [
      "0it [00:00, ?it/s]"
     ]
    },
    {
     "name": "stdout",
     "output_type": "stream",
     "text": [
      "📂 Dossier : data/Violent-Flows\\frames\\football_crowds__rangers_v_celtic__Milneadona__OOWpL4wKIAA - 0 vidéos"
     ]
    },
    {
     "name": "stderr",
     "output_type": "stream",
     "text": [
      "\n"
     ]
    },
    {
     "name": "stdout",
     "output_type": "stream",
     "text": [
      "\n"
     ]
    },
    {
     "name": "stderr",
     "output_type": "stream",
     "text": [
      "0it [00:00, ?it/s]"
     ]
    },
    {
     "name": "stdout",
     "output_type": "stream",
     "text": [
      "📂 Dossier : data/Violent-Flows\\frames\\football_crowds__Spain_World_Cup_team_receives_hero_s_welcome__timesofearth__Pz3z - 0 vidéos\n"
     ]
    },
    {
     "name": "stderr",
     "output_type": "stream",
     "text": [
      "\n",
      "0it [00:00, ?it/s]\n"
     ]
    },
    {
     "name": "stdout",
     "output_type": "stream",
     "text": [
      "📂 Dossier : data/Violent-Flows\\frames\\football_crowds__USC_Football_Team_arriving_at_Lincoln_stadium_2007__jmsotojr__um - 0 vidéos\n"
     ]
    },
    {
     "name": "stderr",
     "output_type": "stream",
     "text": [
      "0it [00:00, ?it/s]\n"
     ]
    },
    {
     "name": "stdout",
     "output_type": "stream",
     "text": [
      "📂 Dossier : data/Violent-Flows\\frames\\football_crowds__Wrest_Point_Tassie_Devils_coming_off_the_field_in_their_final_ma - 0 vidéos\n"
     ]
    },
    {
     "name": "stderr",
     "output_type": "stream",
     "text": [
      "0it [00:00, ?it/s]\n"
     ]
    },
    {
     "name": "stdout",
     "output_type": "stream",
     "text": [
      "📂 Dossier : data/Violent-Flows\\frames\\football_fans__FootBall_Fans_Violence__xxxXLsDXxxx__EaCpQJLdxJ8 - 0 vidéos\n"
     ]
    },
    {
     "name": "stderr",
     "output_type": "stream",
     "text": [
      "0it [00:00, ?it/s]\n"
     ]
    },
    {
     "name": "stdout",
     "output_type": "stream",
     "text": [
      "📂 Dossier : data/Violent-Flows\\frames\\football_fans__Football_Hooligans__ELGmedia__7by8qY2C258 - 0 vidéos\n"
     ]
    },
    {
     "name": "stderr",
     "output_type": "stream",
     "text": [
      "0it [00:00, ?it/s]\n"
     ]
    },
    {
     "name": "stdout",
     "output_type": "stream",
     "text": [
      "📂 Dossier : data/Violent-Flows\\frames\\football_fans__World_football_compilation_ultras_players_hooligans_emotions__ex - 0 vidéos\n"
     ]
    },
    {
     "name": "stderr",
     "output_type": "stream",
     "text": [
      "0it [00:00, ?it/s]\n"
     ]
    },
    {
     "name": "stdout",
     "output_type": "stream",
     "text": [
      "📂 Dossier : data/Violent-Flows\\frames\\football_violence__Accidents_Fights_Violence_Tragedies_Hooligans_Football_Fights_HORRIBLE_THINGS__darkhero00__PgujG07PUq0 - 0 vidéos\n"
     ]
    },
    {
     "name": "stderr",
     "output_type": "stream",
     "text": [
      "0it [00:00, ?it/s]\n"
     ]
    },
    {
     "name": "stdout",
     "output_type": "stream",
     "text": [
      "📂 Dossier : data/Violent-Flows\\frames\\football_violence__ardcore_hooligans__bigmunro60__9tkj8gtIoNM - 0 vidéos\n"
     ]
    },
    {
     "name": "stderr",
     "output_type": "stream",
     "text": [
      "0it [00:00, ?it/s]"
     ]
    },
    {
     "name": "stdout",
     "output_type": "stream",
     "text": [
      "📂 Dossier : data/Violent-Flows\\frames\\football_violence__A_Town_Called_Football_by_Nil_Satis__louderthanyourface__Ptvoh4L_FxY - 0 vidéos"
     ]
    },
    {
     "name": "stderr",
     "output_type": "stream",
     "text": [
      "\n"
     ]
    },
    {
     "name": "stdout",
     "output_type": "stream",
     "text": [
      "\n"
     ]
    },
    {
     "name": "stderr",
     "output_type": "stream",
     "text": [
      "0it [00:00, ?it/s]\n"
     ]
    },
    {
     "name": "stdout",
     "output_type": "stream",
     "text": [
      "📂 Dossier : data/Violent-Flows\\frames\\football_violence__baseball_hockey_football_soccer_violence__Zetrom69__aQ5nh4xRak0 - 0 vidéos\n"
     ]
    },
    {
     "name": "stderr",
     "output_type": "stream",
     "text": [
      "0it [00:00, ?it/s]\n"
     ]
    },
    {
     "name": "stdout",
     "output_type": "stream",
     "text": [
      "📂 Dossier : data/Violent-Flows\\frames\\football_violence__British_Football_Hooligans_Mix_3__MorningGlory1997__kW23lUV6oFk - 0 vidéos\n"
     ]
    },
    {
     "name": "stderr",
     "output_type": "stream",
     "text": [
      "0it [00:00, ?it/s]\n"
     ]
    },
    {
     "name": "stdout",
     "output_type": "stream",
     "text": [
      "📂 Dossier : data/Violent-Flows\\frames\\football_violence__Brutal_fight_of_the_hooligans_in_Europe_Switzerland__CocaineBaron__VmPNqxBRRIQ - 0 vidéos\n"
     ]
    },
    {
     "name": "stderr",
     "output_type": "stream",
     "text": [
      "0it [00:00, ?it/s]\n"
     ]
    },
    {
     "name": "stdout",
     "output_type": "stream",
     "text": [
      "📂 Dossier : data/Violent-Flows\\frames\\football_violence__Brutal_fight_of_the_hooligans_in_Europe__CocaineBaron__ctbwtUZfhY4 - 0 vidéos\n"
     ]
    },
    {
     "name": "stderr",
     "output_type": "stream",
     "text": [
      "0it [00:00, ?it/s]"
     ]
    },
    {
     "name": "stdout",
     "output_type": "stream",
     "text": [
      "📂 Dossier : data/Violent-Flows\\frames\\football_violence__Danish_Hooligans_Exclusive_video__MosquitoTheRapist__t9IYNex9Nn4 - 0 vidéos\n"
     ]
    },
    {
     "name": "stderr",
     "output_type": "stream",
     "text": [
      "\n",
      "0it [00:00, ?it/s]\n"
     ]
    },
    {
     "name": "stdout",
     "output_type": "stream",
     "text": [
      "📂 Dossier : data/Violent-Flows\\frames\\football_violence__English_Football_Hooligans_Euro_2000__MorningGlory1997__6xAQGS0fodE - 0 vidéos\n"
     ]
    },
    {
     "name": "stderr",
     "output_type": "stream",
     "text": [
      "0it [00:00, ?it/s]"
     ]
    },
    {
     "name": "stdout",
     "output_type": "stream",
     "text": [
      "📂 Dossier : data/Violent-Flows\\frames\\football_violence__english_football_hooligans__ohnoherewego1234__ydTykaGO-Dg - 0 vidéos\n"
     ]
    },
    {
     "name": "stderr",
     "output_type": "stream",
     "text": [
      "\n",
      "0it [00:00, ?it/s]\n"
     ]
    },
    {
     "name": "stdout",
     "output_type": "stream",
     "text": [
      "📂 Dossier : data/Violent-Flows\\frames\\football_violence__English_Hooligans__JohnLaw__Wob3r1Leamw - 0 vidéos\n"
     ]
    },
    {
     "name": "stderr",
     "output_type": "stream",
     "text": [
      "0it [00:00, ?it/s]\n"
     ]
    },
    {
     "name": "stdout",
     "output_type": "stream",
     "text": [
      "📂 Dossier : data/Violent-Flows\\frames\\football_violence__Footballs_Blood_Sport_prt_1__Tramppercy__WSCF2iLuRyk - 0 vidéos\n"
     ]
    },
    {
     "name": "stderr",
     "output_type": "stream",
     "text": [
      "0it [00:00, ?it/s]\n"
     ]
    },
    {
     "name": "stdout",
     "output_type": "stream",
     "text": [
      "📂 Dossier : data/Violent-Flows\\frames\\football_violence__Football_Factory_PV_by_Daryl_T_Fave_Films_Clips__LogicBomb777__vnwttRPHdnw - 0 vidéos\n"
     ]
    },
    {
     "name": "stderr",
     "output_type": "stream",
     "text": [
      "0it [00:00, ?it/s]\n"
     ]
    },
    {
     "name": "stdout",
     "output_type": "stream",
     "text": [
      "📂 Dossier : data/Violent-Flows\\frames\\football_violence__Football_Hooligans_Cardiff_v_Barnsley_2003__MorningGlory1997__mSS7490HcJI - 0 vidéos\n"
     ]
    },
    {
     "name": "stderr",
     "output_type": "stream",
     "text": [
      "0it [00:00, ?it/s]"
     ]
    },
    {
     "name": "stdout",
     "output_type": "stream",
     "text": [
      "📂 Dossier : data/Violent-Flows\\frames\\football_violence__Football_Hooligans_Carlisle_v_Preston_1993__prestonparasoccer__JfLHSqKm9zg - 0 vidéos\n"
     ]
    },
    {
     "name": "stderr",
     "output_type": "stream",
     "text": [
      "\n",
      "0it [00:00, ?it/s]\n"
     ]
    },
    {
     "name": "stdout",
     "output_type": "stream",
     "text": [
      "📂 Dossier : data/Violent-Flows\\frames\\football_violence__Football_hooligans_fighting_in_Helsinki_WCQL_Finland_Russia__f43344__n3yajhkWI6w - 0 vidéos\n"
     ]
    },
    {
     "name": "stderr",
     "output_type": "stream",
     "text": [
      "0it [00:00, ?it/s]"
     ]
    },
    {
     "name": "stdout",
     "output_type": "stream",
     "text": [
      "📂 Dossier : data/Violent-Flows\\frames\\football_violence__Football_Hooligans_Finland_v_Russia_World_Cup_Qualifier_June_2009__lancashirelads__SmxsnplMtb8 - 0 vidéos\n"
     ]
    },
    {
     "name": "stderr",
     "output_type": "stream",
     "text": [
      "\n",
      "0it [00:00, ?it/s]"
     ]
    },
    {
     "name": "stdout",
     "output_type": "stream",
     "text": [
      "📂 Dossier : data/Violent-Flows\\frames\\football_violence__Football_Hooligans_Germany_v_Poland_Euro_2008__MorningGlory1997__gtaGluIXEaU - 0 vidéos\n"
     ]
    },
    {
     "name": "stderr",
     "output_type": "stream",
     "text": [
      "\n",
      "0it [00:00, ?it/s]\n"
     ]
    },
    {
     "name": "stdout",
     "output_type": "stream",
     "text": [
      "📂 Dossier : data/Violent-Flows\\frames\\football_violence__Football_Hooligans_Hull_Pub_Brawl_News_Report__lancashirelads__--3xfJHXlOc - 0 vidéos\n"
     ]
    },
    {
     "name": "stderr",
     "output_type": "stream",
     "text": [
      "0it [00:00, ?it/s]\n"
     ]
    },
    {
     "name": "stdout",
     "output_type": "stream",
     "text": [
      "📂 Dossier : data/Violent-Flows\\frames\\football_violence__Football_Hooligans_Leeds_v_Wolves_2005__MorningGlory1997__f66MTrNLPL0 - 0 vidéos\n"
     ]
    },
    {
     "name": "stderr",
     "output_type": "stream",
     "text": [
      "0it [00:00, ?it/s]"
     ]
    },
    {
     "name": "stdout",
     "output_type": "stream",
     "text": [
      "📂 Dossier : data/Violent-Flows\\frames\\football_violence__Football_Hooligans_Manchester_City_v_Manchester_United_1989__foothool__ISt-Ir7bb3Y - 0 vidéos"
     ]
    },
    {
     "name": "stderr",
     "output_type": "stream",
     "text": [
      "\n"
     ]
    },
    {
     "name": "stdout",
     "output_type": "stream",
     "text": [
      "\n"
     ]
    },
    {
     "name": "stderr",
     "output_type": "stream",
     "text": [
      "0it [00:00, ?it/s]"
     ]
    },
    {
     "name": "stdout",
     "output_type": "stream",
     "text": [
      "📂 Dossier : data/Violent-Flows\\frames\\football_violence__Football_Hooligans_Man_City_v_Man_United_1989__lancashirelads__r - 0 vidéos\n"
     ]
    },
    {
     "name": "stderr",
     "output_type": "stream",
     "text": [
      "\n",
      "0it [00:00, ?it/s]\n"
     ]
    },
    {
     "name": "stdout",
     "output_type": "stream",
     "text": [
      "📂 Dossier : data/Violent-Flows\\frames\\football_violence__Football_Hooligans_Millwall_Compilation__MorningGlory1997__U-CsDQik3sw - 0 vidéos\n"
     ]
    },
    {
     "name": "stderr",
     "output_type": "stream",
     "text": [
      "0it [00:00, ?it/s]\n"
     ]
    },
    {
     "name": "stdout",
     "output_type": "stream",
     "text": [
      "📂 Dossier : data/Violent-Flows\\frames\\football_violence__Football_Hooligans_Preston_North_End_Mix__prestonparasoccer__qwrOc8xmlpY - 0 vidéos\n"
     ]
    },
    {
     "name": "stderr",
     "output_type": "stream",
     "text": [
      "0it [00:00, ?it/s]\n"
     ]
    },
    {
     "name": "stdout",
     "output_type": "stream",
     "text": [
      "📂 Dossier : data/Violent-Flows\\frames\\football_violence__Football_Hooligans_QPR_v_Luton_St_Pancras__prestonparasoccer__DNL6VlA3hnQ - 0 vidéos\n"
     ]
    },
    {
     "name": "stderr",
     "output_type": "stream",
     "text": [
      "0it [00:00, ?it/s]\n"
     ]
    },
    {
     "name": "stdout",
     "output_type": "stream",
     "text": [
      "📂 Dossier : data/Violent-Flows\\frames\\football_violence__Football_Hooligans_Russia_v_England_News_Report__prestonparasocc - 0 vidéos\n"
     ]
    },
    {
     "name": "stderr",
     "output_type": "stream",
     "text": [
      "0it [00:00, ?it/s]\n"
     ]
    },
    {
     "name": "stdout",
     "output_type": "stream",
     "text": [
      "📂 Dossier : data/Violent-Flows\\frames\\football_violence__Football_hooligans_Watford_Luton_2002__MrSmasherlad__ClZOLHYj_7Y - 0 vidéos\n"
     ]
    },
    {
     "name": "stderr",
     "output_type": "stream",
     "text": [
      "0it [00:00, ?it/s]\n"
     ]
    },
    {
     "name": "stdout",
     "output_type": "stream",
     "text": [
      "📂 Dossier : data/Violent-Flows\\frames\\football_violence__Football_Hooligans_Watford_v_Luton_2002_Version_1__MorningGlory1997__vLOTaR9eMlg - 0 vidéos\n"
     ]
    },
    {
     "name": "stderr",
     "output_type": "stream",
     "text": [
      "0it [00:00, ?it/s]"
     ]
    },
    {
     "name": "stdout",
     "output_type": "stream",
     "text": [
      "📂 Dossier : data/Violent-Flows\\frames\\football_violence__football_match_violence__mld0491__WL6AUKgOYSs - 0 vidéos"
     ]
    },
    {
     "name": "stderr",
     "output_type": "stream",
     "text": [
      "\n"
     ]
    },
    {
     "name": "stdout",
     "output_type": "stream",
     "text": [
      "\n"
     ]
    },
    {
     "name": "stderr",
     "output_type": "stream",
     "text": [
      "0it [00:00, ?it/s]\n"
     ]
    },
    {
     "name": "stdout",
     "output_type": "stream",
     "text": [
      "📂 Dossier : data/Violent-Flows\\frames\\football_violence__Football_Soccer_Hooligans_Movie_Scenes__mclarenfan04__KHP6fQdrFlE - 0 vidéos\n"
     ]
    },
    {
     "name": "stderr",
     "output_type": "stream",
     "text": [
      "0it [00:00, ?it/s]"
     ]
    },
    {
     "name": "stdout",
     "output_type": "stream",
     "text": [
      "📂 Dossier : data/Violent-Flows\\frames\\football_violence__Football_violence_3__reklamomand__SjUBX5K5QRo - 0 vidéos"
     ]
    },
    {
     "name": "stderr",
     "output_type": "stream",
     "text": [
      "\n"
     ]
    },
    {
     "name": "stdout",
     "output_type": "stream",
     "text": [
      "\n"
     ]
    },
    {
     "name": "stderr",
     "output_type": "stream",
     "text": [
      "0it [00:00, ?it/s]\n"
     ]
    },
    {
     "name": "stdout",
     "output_type": "stream",
     "text": [
      "📂 Dossier : data/Violent-Flows\\frames\\football_violence__Football_Violence_Gais_AIK_2005__spliffpolitics__e4xiTNkfN0U - 0 vidéos\n"
     ]
    },
    {
     "name": "stderr",
     "output_type": "stream",
     "text": [
      "0it [00:00, ?it/s]\n"
     ]
    },
    {
     "name": "stdout",
     "output_type": "stream",
     "text": [
      "📂 Dossier : data/Violent-Flows\\frames\\football_violence__football_violence__Brannik_Football_Violence__Elbsturm1488__7NyYlQX-tiI - 0 vidéos\n"
     ]
    },
    {
     "name": "stderr",
     "output_type": "stream",
     "text": [
      "0it [00:00, ?it/s]\n"
     ]
    },
    {
     "name": "stdout",
     "output_type": "stream",
     "text": [
      "📂 Dossier : data/Violent-Flows\\frames\\football_violence__Football_violence__lamufle__ucUm3sb39Cs - 0 vidéos\n"
     ]
    },
    {
     "name": "stderr",
     "output_type": "stream",
     "text": [
      "0it [00:00, ?it/s]\n"
     ]
    },
    {
     "name": "stdout",
     "output_type": "stream",
     "text": [
      "📂 Dossier : data/Violent-Flows\\frames\\football_violence__FUCK_YOU_FOOTBALL_HOOLIGANS_FRENZY_PART1_SCOTLAND__W00FAM__Yy73o - 0 vidéos\n"
     ]
    },
    {
     "name": "stderr",
     "output_type": "stream",
     "text": [
      "0it [00:00, ?it/s]\n"
     ]
    },
    {
     "name": "stdout",
     "output_type": "stream",
     "text": [
      "📂 Dossier : data/Violent-Flows\\frames\\football_violence__FUCK_YOU_FOOTBALL_HOOLIGANS_RUSSIA_and_UKRAINE_part1__W00FAM__DB - 0 vidéos\n"
     ]
    },
    {
     "name": "stderr",
     "output_type": "stream",
     "text": [
      "0it [00:00, ?it/s]\n"
     ]
    },
    {
     "name": "stdout",
     "output_type": "stream",
     "text": [
      "📂 Dossier : data/Violent-Flows\\frames\\football_violence__Hooligans_no_talk_just_fights_docu_part_04__haagsejef23__GcP3SiwkmGo - 0 vidéos\n"
     ]
    },
    {
     "name": "stderr",
     "output_type": "stream",
     "text": [
      "0it [00:00, ?it/s]\n"
     ]
    },
    {
     "name": "stdout",
     "output_type": "stream",
     "text": [
      "📂 Dossier : data/Violent-Flows\\frames\\football_violence__Hooligans_no_talk_just_fights_docu_part_09__haagsejef23__kRlCAD-3H40 - 0 vidéos\n"
     ]
    },
    {
     "name": "stderr",
     "output_type": "stream",
     "text": [
      "0it [00:00, ?it/s]\n"
     ]
    },
    {
     "name": "stdout",
     "output_type": "stream",
     "text": [
      "📂 Dossier : data/Violent-Flows\\frames\\football_violence__HOOLIGANS__mscs01__YWE3lKNm8aA - 0 vidéos\n"
     ]
    },
    {
     "name": "stderr",
     "output_type": "stream",
     "text": [
      "0it [00:00, ?it/s]\n"
     ]
    },
    {
     "name": "stdout",
     "output_type": "stream",
     "text": [
      "📂 Dossier : data/Violent-Flows\\frames\\football_violence__Polish_Hooligans__tigardojaja__YLSsmo2Glyk - 0 vidéos\n"
     ]
    },
    {
     "name": "stderr",
     "output_type": "stream",
     "text": [
      "0it [00:00, ?it/s]"
     ]
    },
    {
     "name": "stdout",
     "output_type": "stream",
     "text": [
      "📂 Dossier : data/Violent-Flows\\frames\\football_violence__project_d_football_violence__henkiejwt__MFDeI2bK2Pk - 0 vidéos\n"
     ]
    },
    {
     "name": "stderr",
     "output_type": "stream",
     "text": [
      "\n",
      "0it [00:00, ?it/s]\n"
     ]
    },
    {
     "name": "stdout",
     "output_type": "stream",
     "text": [
      "📂 Dossier : data/Violent-Flows\\frames\\football_violence__Roma_vs_Man_United_Police_violence_DANISH_TV__7Anotnac7__gIfgEwL - 0 vidéos\n"
     ]
    },
    {
     "name": "stderr",
     "output_type": "stream",
     "text": [
      "0it [00:00, ?it/s]"
     ]
    },
    {
     "name": "stdout",
     "output_type": "stream",
     "text": [
      "📂 Dossier : data/Violent-Flows\\frames\\football_violence__Violence_and_fascism_in_Ukrainian_football__soroktri43__eG8qryFn - 0 vidéos\n"
     ]
    },
    {
     "name": "stderr",
     "output_type": "stream",
     "text": [
      "\n",
      "0it [00:00, ?it/s]"
     ]
    },
    {
     "name": "stdout",
     "output_type": "stream",
     "text": [
      "📂 Dossier : data/Violent-Flows\\frames\\group_violence__group_violence__football_violence__aliiie__qfKD35PYwok - 0 vidéos"
     ]
    },
    {
     "name": "stderr",
     "output_type": "stream",
     "text": [
      "\n"
     ]
    },
    {
     "name": "stdout",
     "output_type": "stream",
     "text": [
      "\n"
     ]
    },
    {
     "name": "stderr",
     "output_type": "stream",
     "text": [
      "0it [00:00, ?it/s]"
     ]
    },
    {
     "name": "stdout",
     "output_type": "stream",
     "text": [
      "📂 Dossier : data/Violent-Flows\\frames\\Hooligans_violence__5x5_russian_hooligans_fight__Parkhom__GnfpwW6sMkc - 0 vidéos"
     ]
    },
    {
     "name": "stderr",
     "output_type": "stream",
     "text": [
      "\n"
     ]
    },
    {
     "name": "stdout",
     "output_type": "stream",
     "text": [
      "\n"
     ]
    },
    {
     "name": "stderr",
     "output_type": "stream",
     "text": [
      "0it [00:00, ?it/s]\n"
     ]
    },
    {
     "name": "stdout",
     "output_type": "stream",
     "text": [
      "📂 Dossier : data/Violent-Flows\\frames\\Hooligans_violence__Accidents_Fights_Violence_Tragedies_Hooligans_Football_Fights_HORRIBLE_THINGS__darkhero00__PgujG07PUq0 - 0 vidéos\n"
     ]
    },
    {
     "name": "stderr",
     "output_type": "stream",
     "text": [
      "0it [00:00, ?it/s]\n"
     ]
    },
    {
     "name": "stdout",
     "output_type": "stream",
     "text": [
      "📂 Dossier : data/Violent-Flows\\frames\\Hooligans_violence__ACHTUNG_skinheads_hooligans__WHITENGEL1488__H2xnId9vOo0 - 0 vidéos\n"
     ]
    },
    {
     "name": "stderr",
     "output_type": "stream",
     "text": [
      "0it [00:00, ?it/s]\n"
     ]
    },
    {
     "name": "stdout",
     "output_type": "stream",
     "text": [
      "📂 Dossier : data/Violent-Flows\\frames\\Hooligans_violence__Croatia_Hooligans__EXB04__JQrSRtqoU_I - 0 vidéos\n"
     ]
    },
    {
     "name": "stderr",
     "output_type": "stream",
     "text": [
      "0it [00:00, ?it/s]"
     ]
    },
    {
     "name": "stdout",
     "output_type": "stream",
     "text": [
      "📂 Dossier : data/Violent-Flows\\frames\\Hooligans_violence__English_Hooligans__JohnLaw__Wob3r1Leamw - 0 vidéos"
     ]
    },
    {
     "name": "stderr",
     "output_type": "stream",
     "text": [
      "\n"
     ]
    },
    {
     "name": "stdout",
     "output_type": "stream",
     "text": [
      "\n"
     ]
    },
    {
     "name": "stderr",
     "output_type": "stream",
     "text": [
      "0it [00:00, ?it/s]"
     ]
    },
    {
     "name": "stdout",
     "output_type": "stream",
     "text": [
      "📂 Dossier : data/Violent-Flows\\frames\\Hooligans_violence__FENERBAHCE_ULTRAS_VS_COPS_VIOLENCE_RIOT__2maxpower1453__e7Bv5fTB - 0 vidéos"
     ]
    },
    {
     "name": "stderr",
     "output_type": "stream",
     "text": [
      "\n"
     ]
    },
    {
     "name": "stdout",
     "output_type": "stream",
     "text": [
      "\n"
     ]
    },
    {
     "name": "stderr",
     "output_type": "stream",
     "text": [
      "0it [00:00, ?it/s]\n"
     ]
    },
    {
     "name": "stdout",
     "output_type": "stream",
     "text": [
      "📂 Dossier : data/Violent-Flows\\frames\\Hooligans_violence__Footballs_Blood_Sport_prt2__Tramppercy__P9a6qZ3r90k - 0 vidéos\n"
     ]
    },
    {
     "name": "stderr",
     "output_type": "stream",
     "text": [
      "0it [00:00, ?it/s]\n"
     ]
    },
    {
     "name": "stdout",
     "output_type": "stream",
     "text": [
      "📂 Dossier : data/Violent-Flows\\frames\\Hooligans_violence__Football_Hooligans_Carlisle_v_Preston_1993__prestonparasoccer__J - 0 vidéos\n"
     ]
    },
    {
     "name": "stderr",
     "output_type": "stream",
     "text": [
      "0it [00:00, ?it/s]\n"
     ]
    },
    {
     "name": "stdout",
     "output_type": "stream",
     "text": [
      "📂 Dossier : data/Violent-Flows\\frames\\Hooligans_violence__Football_Hooligans_Finland_v_Russia_World_Cup_Qualifier_June_2009__lancashirelads__SmxsnplMtb8 - 0 vidéos\n"
     ]
    },
    {
     "name": "stderr",
     "output_type": "stream",
     "text": [
      "0it [00:00, ?it/s]\n"
     ]
    },
    {
     "name": "stdout",
     "output_type": "stream",
     "text": [
      "📂 Dossier : data/Violent-Flows\\frames\\Hooligans_violence__Football_Hooligans_Germany_v_Poland_Euro_2008__MorningGlory1997__gtaGluIXEaU - 0 vidéos\n"
     ]
    },
    {
     "name": "stderr",
     "output_type": "stream",
     "text": [
      "0it [00:00, ?it/s]"
     ]
    },
    {
     "name": "stdout",
     "output_type": "stream",
     "text": [
      "📂 Dossier : data/Violent-Flows\\frames\\Hooligans_violence__Football_Hooligans_Hull_Pub_Brawl_News_Report__lancashirelads__--3xfJHXlOc - 0 vidéos"
     ]
    },
    {
     "name": "stderr",
     "output_type": "stream",
     "text": [
      "\n"
     ]
    },
    {
     "name": "stdout",
     "output_type": "stream",
     "text": [
      "\n"
     ]
    },
    {
     "name": "stderr",
     "output_type": "stream",
     "text": [
      "0it [00:00, ?it/s]\n"
     ]
    },
    {
     "name": "stdout",
     "output_type": "stream",
     "text": [
      "📂 Dossier : data/Violent-Flows\\frames\\Hooligans_violence__Football_Hooligans_Preston_V_Bradford_2003__eliteborg__NLtW_TzoQm4 - 0 vidéos\n"
     ]
    },
    {
     "name": "stderr",
     "output_type": "stream",
     "text": [
      "0it [00:00, ?it/s]"
     ]
    },
    {
     "name": "stdout",
     "output_type": "stream",
     "text": [
      "📂 Dossier : data/Violent-Flows\\frames\\Hooligans_violence__Football_Hooligans_QPR_v_Luton_St_Pancras__prestonparasoccer__DNL6VlA3hnQ - 0 vidéos\n"
     ]
    },
    {
     "name": "stderr",
     "output_type": "stream",
     "text": [
      "\n",
      "0it [00:00, ?it/s]"
     ]
    },
    {
     "name": "stdout",
     "output_type": "stream",
     "text": [
      "📂 Dossier : data/Violent-Flows\\frames\\Hooligans_violence__Football_hooligans_Reading_Swansea_1993__MrSmasherlad__9I7MpDQc82k - 0 vidéos"
     ]
    },
    {
     "name": "stderr",
     "output_type": "stream",
     "text": [
      "\n"
     ]
    },
    {
     "name": "stdout",
     "output_type": "stream",
     "text": [
      "\n"
     ]
    },
    {
     "name": "stderr",
     "output_type": "stream",
     "text": [
      "0it [00:00, ?it/s]\n"
     ]
    },
    {
     "name": "stdout",
     "output_type": "stream",
     "text": [
      "📂 Dossier : data/Violent-Flows\\frames\\Hooligans_violence__FOOTBALL_HOOLIGANS_WEST_HAM_v_MILLWALL_AUGUST_2009_LONGER_VERSIO - 0 vidéos\n"
     ]
    },
    {
     "name": "stderr",
     "output_type": "stream",
     "text": [
      "0it [00:00, ?it/s]\n"
     ]
    },
    {
     "name": "stdout",
     "output_type": "stream",
     "text": [
      "📂 Dossier : data/Violent-Flows\\frames\\Hooligans_violence__Fuck_police_Let_s_riot__tigerland2222__Q2k-ZHCZBAk - 0 vidéos\n"
     ]
    },
    {
     "name": "stderr",
     "output_type": "stream",
     "text": [
      "0it [00:00, ?it/s]\n"
     ]
    },
    {
     "name": "stdout",
     "output_type": "stream",
     "text": [
      "📂 Dossier : data/Violent-Flows\\frames\\Hooligans_violence__FUCK_YOU_FOOTBALL_HOOLIGANS_RUSSIA_and_UKRAINE_part1__W00FAM__DB9PSdrfulE - 0 vidéos\n"
     ]
    },
    {
     "name": "stderr",
     "output_type": "stream",
     "text": [
      "0it [00:00, ?it/s]\n"
     ]
    },
    {
     "name": "stdout",
     "output_type": "stream",
     "text": [
      "📂 Dossier : data/Violent-Flows\\frames\\Hooligans_violence__Hooligans_Untold_Story_Part_2__UltrasHooligansFilms__BXBtZwzv3EI - 0 vidéos\n"
     ]
    },
    {
     "name": "stderr",
     "output_type": "stream",
     "text": [
      "0it [00:00, ?it/s]\n"
     ]
    },
    {
     "name": "stdout",
     "output_type": "stream",
     "text": [
      "📂 Dossier : data/Violent-Flows\\frames\\Hooligans_violence__Hooligans_violence__BRANNIK_football_violence__KD666999__YTqe4xf5o6U - 0 vidéos\n"
     ]
    },
    {
     "name": "stderr",
     "output_type": "stream",
     "text": [
      "0it [00:00, ?it/s]\n"
     ]
    },
    {
     "name": "stdout",
     "output_type": "stream",
     "text": [
      "📂 Dossier : data/Violent-Flows\\frames\\Hooligans_violence__Hooligans_war_in_Russian_vk__artemorlik__6UNj6fEgz8U - 0 vidéos\n"
     ]
    },
    {
     "name": "stderr",
     "output_type": "stream",
     "text": [
      "0it [00:00, ?it/s]\n"
     ]
    },
    {
     "name": "stdout",
     "output_type": "stream",
     "text": [
      "📂 Dossier : data/Violent-Flows\\frames\\Hooligans_violence__I_D_Trailer__ImLonelyLinda__5Y26VMm4L7o - 0 vidéos\n"
     ]
    },
    {
     "name": "stderr",
     "output_type": "stream",
     "text": [
      "0it [00:00, ?it/s]\n"
     ]
    },
    {
     "name": "stdout",
     "output_type": "stream",
     "text": [
      "📂 Dossier : data/Violent-Flows\\frames\\Hooligans_violence__Koudlam_See_you_All__panrecord__nFWgiZxnz7o - 0 vidéos\n"
     ]
    },
    {
     "name": "stderr",
     "output_type": "stream",
     "text": [
      "0it [00:00, ?it/s]\n"
     ]
    },
    {
     "name": "stdout",
     "output_type": "stream",
     "text": [
      "📂 Dossier : data/Violent-Flows\\frames\\Hooligans_violence__Polish_Hooligans__tigardojaja__YLSsmo2Glyk - 0 vidéos\n"
     ]
    },
    {
     "name": "stderr",
     "output_type": "stream",
     "text": [
      "0it [00:00, ?it/s]"
     ]
    },
    {
     "name": "stdout",
     "output_type": "stream",
     "text": [
      "📂 Dossier : data/Violent-Flows\\frames\\Hooligans_violence__Russian_Hooligans_Zenit_St_Petersburg__LordXavior__iMjISeT72vQ - 0 vidéos\n"
     ]
    },
    {
     "name": "stderr",
     "output_type": "stream",
     "text": [
      "\n",
      "0it [00:00, ?it/s]"
     ]
    },
    {
     "name": "stdout",
     "output_type": "stream",
     "text": [
      "📂 Dossier : data/Violent-Flows\\frames\\Hooligans_violence__The_Best_Fans_in_the_World_Part_4_Hooligans__crvenobeli__3mXS25x - 0 vidéos"
     ]
    },
    {
     "name": "stderr",
     "output_type": "stream",
     "text": [
      "\n"
     ]
    },
    {
     "name": "stdout",
     "output_type": "stream",
     "text": [
      "\n"
     ]
    },
    {
     "name": "stderr",
     "output_type": "stream",
     "text": [
      "0it [00:00, ?it/s]\n"
     ]
    },
    {
     "name": "stdout",
     "output_type": "stream",
     "text": [
      "📂 Dossier : data/Violent-Flows\\frames\\Hooligans_violence__Torcida_do_Flamengo_x_PM_na_Final_da_Copa_do_Brasil__craigrj__kK - 0 vidéos\n"
     ]
    },
    {
     "name": "stderr",
     "output_type": "stream",
     "text": [
      "0it [00:00, ?it/s]\n"
     ]
    },
    {
     "name": "stdout",
     "output_type": "stream",
     "text": [
      "📂 Dossier : data/Violent-Flows\\frames\\peaceful_football_crowds__MaximsNewsNetwork_SUDAN_ELECTIONS_YASIR_ARMAN_OMAR_AL_BASHIR_UNM - 0 vidéos\n"
     ]
    },
    {
     "name": "stderr",
     "output_type": "stream",
     "text": [
      "0it [00:00, ?it/s]"
     ]
    },
    {
     "name": "stdout",
     "output_type": "stream",
     "text": [
      "📂 Dossier : data/Violent-Flows\\frames\\soccer_violence__Chinese_kungfu_soccer__crazyzibe__Gsrc7AXC_kI - 0 vidéos\n"
     ]
    },
    {
     "name": "stderr",
     "output_type": "stream",
     "text": [
      "\n",
      "0it [00:00, ?it/s]"
     ]
    },
    {
     "name": "stdout",
     "output_type": "stream",
     "text": [
      "📂 Dossier : data/Violent-Flows\\frames\\soccer_violence__FENERBAHCE_ULTRAS_VS_COPS_VIOLENCE_RIOT__2maxpower1453__e7Bv5fTB - 0 vidéos"
     ]
    },
    {
     "name": "stderr",
     "output_type": "stream",
     "text": [
      "\n"
     ]
    },
    {
     "name": "stdout",
     "output_type": "stream",
     "text": [
      "\n"
     ]
    },
    {
     "name": "stderr",
     "output_type": "stream",
     "text": [
      "0it [00:00, ?it/s]\n"
     ]
    },
    {
     "name": "stdout",
     "output_type": "stream",
     "text": [
      "📂 Dossier : data/Violent-Flows\\frames\\soccer_violence__Football_Hooligans_Preston_North_End_Mix__prestonparasoccer__qwr - 0 vidéos\n"
     ]
    },
    {
     "name": "stderr",
     "output_type": "stream",
     "text": [
      "0it [00:00, ?it/s]\n"
     ]
    },
    {
     "name": "stdout",
     "output_type": "stream",
     "text": [
      "📂 Dossier : data/Violent-Flows\\frames\\soccer_violence__Football_riots__madlu__OpgL3ZlF-gg - 0 vidéos\n"
     ]
    },
    {
     "name": "stderr",
     "output_type": "stream",
     "text": [
      "0it [00:00, ?it/s]"
     ]
    },
    {
     "name": "stdout",
     "output_type": "stream",
     "text": [
      "📂 Dossier : data/Violent-Flows\\frames\\soccer_violence__FOOTBALL_WARS__negronera18__JRyQYbq9Zr4 - 0 vidéos"
     ]
    },
    {
     "name": "stderr",
     "output_type": "stream",
     "text": [
      "\n"
     ]
    },
    {
     "name": "stdout",
     "output_type": "stream",
     "text": [
      "\n"
     ]
    },
    {
     "name": "stderr",
     "output_type": "stream",
     "text": [
      "0it [00:00, ?it/s]\n"
     ]
    },
    {
     "name": "stdout",
     "output_type": "stream",
     "text": [
      "📂 Dossier : data/Violent-Flows\\frames\\soccer_violence__HOOLIGANS__mscs01__YWE3lKNm8aA - 0 vidéos\n"
     ]
    },
    {
     "name": "stderr",
     "output_type": "stream",
     "text": [
      "0it [00:00, ?it/s]\n"
     ]
    },
    {
     "name": "stdout",
     "output_type": "stream",
     "text": [
      "📂 Dossier : data/Violent-Flows\\frames\\soccer_violence__hu_hu_hu_hooligans__misom0000__w_p6cBeTHkg - 0 vidéos\n"
     ]
    },
    {
     "name": "stderr",
     "output_type": "stream",
     "text": [
      "0it [00:00, ?it/s]\n"
     ]
    },
    {
     "name": "stdout",
     "output_type": "stream",
     "text": [
      "📂 Dossier : data/Violent-Flows\\frames\\soccer_violence__MORTAL_SOCCER_Part_2__sha3booola__H6iKYprpB30 - 0 vidéos\n"
     ]
    },
    {
     "name": "stderr",
     "output_type": "stream",
     "text": [
      "0it [00:00, ?it/s]\n"
     ]
    },
    {
     "name": "stdout",
     "output_type": "stream",
     "text": [
      "📂 Dossier : data/Violent-Flows\\frames\\soccer_violence__SCC_gets_owned_by_real_football_fans__JayFCAK47__32N5pojPfV8 - 0 vidéos\n"
     ]
    },
    {
     "name": "stderr",
     "output_type": "stream",
     "text": [
      "0it [00:00, ?it/s]\n"
     ]
    },
    {
     "name": "stdout",
     "output_type": "stream",
     "text": [
      "📂 Dossier : data/Violent-Flows\\frames\\soccer_violence__Soccer_Hooligans_Clash_Unbelievable_Rumble__OrionEdWood__8DCP_E_J8A0 - 0 vidéos\n"
     ]
    },
    {
     "name": "stderr",
     "output_type": "stream",
     "text": [
      "0it [00:00, ?it/s]"
     ]
    },
    {
     "name": "stdout",
     "output_type": "stream",
     "text": [
      "📂 Dossier : data/Violent-Flows\\frames\\stadium_crowds__2008_Penn_State_Football_Crowd_Pump_Up_Video__rmcmillen50__rQB1R - 0 vidéos\n"
     ]
    },
    {
     "name": "stderr",
     "output_type": "stream",
     "text": [
      "\n",
      "0it [00:00, ?it/s]\n"
     ]
    },
    {
     "name": "stdout",
     "output_type": "stream",
     "text": [
      "📂 Dossier : data/Violent-Flows\\frames\\stadium_crowds__2010_Probowl__SuperBowlWayne64__5aG92ySPbag - 0 vidéos\n"
     ]
    },
    {
     "name": "stderr",
     "output_type": "stream",
     "text": [
      "0it [00:00, ?it/s]\n"
     ]
    },
    {
     "name": "stdout",
     "output_type": "stream",
     "text": [
      "📂 Dossier : data/Violent-Flows\\frames\\stadium_crowds__50000_people_in_a_stadium__simoncharlesspencerg__fLKom2IbDlg - 0 vidéos\n"
     ]
    },
    {
     "name": "stderr",
     "output_type": "stream",
     "text": [
      "0it [00:00, ?it/s]\n"
     ]
    },
    {
     "name": "stdout",
     "output_type": "stream",
     "text": [
      "📂 Dossier : data/Violent-Flows\\frames\\stadium_crowds__Azan_el_Maghrib_to_calm_the_crowds_in_Cairo_stadium_Egypt_14_nov - 0 vidéos\n"
     ]
    },
    {
     "name": "stderr",
     "output_type": "stream",
     "text": [
      "0it [00:00, ?it/s]"
     ]
    },
    {
     "name": "stdout",
     "output_type": "stream",
     "text": [
      "📂 Dossier : data/Violent-Flows\\frames\\stadium_crowds__Bands_talk_about_their_influences_from_Punk_s_Not_Dead__PNDmovie - 0 vidéos\n"
     ]
    },
    {
     "name": "stderr",
     "output_type": "stream",
     "text": [
      "\n",
      "0it [00:00, ?it/s]\n"
     ]
    },
    {
     "name": "stdout",
     "output_type": "stream",
     "text": [
      "📂 Dossier : data/Violent-Flows\\frames\\stadium_crowds__Barnsley_FC_V_Swansea_City_FC_League_1_Play_off_Final_2006__stua - 0 vidéos\n"
     ]
    },
    {
     "name": "stderr",
     "output_type": "stream",
     "text": [
      "0it [00:00, ?it/s]\n"
     ]
    },
    {
     "name": "stdout",
     "output_type": "stream",
     "text": [
      "📂 Dossier : data/Violent-Flows\\frames\\stadium_crowds__bohemka_viktorka_I__averlaagen__FDu-Q6Q5OVk - 0 vidéos\n"
     ]
    },
    {
     "name": "stderr",
     "output_type": "stream",
     "text": [
      "0it [00:00, ?it/s]\n"
     ]
    },
    {
     "name": "stdout",
     "output_type": "stream",
     "text": [
      "📂 Dossier : data/Violent-Flows\\frames\\stadium_crowds__Bowman_Gray_New_Tourist_Destination__WXIItv__FIdbB90Dr2o - 0 vidéos\n"
     ]
    },
    {
     "name": "stderr",
     "output_type": "stream",
     "text": [
      "0it [00:00, ?it/s]\n"
     ]
    },
    {
     "name": "stdout",
     "output_type": "stream",
     "text": [
      "📂 Dossier : data/Violent-Flows\\frames\\stadium_crowds__Brisbane_Lions_vs_Melbourne_Demons_The_Gabba__StudyinBrisbane__Y - 0 vidéos\n"
     ]
    },
    {
     "name": "stderr",
     "output_type": "stream",
     "text": [
      "0it [00:00, ?it/s]\n"
     ]
    },
    {
     "name": "stdout",
     "output_type": "stream",
     "text": [
      "📂 Dossier : data/Violent-Flows\\frames\\stadium_crowds__BullDOgs_SoNG_aNd_VidEO_REMixed_NRL_CHAMPIONS_remix_of_BLue_WhiT - 0 vidéos\n"
     ]
    },
    {
     "name": "stderr",
     "output_type": "stream",
     "text": [
      "0it [00:00, ?it/s]\n"
     ]
    },
    {
     "name": "stdout",
     "output_type": "stream",
     "text": [
      "📂 Dossier : data/Violent-Flows\\frames\\stadium_crowds__Crowd_Footage__ADTom43__PbQywcwkxDM - 0 vidéos\n"
     ]
    },
    {
     "name": "stderr",
     "output_type": "stream",
     "text": [
      "0it [00:00, ?it/s]\n"
     ]
    },
    {
     "name": "stdout",
     "output_type": "stream",
     "text": [
      "📂 Dossier : data/Violent-Flows\\frames\\stadium_crowds__Did_Lady_GaGa_throw_a_tantrum__unknownsince1983__0Vkz-_rVYB8 - 0 vidéos\n"
     ]
    },
    {
     "name": "stderr",
     "output_type": "stream",
     "text": [
      "0it [00:00, ?it/s]\n"
     ]
    },
    {
     "name": "stdout",
     "output_type": "stream",
     "text": [
      "📂 Dossier : data/Violent-Flows\\frames\\stadium_crowds__Egypt_2_0_Algeria_World_Cup_2010__Azariful__joItnDgUGUc - 0 vidéos\n"
     ]
    },
    {
     "name": "stderr",
     "output_type": "stream",
     "text": [
      "0it [00:00, ?it/s]\n"
     ]
    },
    {
     "name": "stdout",
     "output_type": "stream",
     "text": [
      "📂 Dossier : data/Violent-Flows\\frames\\stadium_crowds__FBR_Open_16th_Hole_Highlights__TheFBROpen__zJHVTcnGzcI - 0 vidéos\n"
     ]
    },
    {
     "name": "stderr",
     "output_type": "stream",
     "text": [
      "0it [00:00, ?it/s]\n"
     ]
    },
    {
     "name": "stdout",
     "output_type": "stream",
     "text": [
      "📂 Dossier : data/Violent-Flows\\frames\\stadium_crowds__Feel_the_buzz_of_Croke_Park__DiscoverGAA__bCYSflQwc7o - 0 vidéos\n"
     ]
    },
    {
     "name": "stderr",
     "output_type": "stream",
     "text": [
      "0it [00:00, ?it/s]"
     ]
    },
    {
     "name": "stdout",
     "output_type": "stream",
     "text": [
      "📂 Dossier : data/Violent-Flows\\frames\\stadium_crowds__FIFA_World_Cup_The_Warriors_and_Magicians__SuperUdink__I2kOH7p48 - 0 vidéos\n"
     ]
    },
    {
     "name": "stderr",
     "output_type": "stream",
     "text": [
      "\n",
      "0it [00:00, ?it/s]\n"
     ]
    },
    {
     "name": "stdout",
     "output_type": "stream",
     "text": [
      "📂 Dossier : data/Violent-Flows\\frames\\stadium_crowds__Fulltime_at_Scottish_Cup_Final_Hampden_2010__tattoosyke__7JhKy66 - 0 vidéos\n"
     ]
    },
    {
     "name": "stderr",
     "output_type": "stream",
     "text": [
      "0it [00:00, ?it/s]\n"
     ]
    },
    {
     "name": "stdout",
     "output_type": "stream",
     "text": [
      "📂 Dossier : data/Violent-Flows\\frames\\stadium_crowds__HARRY_KEWELL_SCORES_CROWD_GO_NUTS__phillipstama__K7qlpU7tMhQ - 0 vidéos\n"
     ]
    },
    {
     "name": "stderr",
     "output_type": "stream",
     "text": [
      "0it [00:00, ?it/s]\n"
     ]
    },
    {
     "name": "stdout",
     "output_type": "stream",
     "text": [
      "📂 Dossier : data/Violent-Flows\\frames\\stadium_crowds__Inside_the_Iowa_Spirit_Squads__uimediaproduction__V365Mro2t88 - 0 vidéos\n"
     ]
    },
    {
     "name": "stderr",
     "output_type": "stream",
     "text": [
      "0it [00:00, ?it/s]\n"
     ]
    },
    {
     "name": "stdout",
     "output_type": "stream",
     "text": [
      "📂 Dossier : data/Violent-Flows\\frames\\stadium_crowds__Iranian_Revolution_10th_Year_Anniversary__hijazna__PFZsW8I-GVY - 0 vidéos\n"
     ]
    },
    {
     "name": "stderr",
     "output_type": "stream",
     "text": [
      "0it [00:00, ?it/s]\n"
     ]
    },
    {
     "name": "stdout",
     "output_type": "stream",
     "text": [
      "📂 Dossier : data/Violent-Flows\\frames\\stadium_crowds__Jump_Around_at_the_Camp_Randall_Outdoor_Hockey_Classic__ernste40 - 0 vidéos\n"
     ]
    },
    {
     "name": "stderr",
     "output_type": "stream",
     "text": [
      "0it [00:00, ?it/s]\n"
     ]
    },
    {
     "name": "stdout",
     "output_type": "stream",
     "text": [
      "📂 Dossier : data/Violent-Flows\\frames\\stadium_crowds__Life_in_a_Day_Cheering_in_a_crowd_of_44_000__TheMariaMcD__EnR2uY - 0 vidéos\n"
     ]
    },
    {
     "name": "stderr",
     "output_type": "stream",
     "text": [
      "0it [00:00, ?it/s]\n"
     ]
    },
    {
     "name": "stdout",
     "output_type": "stream",
     "text": [
      "📂 Dossier : data/Violent-Flows\\frames\\stadium_crowds__Maracana_Football_Crowd_Atmosphere__thetravelmap__xfi3rvFKIPU - 0 vidéos\n"
     ]
    },
    {
     "name": "stderr",
     "output_type": "stream",
     "text": [
      "0it [00:00, ?it/s]"
     ]
    },
    {
     "name": "stdout",
     "output_type": "stream",
     "text": [
      "📂 Dossier : data/Violent-Flows\\frames\\stadium_crowds__MASSIVE_mexican_Wave_at_state_of_origin_game_2_2010__MELfunkshun - 0 vidéos\n"
     ]
    },
    {
     "name": "stderr",
     "output_type": "stream",
     "text": [
      "\n",
      "0it [00:00, ?it/s]\n"
     ]
    },
    {
     "name": "stdout",
     "output_type": "stream",
     "text": [
      "📂 Dossier : data/Violent-Flows\\frames\\stadium_crowds__Match_Day_at_the_Stadium__loVedruggedz__Fgjj8OjcnWU - 0 vidéos\n"
     ]
    },
    {
     "name": "stderr",
     "output_type": "stream",
     "text": [
      "0it [00:00, ?it/s]\n"
     ]
    },
    {
     "name": "stdout",
     "output_type": "stream",
     "text": [
      "📂 Dossier : data/Violent-Flows\\frames\\stadium_crowds__MaximsNewsNetwork_ITALY_SPORT_SECURITY_UN__MaximsNewsNetwork__C- - 0 vidéos\n"
     ]
    },
    {
     "name": "stderr",
     "output_type": "stream",
     "text": [
      "0it [00:00, ?it/s]\n"
     ]
    },
    {
     "name": "stdout",
     "output_type": "stream",
     "text": [
      "📂 Dossier : data/Violent-Flows\\frames\\stadium_crowds__Mexican_Wave_at_Cape_Town_Stadium__mallix2000__oyESuDC-dl0 - 0 vidéos\n"
     ]
    },
    {
     "name": "stderr",
     "output_type": "stream",
     "text": [
      "0it [00:00, ?it/s]\n"
     ]
    },
    {
     "name": "stdout",
     "output_type": "stream",
     "text": [
      "📂 Dossier : data/Violent-Flows\\frames\\stadium_crowds__Outside_Yankee_Stadium_Following_World_Series_Win_vs_Phillies_11 - 0 vidéos\n"
     ]
    },
    {
     "name": "stderr",
     "output_type": "stream",
     "text": [
      "0it [00:00, ?it/s]\n"
     ]
    },
    {
     "name": "stdout",
     "output_type": "stream",
     "text": [
      "📂 Dossier : data/Violent-Flows\\frames\\stadium_crowds__Police_drill_for_2010__CNN__0LP012X0yiA - 0 vidéos\n"
     ]
    },
    {
     "name": "stderr",
     "output_type": "stream",
     "text": [
      "0it [00:00, ?it/s]\n"
     ]
    },
    {
     "name": "stdout",
     "output_type": "stream",
     "text": [
      "📂 Dossier : data/Violent-Flows\\frames\\stadium_crowds__Rutgers_tackles_traffic__tvjersey__j623HU58M8U - 0 vidéos\n"
     ]
    },
    {
     "name": "stderr",
     "output_type": "stream",
     "text": [
      "0it [00:00, ?it/s]\n"
     ]
    },
    {
     "name": "stdout",
     "output_type": "stream",
     "text": [
      "📂 Dossier : data/Violent-Flows\\frames\\stadium_crowds__Stadium_Footage__ADTom43__AQdZ2OTF7VA - 0 vidéos\n"
     ]
    },
    {
     "name": "stderr",
     "output_type": "stream",
     "text": [
      "0it [00:00, ?it/s]\n"
     ]
    },
    {
     "name": "stdout",
     "output_type": "stream",
     "text": [
      "📂 Dossier : data/Violent-Flows\\frames\\stadium_crowds__Tokyo_Yakult_Swallows_Home_Run_Celebration__wackycamper32__cX9ln - 0 vidéos\n"
     ]
    },
    {
     "name": "stderr",
     "output_type": "stream",
     "text": [
      "0it [00:00, ?it/s]\n"
     ]
    },
    {
     "name": "stdout",
     "output_type": "stream",
     "text": [
      "📂 Dossier : data/Violent-Flows\\frames\\stadium_crowds__USC_Football_Team_arriving_at_Lincoln_stadium_2007__jmsotojr__um - 0 vidéos\n"
     ]
    },
    {
     "name": "stderr",
     "output_type": "stream",
     "text": [
      "0it [00:00, ?it/s]\n"
     ]
    },
    {
     "name": "stdout",
     "output_type": "stream",
     "text": [
      "📂 Dossier : data/Violent-Flows\\frames\\stadium_crowds__Wales_Wonderful_Rugby_Win_1922__BFIfilms__Mb89swT_V3M - 0 vidéos\n"
     ]
    },
    {
     "name": "stderr",
     "output_type": "stream",
     "text": [
      "0it [00:00, ?it/s]\n"
     ]
    },
    {
     "name": "stdout",
     "output_type": "stream",
     "text": [
      "📂 Dossier : data/Violent-Flows\\frames\\stadium_crowds__Yankee_Stadium_wave_5_2_08__NYlightning__g_CJ1A636kg - 0 vidéos\n"
     ]
    },
    {
     "name": "stderr",
     "output_type": "stream",
     "text": [
      "0it [00:00, ?it/s]\n"
     ]
    },
    {
     "name": "stdout",
     "output_type": "stream",
     "text": [
      "📂 Dossier : data/Violent-Flows\\frames\\stadium_violence__Panathinaikos_Olympiakos_96_97_riots__GWF13__xW_LC_siwQo - 0 vidéos\n"
     ]
    },
    {
     "name": "stderr",
     "output_type": "stream",
     "text": [
      "0it [00:00, ?it/s]\n"
     ]
    },
    {
     "name": "stdout",
     "output_type": "stream",
     "text": [
      "📂 Dossier : data/Violent-Flows\\frames\\stadium_violence__soccer_riot_compilation__qqcolaman__URwiZLZipeg - 0 vidéos\n"
     ]
    },
    {
     "name": "stderr",
     "output_type": "stream",
     "text": [
      "0it [00:00, ?it/s]\n"
     ]
    },
    {
     "name": "stdout",
     "output_type": "stream",
     "text": [
      "📂 Dossier : data/Violent-Flows\\frames\\stadium_violence__stadium_violence__Barras_Argentinas__alebb77__en5llVbjq20 - 0 vidéos\n"
     ]
    },
    {
     "name": "stderr",
     "output_type": "stream",
     "text": [
      "0it [00:00, ?it/s]"
     ]
    },
    {
     "name": "stdout",
     "output_type": "stream",
     "text": [
      "✅ CSV généré : data/Violent-Flows/violentflows_labels.csv - 22074 entrées\n"
     ]
    },
    {
     "name": "stderr",
     "output_type": "stream",
     "text": [
      "\n"
     ]
    }
   ],
   "source": [
    "preprocess_violent_flows_dataset(\n",
    "    root_dir='data/Violent-Flows',\n",
    "    output_dir='data/Violent-Flows/frames',\n",
    "    output_csv='data/Violent-Flows/violentflows_labels.csv'\n",
    ")\n"
   ]
  },
  {
   "cell_type": "markdown",
   "id": "d9ceca5e",
   "metadata": {},
   "source": [
    "****************************************************************************************************************************************************************************************************************************************************************************************************************************************************************************************************************************************************************************************************************************************************************************************************"
   ]
  },
  {
   "cell_type": "markdown",
   "id": "339a6775",
   "metadata": {},
   "source": [
    "****************************************************************************************************************************************************************************************************************************************************************************************************************************************************************************************************************************************************************************************************************************************************************************************************"
   ]
  },
  {
   "cell_type": "markdown",
   "id": "be7216a8",
   "metadata": {},
   "source": [
    "## 🚶‍♀️ Preprocessing UCSD Anomaly Dataset (v1p2)\n",
    "This section extracts test frames and detects anomaly labels using the corresponding ground truth masks provided in `_gt` folders.\n"
   ]
  },
  {
   "cell_type": "code",
   "execution_count": 18,
   "id": "4917e926",
   "metadata": {},
   "outputs": [],
   "source": [
    "# ⚙️ Function for processing UCSD Test (with masks)\n",
    "def preprocess_ucsd_test(ped_dir, output_dir, output_csv, resize=(200, 200)):\n",
    "    test_dir = os.path.join(ped_dir, 'Test')\n",
    "    os.makedirs(output_dir, exist_ok=True)\n",
    "    data = []\n",
    "\n",
    "    test_folders = [f for f in os.listdir(test_dir)\n",
    "                    if os.path.isdir(os.path.join(test_dir, f)) and not f.endswith('_gt')]\n",
    "\n",
    "    for test_folder in sorted(test_folders):\n",
    "        frame_folder = os.path.join(test_dir, test_folder)\n",
    "        mask_folder = frame_folder + '_gt'\n",
    "        has_mask = os.path.exists(mask_folder)\n",
    "\n",
    "        print(f\"\\n📂 Processing test folder: {test_folder}\")\n",
    "\n",
    "        frame_files = sorted([\n",
    "            f for f in os.listdir(frame_folder)\n",
    "            if f.lower().endswith(('.tif', '.bmp', '.png')) and not f.startswith('.') and not f.startswith('._')\n",
    "        ])\n",
    "\n",
    "        for frame_file in tqdm(frame_files):\n",
    "            frame_path = os.path.join(frame_folder, frame_file)\n",
    "            save_folder = os.path.join(output_dir, test_folder)\n",
    "            os.makedirs(save_folder, exist_ok=True)\n",
    "\n",
    "            try:\n",
    "                frame_img = Image.open(frame_path).convert('L').resize(resize)\n",
    "            except Exception as e:\n",
    "                print(f\"⚠️ Error loading {frame_path}: {e}\")\n",
    "                continue\n",
    "\n",
    "            save_path = os.path.join(save_folder, frame_file.replace('.tif', '.png'))\n",
    "            frame_img.save(save_path)\n",
    "\n",
    "            label = 0\n",
    "            if has_mask:\n",
    "                frame_name = os.path.splitext(frame_file)[0]\n",
    "                mask_candidates = [\n",
    "                    f for f in os.listdir(mask_folder)\n",
    "                    if f.startswith(frame_name) and not f.startswith('.') and not f.startswith('._')\n",
    "                ]\n",
    "                if mask_candidates:\n",
    "                    mask_path = os.path.join(mask_folder, mask_candidates[0])\n",
    "                    try:\n",
    "                        mask_img = Image.open(mask_path).convert('L').resize(resize)\n",
    "                        mask_array = np.array(mask_img)\n",
    "                        if np.any(mask_array == 255):\n",
    "                            label = 1\n",
    "                    except Exception as e:\n",
    "                        print(f\"⚠️ Error loading mask {mask_path}: {e}\")\n",
    "\n",
    "            data.append({'path': save_path, 'label': label})\n",
    "\n",
    "    df = pd.DataFrame(data)\n",
    "    df.to_csv(output_csv, index=False)\n",
    "    print(f\"✅ Test CSV saved to {output_csv} with {len(df)} entries.\")"
   ]
  },
  {
   "cell_type": "code",
   "execution_count": 19,
   "id": "ab739055",
   "metadata": {},
   "outputs": [],
   "source": [
    "# ⚙️ Function for processing UCSD Train (all normal frames)\n",
    "def preprocess_ucsd_train(ped_dir, output_dir, output_csv, resize=(200, 200)):\n",
    "    train_dir = os.path.join(ped_dir, 'Train')\n",
    "    os.makedirs(output_dir, exist_ok=True)\n",
    "    data = []\n",
    "\n",
    "    train_folders = [f for f in os.listdir(train_dir)\n",
    "                     if os.path.isdir(os.path.join(train_dir, f)) and not f.startswith('.')]\n",
    "\n",
    "    for train_folder in sorted(train_folders):\n",
    "        folder_path = os.path.join(train_dir, train_folder)\n",
    "        frame_files = sorted([\n",
    "            f for f in os.listdir(folder_path)\n",
    "            if f.lower().endswith(('.tif', '.bmp', '.png')) and not f.startswith('.') and not f.startswith('._')\n",
    "        ])\n",
    "\n",
    "        print(f\"\\n📂 Processing train folder: {train_folder}\")\n",
    "\n",
    "        for frame_file in tqdm(frame_files):\n",
    "            frame_path = os.path.join(folder_path, frame_file)\n",
    "            save_folder = os.path.join(output_dir, train_folder)\n",
    "            os.makedirs(save_folder, exist_ok=True)\n",
    "\n",
    "            try:\n",
    "                frame_img = Image.open(frame_path).convert('L').resize(resize)\n",
    "            except Exception as e:\n",
    "                print(f\"⚠️ Error loading {frame_path}: {e}\")\n",
    "                continue\n",
    "\n",
    "            save_path = os.path.join(save_folder, frame_file.replace('.tif', '.png'))\n",
    "            frame_img.save(save_path)\n",
    "\n",
    "            data.append({'path': save_path, 'label': 0})\n",
    "\n",
    "    df = pd.DataFrame(data)\n",
    "    df.to_csv(output_csv, index=False)\n",
    "    print(f\"✅ Train CSV saved to {output_csv} with {len(df)} entries.\")"
   ]
  },
  {
   "cell_type": "markdown",
   "id": "d76fe8b5",
   "metadata": {},
   "source": [
    "## 🚀 Run preprocessing for UCSDped1 and UCSDped2\n"
   ]
  },
  {
   "cell_type": "code",
   "execution_count": 20,
   "id": "f2bb3ec4",
   "metadata": {},
   "outputs": [
    {
     "name": "stdout",
     "output_type": "stream",
     "text": [
      "\n",
      "📂 Processing test folder: Test001\n"
     ]
    },
    {
     "name": "stderr",
     "output_type": "stream",
     "text": [
      "100%|██████████| 200/200 [00:23<00:00,  8.56it/s]\n"
     ]
    },
    {
     "name": "stdout",
     "output_type": "stream",
     "text": [
      "\n",
      "📂 Processing test folder: Test002\n"
     ]
    },
    {
     "name": "stderr",
     "output_type": "stream",
     "text": [
      "100%|██████████| 200/200 [00:09<00:00, 21.10it/s]\n"
     ]
    },
    {
     "name": "stdout",
     "output_type": "stream",
     "text": [
      "\n",
      "📂 Processing test folder: Test003\n"
     ]
    },
    {
     "name": "stderr",
     "output_type": "stream",
     "text": [
      "100%|██████████| 200/200 [00:13<00:00, 14.48it/s]\n"
     ]
    },
    {
     "name": "stdout",
     "output_type": "stream",
     "text": [
      "\n",
      "📂 Processing test folder: Test004\n"
     ]
    },
    {
     "name": "stderr",
     "output_type": "stream",
     "text": [
      "100%|██████████| 200/200 [00:10<00:00, 19.65it/s]\n"
     ]
    },
    {
     "name": "stdout",
     "output_type": "stream",
     "text": [
      "\n",
      "📂 Processing test folder: Test005\n"
     ]
    },
    {
     "name": "stderr",
     "output_type": "stream",
     "text": [
      "100%|██████████| 200/200 [00:06<00:00, 32.72it/s]\n"
     ]
    },
    {
     "name": "stdout",
     "output_type": "stream",
     "text": [
      "\n",
      "📂 Processing test folder: Test006\n"
     ]
    },
    {
     "name": "stderr",
     "output_type": "stream",
     "text": [
      "100%|██████████| 200/200 [00:05<00:00, 38.73it/s]\n"
     ]
    },
    {
     "name": "stdout",
     "output_type": "stream",
     "text": [
      "\n",
      "📂 Processing test folder: Test007\n"
     ]
    },
    {
     "name": "stderr",
     "output_type": "stream",
     "text": [
      "100%|██████████| 200/200 [00:04<00:00, 42.62it/s]\n"
     ]
    },
    {
     "name": "stdout",
     "output_type": "stream",
     "text": [
      "\n",
      "📂 Processing test folder: Test008\n"
     ]
    },
    {
     "name": "stderr",
     "output_type": "stream",
     "text": [
      "100%|██████████| 200/200 [00:04<00:00, 40.94it/s]\n"
     ]
    },
    {
     "name": "stdout",
     "output_type": "stream",
     "text": [
      "\n",
      "📂 Processing test folder: Test009\n"
     ]
    },
    {
     "name": "stderr",
     "output_type": "stream",
     "text": [
      "100%|██████████| 200/200 [00:04<00:00, 42.76it/s]\n"
     ]
    },
    {
     "name": "stdout",
     "output_type": "stream",
     "text": [
      "\n",
      "📂 Processing test folder: Test010\n"
     ]
    },
    {
     "name": "stderr",
     "output_type": "stream",
     "text": [
      "100%|██████████| 200/200 [00:04<00:00, 43.85it/s]\n"
     ]
    },
    {
     "name": "stdout",
     "output_type": "stream",
     "text": [
      "\n",
      "📂 Processing test folder: Test011\n"
     ]
    },
    {
     "name": "stderr",
     "output_type": "stream",
     "text": [
      "100%|██████████| 200/200 [00:04<00:00, 44.34it/s]\n"
     ]
    },
    {
     "name": "stdout",
     "output_type": "stream",
     "text": [
      "\n",
      "📂 Processing test folder: Test012\n"
     ]
    },
    {
     "name": "stderr",
     "output_type": "stream",
     "text": [
      "100%|██████████| 200/200 [00:04<00:00, 44.45it/s]\n"
     ]
    },
    {
     "name": "stdout",
     "output_type": "stream",
     "text": [
      "\n",
      "📂 Processing test folder: Test013\n"
     ]
    },
    {
     "name": "stderr",
     "output_type": "stream",
     "text": [
      "100%|██████████| 200/200 [00:05<00:00, 39.24it/s]\n"
     ]
    },
    {
     "name": "stdout",
     "output_type": "stream",
     "text": [
      "\n",
      "📂 Processing test folder: Test014\n"
     ]
    },
    {
     "name": "stderr",
     "output_type": "stream",
     "text": [
      "100%|██████████| 200/200 [00:07<00:00, 26.57it/s]\n"
     ]
    },
    {
     "name": "stdout",
     "output_type": "stream",
     "text": [
      "\n",
      "📂 Processing test folder: Test015\n"
     ]
    },
    {
     "name": "stderr",
     "output_type": "stream",
     "text": [
      "100%|██████████| 200/200 [00:04<00:00, 45.10it/s]\n"
     ]
    },
    {
     "name": "stdout",
     "output_type": "stream",
     "text": [
      "\n",
      "📂 Processing test folder: Test016\n"
     ]
    },
    {
     "name": "stderr",
     "output_type": "stream",
     "text": [
      "100%|██████████| 200/200 [00:04<00:00, 43.03it/s]\n"
     ]
    },
    {
     "name": "stdout",
     "output_type": "stream",
     "text": [
      "\n",
      "📂 Processing test folder: Test017\n"
     ]
    },
    {
     "name": "stderr",
     "output_type": "stream",
     "text": [
      " 75%|███████▌  | 150/200 [00:03<00:01, 42.03it/s]"
     ]
    },
    {
     "name": "stdout",
     "output_type": "stream",
     "text": [
      "⚠️ Error loading data/UCSD_Anomaly_Dataset.v1p2/UCSDped1\\Test\\Test017\\142.tif: decoder error -2\n"
     ]
    },
    {
     "name": "stderr",
     "output_type": "stream",
     "text": [
      "100%|██████████| 200/200 [00:04<00:00, 41.69it/s]\n"
     ]
    },
    {
     "name": "stdout",
     "output_type": "stream",
     "text": [
      "\n",
      "📂 Processing test folder: Test018\n"
     ]
    },
    {
     "name": "stderr",
     "output_type": "stream",
     "text": [
      "100%|██████████| 200/200 [00:07<00:00, 26.96it/s]\n"
     ]
    },
    {
     "name": "stdout",
     "output_type": "stream",
     "text": [
      "\n",
      "📂 Processing test folder: Test019\n"
     ]
    },
    {
     "name": "stderr",
     "output_type": "stream",
     "text": [
      "100%|██████████| 200/200 [00:08<00:00, 24.49it/s]\n"
     ]
    },
    {
     "name": "stdout",
     "output_type": "stream",
     "text": [
      "\n",
      "📂 Processing test folder: Test020\n"
     ]
    },
    {
     "name": "stderr",
     "output_type": "stream",
     "text": [
      "100%|██████████| 200/200 [00:06<00:00, 30.32it/s]\n"
     ]
    },
    {
     "name": "stdout",
     "output_type": "stream",
     "text": [
      "\n",
      "📂 Processing test folder: Test021\n"
     ]
    },
    {
     "name": "stderr",
     "output_type": "stream",
     "text": [
      "100%|██████████| 200/200 [00:50<00:00,  3.99it/s]\n"
     ]
    },
    {
     "name": "stdout",
     "output_type": "stream",
     "text": [
      "\n",
      "📂 Processing test folder: Test022\n"
     ]
    },
    {
     "name": "stderr",
     "output_type": "stream",
     "text": [
      "100%|██████████| 200/200 [00:16<00:00, 11.80it/s]\n"
     ]
    },
    {
     "name": "stdout",
     "output_type": "stream",
     "text": [
      "\n",
      "📂 Processing test folder: Test023\n"
     ]
    },
    {
     "name": "stderr",
     "output_type": "stream",
     "text": [
      "100%|██████████| 200/200 [00:12<00:00, 15.56it/s]\n"
     ]
    },
    {
     "name": "stdout",
     "output_type": "stream",
     "text": [
      "\n",
      "📂 Processing test folder: Test024\n"
     ]
    },
    {
     "name": "stderr",
     "output_type": "stream",
     "text": [
      "100%|██████████| 200/200 [00:08<00:00, 24.87it/s]\n"
     ]
    },
    {
     "name": "stdout",
     "output_type": "stream",
     "text": [
      "\n",
      "📂 Processing test folder: Test025\n"
     ]
    },
    {
     "name": "stderr",
     "output_type": "stream",
     "text": [
      "100%|██████████| 200/200 [00:04<00:00, 44.79it/s]\n"
     ]
    },
    {
     "name": "stdout",
     "output_type": "stream",
     "text": [
      "\n",
      "📂 Processing test folder: Test026\n"
     ]
    },
    {
     "name": "stderr",
     "output_type": "stream",
     "text": [
      "100%|██████████| 200/200 [00:05<00:00, 39.43it/s]\n"
     ]
    },
    {
     "name": "stdout",
     "output_type": "stream",
     "text": [
      "\n",
      "📂 Processing test folder: Test027\n"
     ]
    },
    {
     "name": "stderr",
     "output_type": "stream",
     "text": [
      "100%|██████████| 200/200 [00:04<00:00, 47.93it/s]\n"
     ]
    },
    {
     "name": "stdout",
     "output_type": "stream",
     "text": [
      "\n",
      "📂 Processing test folder: Test028\n"
     ]
    },
    {
     "name": "stderr",
     "output_type": "stream",
     "text": [
      "100%|██████████| 200/200 [00:04<00:00, 44.91it/s]\n"
     ]
    },
    {
     "name": "stdout",
     "output_type": "stream",
     "text": [
      "\n",
      "📂 Processing test folder: Test029\n"
     ]
    },
    {
     "name": "stderr",
     "output_type": "stream",
     "text": [
      "100%|██████████| 200/200 [00:04<00:00, 44.06it/s]\n"
     ]
    },
    {
     "name": "stdout",
     "output_type": "stream",
     "text": [
      "\n",
      "📂 Processing test folder: Test030\n"
     ]
    },
    {
     "name": "stderr",
     "output_type": "stream",
     "text": [
      "100%|██████████| 200/200 [00:04<00:00, 40.64it/s]\n"
     ]
    },
    {
     "name": "stdout",
     "output_type": "stream",
     "text": [
      "\n",
      "📂 Processing test folder: Test031\n"
     ]
    },
    {
     "name": "stderr",
     "output_type": "stream",
     "text": [
      "100%|██████████| 200/200 [00:05<00:00, 34.99it/s]\n"
     ]
    },
    {
     "name": "stdout",
     "output_type": "stream",
     "text": [
      "\n",
      "📂 Processing test folder: Test032\n"
     ]
    },
    {
     "name": "stderr",
     "output_type": "stream",
     "text": [
      "100%|██████████| 200/200 [00:11<00:00, 17.19it/s]\n"
     ]
    },
    {
     "name": "stdout",
     "output_type": "stream",
     "text": [
      "\n",
      "📂 Processing test folder: Test033\n"
     ]
    },
    {
     "name": "stderr",
     "output_type": "stream",
     "text": [
      "100%|██████████| 200/200 [00:06<00:00, 32.98it/s]\n"
     ]
    },
    {
     "name": "stdout",
     "output_type": "stream",
     "text": [
      "\n",
      "📂 Processing test folder: Test034\n"
     ]
    },
    {
     "name": "stderr",
     "output_type": "stream",
     "text": [
      "100%|██████████| 200/200 [00:06<00:00, 29.23it/s]\n"
     ]
    },
    {
     "name": "stdout",
     "output_type": "stream",
     "text": [
      "\n",
      "📂 Processing test folder: Test035\n"
     ]
    },
    {
     "name": "stderr",
     "output_type": "stream",
     "text": [
      "100%|██████████| 200/200 [00:06<00:00, 30.22it/s]\n"
     ]
    },
    {
     "name": "stdout",
     "output_type": "stream",
     "text": [
      "\n",
      "📂 Processing test folder: Test036\n"
     ]
    },
    {
     "name": "stderr",
     "output_type": "stream",
     "text": [
      "100%|██████████| 200/200 [00:07<00:00, 28.20it/s]\n"
     ]
    },
    {
     "name": "stdout",
     "output_type": "stream",
     "text": [
      "✅ Test CSV saved to data/UCSD_Anomaly_Dataset.v1p2/labels_ped1_test.csv with 7199 entries.\n",
      "\n",
      "📂 Processing train folder: Train001\n"
     ]
    },
    {
     "name": "stderr",
     "output_type": "stream",
     "text": [
      "100%|██████████| 200/200 [00:07<00:00, 27.98it/s]\n"
     ]
    },
    {
     "name": "stdout",
     "output_type": "stream",
     "text": [
      "\n",
      "📂 Processing train folder: Train002\n"
     ]
    },
    {
     "name": "stderr",
     "output_type": "stream",
     "text": [
      "100%|██████████| 200/200 [00:09<00:00, 20.80it/s]\n"
     ]
    },
    {
     "name": "stdout",
     "output_type": "stream",
     "text": [
      "\n",
      "📂 Processing train folder: Train003\n"
     ]
    },
    {
     "name": "stderr",
     "output_type": "stream",
     "text": [
      "100%|██████████| 200/200 [00:09<00:00, 20.29it/s]\n"
     ]
    },
    {
     "name": "stdout",
     "output_type": "stream",
     "text": [
      "\n",
      "📂 Processing train folder: Train004\n"
     ]
    },
    {
     "name": "stderr",
     "output_type": "stream",
     "text": [
      "100%|██████████| 200/200 [00:07<00:00, 26.60it/s]\n"
     ]
    },
    {
     "name": "stdout",
     "output_type": "stream",
     "text": [
      "\n",
      "📂 Processing train folder: Train005\n"
     ]
    },
    {
     "name": "stderr",
     "output_type": "stream",
     "text": [
      "100%|██████████| 200/200 [00:07<00:00, 27.97it/s]\n"
     ]
    },
    {
     "name": "stdout",
     "output_type": "stream",
     "text": [
      "\n",
      "📂 Processing train folder: Train006\n"
     ]
    },
    {
     "name": "stderr",
     "output_type": "stream",
     "text": [
      "100%|██████████| 200/200 [00:06<00:00, 32.40it/s]\n"
     ]
    },
    {
     "name": "stdout",
     "output_type": "stream",
     "text": [
      "\n",
      "📂 Processing train folder: Train007\n"
     ]
    },
    {
     "name": "stderr",
     "output_type": "stream",
     "text": [
      "100%|██████████| 200/200 [00:06<00:00, 31.93it/s]\n"
     ]
    },
    {
     "name": "stdout",
     "output_type": "stream",
     "text": [
      "\n",
      "📂 Processing train folder: Train008\n"
     ]
    },
    {
     "name": "stderr",
     "output_type": "stream",
     "text": [
      "100%|██████████| 200/200 [00:06<00:00, 31.70it/s]\n"
     ]
    },
    {
     "name": "stdout",
     "output_type": "stream",
     "text": [
      "\n",
      "📂 Processing train folder: Train009\n"
     ]
    },
    {
     "name": "stderr",
     "output_type": "stream",
     "text": [
      "100%|██████████| 200/200 [00:05<00:00, 33.99it/s]\n"
     ]
    },
    {
     "name": "stdout",
     "output_type": "stream",
     "text": [
      "\n",
      "📂 Processing train folder: Train010\n"
     ]
    },
    {
     "name": "stderr",
     "output_type": "stream",
     "text": [
      "100%|██████████| 200/200 [00:06<00:00, 30.76it/s]\n"
     ]
    },
    {
     "name": "stdout",
     "output_type": "stream",
     "text": [
      "\n",
      "📂 Processing train folder: Train011\n"
     ]
    },
    {
     "name": "stderr",
     "output_type": "stream",
     "text": [
      "100%|██████████| 200/200 [00:06<00:00, 32.45it/s]\n"
     ]
    },
    {
     "name": "stdout",
     "output_type": "stream",
     "text": [
      "\n",
      "📂 Processing train folder: Train012\n"
     ]
    },
    {
     "name": "stderr",
     "output_type": "stream",
     "text": [
      "100%|██████████| 200/200 [00:06<00:00, 31.89it/s]\n"
     ]
    },
    {
     "name": "stdout",
     "output_type": "stream",
     "text": [
      "\n",
      "📂 Processing train folder: Train013\n"
     ]
    },
    {
     "name": "stderr",
     "output_type": "stream",
     "text": [
      "100%|██████████| 200/200 [00:06<00:00, 32.07it/s]\n"
     ]
    },
    {
     "name": "stdout",
     "output_type": "stream",
     "text": [
      "\n",
      "📂 Processing train folder: Train014\n"
     ]
    },
    {
     "name": "stderr",
     "output_type": "stream",
     "text": [
      "100%|██████████| 200/200 [00:06<00:00, 32.21it/s]\n"
     ]
    },
    {
     "name": "stdout",
     "output_type": "stream",
     "text": [
      "\n",
      "📂 Processing train folder: Train015\n"
     ]
    },
    {
     "name": "stderr",
     "output_type": "stream",
     "text": [
      "100%|██████████| 200/200 [00:08<00:00, 24.11it/s]\n"
     ]
    },
    {
     "name": "stdout",
     "output_type": "stream",
     "text": [
      "\n",
      "📂 Processing train folder: Train016\n"
     ]
    },
    {
     "name": "stderr",
     "output_type": "stream",
     "text": [
      "100%|██████████| 200/200 [00:06<00:00, 30.24it/s]\n"
     ]
    },
    {
     "name": "stdout",
     "output_type": "stream",
     "text": [
      "\n",
      "📂 Processing train folder: Train017\n"
     ]
    },
    {
     "name": "stderr",
     "output_type": "stream",
     "text": [
      "100%|██████████| 200/200 [00:06<00:00, 32.99it/s]\n"
     ]
    },
    {
     "name": "stdout",
     "output_type": "stream",
     "text": [
      "\n",
      "📂 Processing train folder: Train018\n"
     ]
    },
    {
     "name": "stderr",
     "output_type": "stream",
     "text": [
      "100%|██████████| 200/200 [00:06<00:00, 30.14it/s]\n"
     ]
    },
    {
     "name": "stdout",
     "output_type": "stream",
     "text": [
      "\n",
      "📂 Processing train folder: Train019\n"
     ]
    },
    {
     "name": "stderr",
     "output_type": "stream",
     "text": [
      "100%|██████████| 200/200 [00:06<00:00, 29.54it/s]\n"
     ]
    },
    {
     "name": "stdout",
     "output_type": "stream",
     "text": [
      "\n",
      "📂 Processing train folder: Train020\n"
     ]
    },
    {
     "name": "stderr",
     "output_type": "stream",
     "text": [
      "100%|██████████| 200/200 [00:06<00:00, 31.73it/s]\n"
     ]
    },
    {
     "name": "stdout",
     "output_type": "stream",
     "text": [
      "\n",
      "📂 Processing train folder: Train021\n"
     ]
    },
    {
     "name": "stderr",
     "output_type": "stream",
     "text": [
      "100%|██████████| 200/200 [00:06<00:00, 29.76it/s]\n"
     ]
    },
    {
     "name": "stdout",
     "output_type": "stream",
     "text": [
      "\n",
      "📂 Processing train folder: Train022\n"
     ]
    },
    {
     "name": "stderr",
     "output_type": "stream",
     "text": [
      "100%|██████████| 200/200 [00:08<00:00, 23.92it/s]\n"
     ]
    },
    {
     "name": "stdout",
     "output_type": "stream",
     "text": [
      "\n",
      "📂 Processing train folder: Train023\n"
     ]
    },
    {
     "name": "stderr",
     "output_type": "stream",
     "text": [
      "100%|██████████| 200/200 [00:08<00:00, 24.46it/s]\n"
     ]
    },
    {
     "name": "stdout",
     "output_type": "stream",
     "text": [
      "\n",
      "📂 Processing train folder: Train024\n"
     ]
    },
    {
     "name": "stderr",
     "output_type": "stream",
     "text": [
      "100%|██████████| 200/200 [00:12<00:00, 16.21it/s]\n"
     ]
    },
    {
     "name": "stdout",
     "output_type": "stream",
     "text": [
      "\n",
      "📂 Processing train folder: Train025\n"
     ]
    },
    {
     "name": "stderr",
     "output_type": "stream",
     "text": [
      "100%|██████████| 200/200 [00:09<00:00, 21.70it/s]\n"
     ]
    },
    {
     "name": "stdout",
     "output_type": "stream",
     "text": [
      "\n",
      "📂 Processing train folder: Train026\n"
     ]
    },
    {
     "name": "stderr",
     "output_type": "stream",
     "text": [
      "100%|██████████| 200/200 [00:08<00:00, 24.94it/s]\n"
     ]
    },
    {
     "name": "stdout",
     "output_type": "stream",
     "text": [
      "\n",
      "📂 Processing train folder: Train027\n"
     ]
    },
    {
     "name": "stderr",
     "output_type": "stream",
     "text": [
      "100%|██████████| 200/200 [00:07<00:00, 26.80it/s]\n"
     ]
    },
    {
     "name": "stdout",
     "output_type": "stream",
     "text": [
      "\n",
      "📂 Processing train folder: Train028\n"
     ]
    },
    {
     "name": "stderr",
     "output_type": "stream",
     "text": [
      "100%|██████████| 200/200 [00:07<00:00, 28.07it/s]\n"
     ]
    },
    {
     "name": "stdout",
     "output_type": "stream",
     "text": [
      "\n",
      "📂 Processing train folder: Train029\n"
     ]
    },
    {
     "name": "stderr",
     "output_type": "stream",
     "text": [
      "100%|██████████| 200/200 [00:07<00:00, 26.02it/s]\n"
     ]
    },
    {
     "name": "stdout",
     "output_type": "stream",
     "text": [
      "\n",
      "📂 Processing train folder: Train030\n"
     ]
    },
    {
     "name": "stderr",
     "output_type": "stream",
     "text": [
      "100%|██████████| 200/200 [00:10<00:00, 18.94it/s]\n"
     ]
    },
    {
     "name": "stdout",
     "output_type": "stream",
     "text": [
      "\n",
      "📂 Processing train folder: Train031\n"
     ]
    },
    {
     "name": "stderr",
     "output_type": "stream",
     "text": [
      "100%|██████████| 200/200 [00:06<00:00, 28.60it/s]\n"
     ]
    },
    {
     "name": "stdout",
     "output_type": "stream",
     "text": [
      "\n",
      "📂 Processing train folder: Train032\n"
     ]
    },
    {
     "name": "stderr",
     "output_type": "stream",
     "text": [
      "100%|██████████| 200/200 [00:05<00:00, 36.62it/s]\n"
     ]
    },
    {
     "name": "stdout",
     "output_type": "stream",
     "text": [
      "\n",
      "📂 Processing train folder: Train033\n"
     ]
    },
    {
     "name": "stderr",
     "output_type": "stream",
     "text": [
      "100%|██████████| 200/200 [00:05<00:00, 37.51it/s]\n"
     ]
    },
    {
     "name": "stdout",
     "output_type": "stream",
     "text": [
      "\n",
      "📂 Processing train folder: Train034\n"
     ]
    },
    {
     "name": "stderr",
     "output_type": "stream",
     "text": [
      "100%|██████████| 200/200 [00:05<00:00, 36.17it/s]\n"
     ]
    },
    {
     "name": "stdout",
     "output_type": "stream",
     "text": [
      "✅ Train CSV saved to data/UCSD_Anomaly_Dataset.v1p2/labels_ped1_train.csv with 6800 entries.\n",
      "\n",
      "📂 Processing test folder: Test001\n"
     ]
    },
    {
     "name": "stderr",
     "output_type": "stream",
     "text": [
      "100%|██████████| 180/180 [00:09<00:00, 18.70it/s]\n"
     ]
    },
    {
     "name": "stdout",
     "output_type": "stream",
     "text": [
      "\n",
      "📂 Processing test folder: Test002\n"
     ]
    },
    {
     "name": "stderr",
     "output_type": "stream",
     "text": [
      "100%|██████████| 180/180 [00:07<00:00, 24.10it/s]\n"
     ]
    },
    {
     "name": "stdout",
     "output_type": "stream",
     "text": [
      "\n",
      "📂 Processing test folder: Test003\n"
     ]
    },
    {
     "name": "stderr",
     "output_type": "stream",
     "text": [
      "100%|██████████| 150/150 [00:06<00:00, 24.08it/s]\n"
     ]
    },
    {
     "name": "stdout",
     "output_type": "stream",
     "text": [
      "\n",
      "📂 Processing test folder: Test004\n"
     ]
    },
    {
     "name": "stderr",
     "output_type": "stream",
     "text": [
      "100%|██████████| 180/180 [00:08<00:00, 21.82it/s]\n"
     ]
    },
    {
     "name": "stdout",
     "output_type": "stream",
     "text": [
      "\n",
      "📂 Processing test folder: Test005\n"
     ]
    },
    {
     "name": "stderr",
     "output_type": "stream",
     "text": [
      "100%|██████████| 150/150 [00:08<00:00, 16.75it/s]\n"
     ]
    },
    {
     "name": "stdout",
     "output_type": "stream",
     "text": [
      "\n",
      "📂 Processing test folder: Test006\n"
     ]
    },
    {
     "name": "stderr",
     "output_type": "stream",
     "text": [
      "100%|██████████| 180/180 [00:09<00:00, 19.56it/s]\n"
     ]
    },
    {
     "name": "stdout",
     "output_type": "stream",
     "text": [
      "\n",
      "📂 Processing test folder: Test007\n"
     ]
    },
    {
     "name": "stderr",
     "output_type": "stream",
     "text": [
      "100%|██████████| 180/180 [00:12<00:00, 14.80it/s]\n"
     ]
    },
    {
     "name": "stdout",
     "output_type": "stream",
     "text": [
      "\n",
      "📂 Processing test folder: Test008\n"
     ]
    },
    {
     "name": "stderr",
     "output_type": "stream",
     "text": [
      "100%|██████████| 180/180 [00:12<00:00, 14.18it/s]\n"
     ]
    },
    {
     "name": "stdout",
     "output_type": "stream",
     "text": [
      "\n",
      "📂 Processing test folder: Test009\n"
     ]
    },
    {
     "name": "stderr",
     "output_type": "stream",
     "text": [
      "100%|██████████| 120/120 [00:03<00:00, 30.91it/s]\n"
     ]
    },
    {
     "name": "stdout",
     "output_type": "stream",
     "text": [
      "\n",
      "📂 Processing test folder: Test010\n"
     ]
    },
    {
     "name": "stderr",
     "output_type": "stream",
     "text": [
      "100%|██████████| 150/150 [00:07<00:00, 19.48it/s]\n"
     ]
    },
    {
     "name": "stdout",
     "output_type": "stream",
     "text": [
      "\n",
      "📂 Processing test folder: Test011\n"
     ]
    },
    {
     "name": "stderr",
     "output_type": "stream",
     "text": [
      "100%|██████████| 180/180 [00:09<00:00, 19.52it/s]\n"
     ]
    },
    {
     "name": "stdout",
     "output_type": "stream",
     "text": [
      "\n",
      "📂 Processing test folder: Test012\n"
     ]
    },
    {
     "name": "stderr",
     "output_type": "stream",
     "text": [
      "100%|██████████| 180/180 [00:05<00:00, 34.28it/s]\n"
     ]
    },
    {
     "name": "stdout",
     "output_type": "stream",
     "text": [
      "✅ Test CSV saved to data/UCSD_Anomaly_Dataset.v1p2/labels_ped2_test.csv with 2010 entries.\n",
      "\n",
      "📂 Processing train folder: Train001\n"
     ]
    },
    {
     "name": "stderr",
     "output_type": "stream",
     "text": [
      "100%|██████████| 120/120 [00:03<00:00, 35.17it/s]\n"
     ]
    },
    {
     "name": "stdout",
     "output_type": "stream",
     "text": [
      "\n",
      "📂 Processing train folder: Train002\n"
     ]
    },
    {
     "name": "stderr",
     "output_type": "stream",
     "text": [
      "100%|██████████| 150/150 [00:04<00:00, 31.56it/s]\n"
     ]
    },
    {
     "name": "stdout",
     "output_type": "stream",
     "text": [
      "\n",
      "📂 Processing train folder: Train003\n"
     ]
    },
    {
     "name": "stderr",
     "output_type": "stream",
     "text": [
      "100%|██████████| 150/150 [00:04<00:00, 32.32it/s]\n"
     ]
    },
    {
     "name": "stdout",
     "output_type": "stream",
     "text": [
      "\n",
      "📂 Processing train folder: Train004\n"
     ]
    },
    {
     "name": "stderr",
     "output_type": "stream",
     "text": [
      "100%|██████████| 180/180 [00:05<00:00, 31.33it/s]\n"
     ]
    },
    {
     "name": "stdout",
     "output_type": "stream",
     "text": [
      "\n",
      "📂 Processing train folder: Train005\n"
     ]
    },
    {
     "name": "stderr",
     "output_type": "stream",
     "text": [
      "100%|██████████| 180/180 [00:05<00:00, 33.70it/s]\n"
     ]
    },
    {
     "name": "stdout",
     "output_type": "stream",
     "text": [
      "\n",
      "📂 Processing train folder: Train006\n"
     ]
    },
    {
     "name": "stderr",
     "output_type": "stream",
     "text": [
      "100%|██████████| 150/150 [00:04<00:00, 31.54it/s]\n"
     ]
    },
    {
     "name": "stdout",
     "output_type": "stream",
     "text": [
      "\n",
      "📂 Processing train folder: Train007\n"
     ]
    },
    {
     "name": "stderr",
     "output_type": "stream",
     "text": [
      "100%|██████████| 150/150 [00:04<00:00, 32.01it/s]\n"
     ]
    },
    {
     "name": "stdout",
     "output_type": "stream",
     "text": [
      "\n",
      "📂 Processing train folder: Train008\n"
     ]
    },
    {
     "name": "stderr",
     "output_type": "stream",
     "text": [
      "100%|██████████| 120/120 [00:04<00:00, 29.52it/s]\n"
     ]
    },
    {
     "name": "stdout",
     "output_type": "stream",
     "text": [
      "\n",
      "📂 Processing train folder: Train009\n"
     ]
    },
    {
     "name": "stderr",
     "output_type": "stream",
     "text": [
      "100%|██████████| 180/180 [00:05<00:00, 30.89it/s]\n"
     ]
    },
    {
     "name": "stdout",
     "output_type": "stream",
     "text": [
      "\n",
      "📂 Processing train folder: Train010\n"
     ]
    },
    {
     "name": "stderr",
     "output_type": "stream",
     "text": [
      "100%|██████████| 180/180 [00:06<00:00, 28.49it/s]\n"
     ]
    },
    {
     "name": "stdout",
     "output_type": "stream",
     "text": [
      "\n",
      "📂 Processing train folder: Train011\n"
     ]
    },
    {
     "name": "stderr",
     "output_type": "stream",
     "text": [
      "100%|██████████| 180/180 [00:06<00:00, 28.85it/s]\n"
     ]
    },
    {
     "name": "stdout",
     "output_type": "stream",
     "text": [
      "\n",
      "📂 Processing train folder: Train012\n"
     ]
    },
    {
     "name": "stderr",
     "output_type": "stream",
     "text": [
      "100%|██████████| 180/180 [00:05<00:00, 30.01it/s]\n"
     ]
    },
    {
     "name": "stdout",
     "output_type": "stream",
     "text": [
      "\n",
      "📂 Processing train folder: Train013\n"
     ]
    },
    {
     "name": "stderr",
     "output_type": "stream",
     "text": [
      "100%|██████████| 180/180 [00:06<00:00, 27.54it/s]\n"
     ]
    },
    {
     "name": "stdout",
     "output_type": "stream",
     "text": [
      "\n",
      "📂 Processing train folder: Train014\n"
     ]
    },
    {
     "name": "stderr",
     "output_type": "stream",
     "text": [
      "100%|██████████| 150/150 [00:04<00:00, 30.46it/s]\n"
     ]
    },
    {
     "name": "stdout",
     "output_type": "stream",
     "text": [
      "\n",
      "📂 Processing train folder: Train015\n"
     ]
    },
    {
     "name": "stderr",
     "output_type": "stream",
     "text": [
      "100%|██████████| 150/150 [00:05<00:00, 29.35it/s]\n"
     ]
    },
    {
     "name": "stdout",
     "output_type": "stream",
     "text": [
      "\n",
      "📂 Processing train folder: Train016\n"
     ]
    },
    {
     "name": "stderr",
     "output_type": "stream",
     "text": [
      "100%|██████████| 150/150 [00:07<00:00, 19.97it/s]"
     ]
    },
    {
     "name": "stdout",
     "output_type": "stream",
     "text": [
      "✅ Train CSV saved to data/UCSD_Anomaly_Dataset.v1p2/labels_ped2_train.csv with 2550 entries.\n"
     ]
    },
    {
     "name": "stderr",
     "output_type": "stream",
     "text": [
      "\n"
     ]
    }
   ],
   "source": [
    "preprocess_ucsd_test(\n",
    "    ped_dir='data/UCSD_Anomaly_Dataset.v1p2/UCSDped1',\n",
    "    output_dir='data/UCSD_Anomaly_Dataset.v1p2/frames_ped1_test',\n",
    "    output_csv='data/UCSD_Anomaly_Dataset.v1p2/labels_ped1_test.csv'\n",
    ")\n",
    "\n",
    "preprocess_ucsd_train(\n",
    "    ped_dir='data/UCSD_Anomaly_Dataset.v1p2/UCSDped1',\n",
    "    output_dir='data/UCSD_Anomaly_Dataset.v1p2/frames_ped1_train',\n",
    "    output_csv='data/UCSD_Anomaly_Dataset.v1p2/labels_ped1_train.csv'\n",
    ")\n",
    "\n",
    "preprocess_ucsd_test(\n",
    "    ped_dir='data/UCSD_Anomaly_Dataset.v1p2/UCSDped2',\n",
    "    output_dir='data/UCSD_Anomaly_Dataset.v1p2/frames_ped2_test',\n",
    "    output_csv='data/UCSD_Anomaly_Dataset.v1p2/labels_ped2_test.csv'\n",
    ")\n",
    "\n",
    "preprocess_ucsd_train(\n",
    "    ped_dir='data/UCSD_Anomaly_Dataset.v1p2/UCSDped2',\n",
    "    output_dir='data/UCSD_Anomaly_Dataset.v1p2/frames_ped2_train',\n",
    "    output_csv='data/UCSD_Anomaly_Dataset.v1p2/labels_ped2_train.csv'\n",
    ")"
   ]
  }
 ],
 "metadata": {
  "kernelspec": {
   "display_name": "Python 3",
   "language": "python",
   "name": "python3"
  },
  "language_info": {
   "codemirror_mode": {
    "name": "ipython",
    "version": 3
   },
   "file_extension": ".py",
   "mimetype": "text/x-python",
   "name": "python",
   "nbconvert_exporter": "python",
   "pygments_lexer": "ipython3",
   "version": "3.13.3"
  }
 },
 "nbformat": 4,
 "nbformat_minor": 5
}
