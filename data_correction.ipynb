{
 "cells": [
  {
   "cell_type": "markdown",
   "id": "f6d7e06a",
   "metadata": {},
   "source": [
    "correcting data to improve models :"
   ]
  },
  {
   "cell_type": "markdown",
   "id": "0d9cdfa8",
   "metadata": {},
   "source": [
    "avenue : "
   ]
  },
  {
   "cell_type": "code",
   "execution_count": 1,
   "id": "e32f8eec",
   "metadata": {},
   "outputs": [
    {
     "name": "stderr",
     "output_type": "stream",
     "text": [
      "Processing frames: 100%|██████████| 30652/30652 [04:41<00:00, 108.73it/s]\n"
     ]
    },
    {
     "name": "stdout",
     "output_type": "stream",
     "text": [
      "\n",
      "✅ Done. All frames copied and renamed into 'combined_data/avenue/combined_frames'\n",
      "📄 Updated CSV saved as 'combined_data/avenue/combined_data.csv' with new paths.\n"
     ]
    }
   ],
   "source": [
    "import os\n",
    "import shutil\n",
    "import pandas as pd\n",
    "from tqdm import tqdm\n",
    "\n",
    "# ==== USER: MODIFY THESE ====\n",
    "csv_file1 = 'data/avenue/test_labels.csv'\n",
    "csv_file2 = 'data/avenue/train_labels.csv'\n",
    "combined_folder = 'combined_data/avenue/combined_frames'\n",
    "output_csv = 'combined_data/avenue/combined_data.csv'\n",
    "# ============================\n",
    "\n",
    "# Create the output folder if it doesn't exist\n",
    "os.makedirs(combined_folder, exist_ok=True)\n",
    "\n",
    "# Load CSVs\n",
    "df1 = pd.read_csv(csv_file1)\n",
    "df2 = pd.read_csv(csv_file2)\n",
    "\n",
    "# Combine them\n",
    "combined_df = pd.concat([df1, df2], ignore_index=True)\n",
    "\n",
    "# Column names (change if yours are different)\n",
    "path_col = 'path'\n",
    "label_col = 'label'\n",
    "\n",
    "# New rows to save in the output CSV\n",
    "new_rows = []\n",
    "\n",
    "# Iterate with progress bar\n",
    "for i, row in tqdm(combined_df.iterrows(), total=len(combined_df), desc=\"Processing frames\"):\n",
    "    original_path = row[path_col]\n",
    "    label = row[label_col]\n",
    "\n",
    "    # Ensure the original path exists\n",
    "    if not os.path.exists(original_path):\n",
    "        tqdm.write(f\"[Warning] File not found: {original_path}\")\n",
    "        continue\n",
    "\n",
    "    # Generate a unique filename to avoid collisions\n",
    "    file_ext = os.path.splitext(original_path)[1]  # keep original extension\n",
    "    new_filename = f\"frame_{i:05d}{file_ext}\"      # e.g., frame_00001.jpg\n",
    "    new_path = os.path.join(combined_folder, new_filename)\n",
    "\n",
    "    # Copy the file\n",
    "    shutil.copy2(original_path, new_path)\n",
    "\n",
    "    # Save new path and label\n",
    "    new_rows.append([new_path, label])\n",
    "\n",
    "# Save the new CSV\n",
    "output_df = pd.DataFrame(new_rows, columns=[path_col, label_col])\n",
    "output_df.to_csv(output_csv, index=False)\n",
    "\n",
    "print(f\"\\n✅ Done. All frames copied and renamed into '{combined_folder}'\")\n",
    "print(f\"📄 Updated CSV saved as '{output_csv}' with new paths.\")\n"
   ]
  },
  {
   "cell_type": "code",
   "execution_count": 3,
   "id": "4c69c049",
   "metadata": {},
   "outputs": [
    {
     "name": "stdout",
     "output_type": "stream",
     "text": [
      "🔢 Label Counts:\n",
      "label\n",
      "0    26051\n",
      "1     4601\n",
      "Name: count, dtype: int64\n",
      "\n",
      "Total 0s: 26051\n",
      "Total 1s: 4601\n"
     ]
    }
   ],
   "source": [
    "import pandas as pd\n",
    "\n",
    "# Path to your combined CSV\n",
    "csv_path = 'combined_data/avenue/combined_data.csv'\n",
    "\n",
    "# Load the CSV\n",
    "df = pd.read_csv(csv_path)\n",
    "\n",
    "# Count values in 'label' column\n",
    "label_counts = df['label'].value_counts()\n",
    "\n",
    "# Print results\n",
    "print(\"🔢 Label Counts:\")\n",
    "print(label_counts)\n",
    "\n",
    "# Optional: show count for each label explicitly\n",
    "print(f\"\\nTotal 0s: {label_counts.get(0, 0)}\")\n",
    "print(f\"Total 1s: {label_counts.get(1, 0)}\")\n"
   ]
  },
  {
   "cell_type": "markdown",
   "id": "73e91e82",
   "metadata": {},
   "source": [
    "Read combined_data.csv with paths and labels.\n",
    "\n",
    "1- Undersample label 0:\n",
    "\n",
    "Keep all label 1 frames.\n",
    "\n",
    "From label 0, take 1 frame, skip the next 4, repeat.\n",
    "\n",
    "2- Split the resulting data into:\n",
    "\n",
    "70% training → move to folder avenue_train/\n",
    "\n",
    "30% testing → move to folder test_avenue/\n",
    "\n",
    "3- Save new CSV files for both sets: train.csv, test.csv."
   ]
  },
  {
   "cell_type": "code",
   "execution_count": 1,
   "id": "fa9a25c2",
   "metadata": {},
   "outputs": [
    {
     "name": "stderr",
     "output_type": "stream",
     "text": [
      "Copying to combined_data/avenue/avenue_train: 100%|██████████| 6868/6868 [04:41<00:00, 24.44it/s]\n",
      "Copying to combined_data/avenue/test_avenue: 100%|██████████| 2944/2944 [02:11<00:00, 22.32it/s]\n"
     ]
    },
    {
     "name": "stdout",
     "output_type": "stream",
     "text": [
      "\n",
      "✅ Finished. Train → 6868 samples. Test → 2944 samples.\n",
      "📂 Train folder: combined_data/avenue/avenue_train | CSV: combined_data/avenue/train.csv\n",
      "📂 Test folder: combined_data/avenue/test_avenue | CSV: combined_data/avenue/test.csv\n"
     ]
    }
   ],
   "source": [
    "import os\n",
    "import shutil\n",
    "import pandas as pd\n",
    "from sklearn.model_selection import train_test_split\n",
    "from tqdm import tqdm\n",
    "\n",
    "# === CONFIG ===\n",
    "input_csv = 'combined_data/avenue/combined_data.csv'\n",
    "train_dir = 'combined_data/avenue/avenue_train'\n",
    "test_dir = 'combined_data/avenue/test_avenue'\n",
    "train_csv = 'combined_data/avenue/train.csv'\n",
    "test_csv = 'combined_data/avenue/test.csv'\n",
    "undersample_ratio = 5  # keep 1 every 5 label 0 frames\n",
    "# ==============\n",
    "\n",
    "# Step 1: Load CSV\n",
    "df = pd.read_csv(input_csv)\n",
    "\n",
    "# Step 2: Undersample label 0\n",
    "label_1_df = df[df['label'] == 1]\n",
    "label_0_df = df[df['label'] == 0].reset_index(drop=True)\n",
    "label_0_sampled = label_0_df.iloc[::undersample_ratio]\n",
    "\n",
    "# Step 3: Combine balanced data\n",
    "balanced_df = pd.concat([label_1_df, label_0_sampled], ignore_index=True).sample(frac=1, random_state=42)\n",
    "\n",
    "# Step 4: Train-test split\n",
    "train_df, test_df = train_test_split(balanced_df, test_size=0.3, random_state=42, stratify=balanced_df['label'])\n",
    "\n",
    "# Step 5: Create output folders\n",
    "os.makedirs(train_dir, exist_ok=True)\n",
    "os.makedirs(test_dir, exist_ok=True)\n",
    "\n",
    "def move_files(df, target_folder):\n",
    "    updated_rows = []\n",
    "    for i, row in tqdm(df.iterrows(), total=len(df), desc=f\"Copying to {target_folder}\"):\n",
    "        old_path = row['path']\n",
    "        label = row['label']\n",
    "        filename = os.path.basename(old_path)\n",
    "        new_path = os.path.join(target_folder, filename)\n",
    "\n",
    "        if os.path.exists(old_path):\n",
    "            shutil.copy2(old_path, new_path)\n",
    "            updated_rows.append([new_path, label])\n",
    "        else:\n",
    "            tqdm.write(f\"[Warning] Missing file: {old_path}\")\n",
    "\n",
    "    return pd.DataFrame(updated_rows, columns=['path', 'label'])\n",
    "\n",
    "# Step 6: Move files and save new CSVs\n",
    "train_final_df = move_files(train_df, train_dir)\n",
    "test_final_df = move_files(test_df, test_dir)\n",
    "\n",
    "train_final_df.to_csv(train_csv, index=False)\n",
    "test_final_df.to_csv(test_csv, index=False)\n",
    "\n",
    "print(f\"\\n✅ Finished. Train → {len(train_final_df)} samples. Test → {len(test_final_df)} samples.\")\n",
    "print(f\"📂 Train folder: {train_dir} | CSV: {train_csv}\")\n",
    "print(f\"📂 Test folder: {test_dir} | CSV: {test_csv}\")\n"
   ]
  },
  {
   "cell_type": "code",
   "execution_count": 2,
   "id": "5d128d89",
   "metadata": {},
   "outputs": [
    {
     "name": "stdout",
     "output_type": "stream",
     "text": [
      "🔢 train label Counts:\n",
      "label\n",
      "0    3647\n",
      "1    3221\n",
      "Name: count, dtype: int64\n",
      "🔢 test label Counts:\n",
      "label\n",
      "0    1564\n",
      "1    1380\n",
      "Name: count, dtype: int64\n"
     ]
    }
   ],
   "source": [
    "import pandas as pd\n",
    "\n",
    "# Path to your combined CSV\n",
    "csv_path1 = 'combined_data/avenue/train.csv'\n",
    "csv_path2 = 'combined_data/avenue/test.csv'\n",
    "\n",
    "# Load the CSV\n",
    "df1 = pd.read_csv(csv_path1)\n",
    "df2 = pd.read_csv(csv_path2)\n",
    "\n",
    "# Count values in 'label' column\n",
    "label_counts1 = df1['label'].value_counts()\n",
    "label_counts2 = df2['label'].value_counts()\n",
    "\n",
    "# Print results\n",
    "print(\"🔢 train label Counts:\")\n",
    "print(label_counts1)\n",
    "print(\"🔢 test label Counts:\")\n",
    "print(label_counts2)"
   ]
  },
  {
   "cell_type": "code",
   "execution_count": null,
   "id": "1771c146",
   "metadata": {},
   "outputs": [
    {
     "name": "stdout",
     "output_type": "stream",
     "text": [
      "🔢 train label Counts:\n",
      "label\n",
      "1    12530\n",
      "0     9544\n",
      "Name: count, dtype: int64\n"
     ]
    }
   ],
   "source": [
    "import pandas as pd\n",
    "\n",
    "# Path to your combined CSV\n",
    "csv_path1 = 'data/Violent-Flows/violentflows_labels.csv'\n",
    "# Load the CSV\n",
    "df1 = pd.read_csv(csv_path1)\n",
    "\n",
    "# Count values in 'label' column\n",
    "label_counts1 = df1['label'].value_counts()\n",
    "\n",
    "# Print results\n",
    "print(\"🔢 train label Counts:\")\n",
    "print(label_counts1) "
   ]
  },
  {
   "cell_type": "markdown",
   "id": "5befd7b9",
   "metadata": {},
   "source": [
    "so the violent_flows dataset doesn't need any fixing "
   ]
  }
 ],
 "metadata": {
  "kernelspec": {
   "display_name": "Python 3",
   "language": "python",
   "name": "python3"
  },
  "language_info": {
   "codemirror_mode": {
    "name": "ipython",
    "version": 3
   },
   "file_extension": ".py",
   "mimetype": "text/x-python",
   "name": "python",
   "nbconvert_exporter": "python",
   "pygments_lexer": "ipython3",
   "version": "3.13.3"
  }
 },
 "nbformat": 4,
 "nbformat_minor": 5
}
