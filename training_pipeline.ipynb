{
 "cells": [
  {
   "cell_type": "markdown",
   "id": "46061af3",
   "metadata": {},
   "source": [
    "# ✅ Strategy Overview: Training 4 Models + Ensemble\n",
    "\n",
    "---\n",
    "\n",
    "## 🧩 Step 1: Train a CNN on Each Dataset Individually\n",
    "\n",
    "We already have:\n",
    "\n",
    "- `labels_avenue_train.csv` → **CNN_A**\n",
    "- `labels_ped1_train.csv` → **CNN_P1**\n",
    "- `labels_ped2_train.csv` → **CNN_P2**\n",
    "- `labels_violent_train.csv` → **CNN_VF**\n",
    "\n",
    "Each CNN:\n",
    "\n",
    "- Trained from scratch using the **same 7-layer CNN architecture**.\n",
    "- Uses only its own dataset’s images and labels.\n",
    "- Saved after training:\n",
    "  - `cnn_avenue.pth`\n",
    "  - `cnn_ped1.pth`\n",
    "  - `cnn_ped2.pth`\n",
    "  - `cnn_violent.pth`\n",
    "\n",
    "---\n",
    "\n",
    "\n",
    "## 🧬 Step 2: Combine the Models into an Ensemble\n",
    "\n",
    "### 🔹 Our solution: Ensemble Voting (Fast & Simple)\n",
    "\n",
    "- Input test frame into all 4 models.\n",
    "- Get predictions like: `[0, 1, 0, 1]`\n",
    "- Apply **majority voting** or **average the probabilities** for the final decision.\n",
    "\n",
    "## 🧠 Why This Works\n",
    "\n",
    "- Each dataset has its **own distribution**.\n",
    "- A model trained only on **Avenue** might struggle on **Violent-Flows**.\n",
    "- **Dataset-specific training** ensures deep understanding per domain.\n",
    "- The ensemble approach allows **generalization** across datasets — **without retraining on 12k frames**.\n"
   ]
  },
  {
   "cell_type": "markdown",
   "id": "1aea9b0e",
   "metadata": {},
   "source": [
    "### 📁 CNN_A: Training on Avenue Dataset\n",
    "We begin by training a CNN using the Avenue dataset. The model is based on our 7-layer architecture:\n",
    "\n",
    "1. Input: 200×200 grayscale\n",
    "2. Conv(64, 3×3) + ReLU + MaxPooling(2×2)\n",
    "3. Conv(64, 3×3) + ReLU + MaxPooling(2×2)\n",
    "4. Flatten\n",
    "5. FC + ReLU\n",
    "6. FC + Sigmoid\n",
    "7. Output: Binary (0=Normal, 1=Abnormal)\n",
    "\n",
    "Dataset: `labels_avenue_train.csv`\n"
   ]
  },
  {
   "cell_type": "code",
   "execution_count": 1,
   "id": "a8c99ab7",
   "metadata": {},
   "outputs": [],
   "source": [
    "import torch\n",
    "import torch.nn as nn\n",
    "import torch.optim as optim\n",
    "from torch.utils.data import DataLoader, Dataset\n",
    "import pandas as pd\n",
    "from PIL import Image\n",
    "from torchvision import transforms\n",
    "import os\n",
    "\n",
    "# Custom dataset\n",
    "class FrameDataset(Dataset):\n",
    "    def __init__(self, csv_file):\n",
    "        self.data = pd.read_csv(csv_file)\n",
    "        self.transform = transforms.Compose([\n",
    "            transforms.Grayscale(),\n",
    "            transforms.Resize((200, 200)),\n",
    "            transforms.ToTensor()\n",
    "        ])\n",
    "\n",
    "    def __len__(self):\n",
    "        return len(self.data)\n",
    "\n",
    "    def __getitem__(self, idx):\n",
    "        img_path = self.data.iloc[idx]['path']\n",
    "        label = self.data.iloc[idx]['label']\n",
    "        image = Image.open(img_path)\n",
    "        image = self.transform(image)\n",
    "        return image, torch.tensor(label, dtype=torch.float32)\n",
    "\n",
    "# Dataset & loader\n",
    "avenue_dataset = FrameDataset('data/avenue/train_labels.csv')\n",
    "avenue_loader = DataLoader(avenue_dataset, batch_size=32, shuffle=True)\n"
   ]
  },
  {
   "cell_type": "markdown",
   "id": "b5765b71",
   "metadata": {},
   "source": [
    "### 🧠 CNN Architecture Definition\n",
    "This CNN model has the following layers:\n",
    "\n",
    "1. Conv Block 1: Conv2d → ReLU → MaxPool\n",
    "2. Conv Block 2: Conv2d → ReLU → MaxPool\n",
    "3. Flatten\n",
    "4. FC Layer 1: Linear → ReLU\n",
    "5. FC Layer 2: Linear → Sigmoid (for binary classification)\n"
   ]
  },
  {
   "cell_type": "code",
   "execution_count": 2,
   "id": "226b85bf",
   "metadata": {},
   "outputs": [],
   "source": [
    "class CNN_Avenue(nn.Module):\n",
    "    def __init__(self):\n",
    "        super(CNN_Avenue, self).__init__()\n",
    "        self.conv1 = nn.Sequential(\n",
    "            nn.Conv2d(1, 64, kernel_size=3, stride=1, padding=1),\n",
    "            nn.ReLU(),\n",
    "            nn.MaxPool2d(kernel_size=2, stride=2)\n",
    "        )\n",
    "        self.conv2 = nn.Sequential(\n",
    "            nn.Conv2d(64, 64, kernel_size=3, stride=1, padding=1),\n",
    "            nn.ReLU(),\n",
    "            nn.MaxPool2d(kernel_size=2, stride=2)\n",
    "        )\n",
    "        self.flatten = nn.Flatten()\n",
    "        self.fc1 = nn.Sequential(\n",
    "            nn.Linear(64 * 50 * 50, 128),\n",
    "            nn.ReLU()\n",
    "        )\n",
    "        self.fc2 = nn.Sequential(\n",
    "            nn.Linear(128, 1),\n",
    "            nn.Sigmoid()\n",
    "        )\n",
    "\n",
    "    def forward(self, x):\n",
    "        x = self.conv1(x)\n",
    "        x = self.conv2(x)\n",
    "        x = self.flatten(x)\n",
    "        x = self.fc1(x)\n",
    "        x = self.fc2(x)\n",
    "        return x.squeeze()\n"
   ]
  },
  {
   "cell_type": "markdown",
   "id": "6d444571",
   "metadata": {},
   "source": [
    "### 🎯 Model Training Setup\n",
    "We define the training loop using:\n",
    "\n",
    "- **Loss Function**: Binary Cross Entropy (BCE)\n",
    "- **Optimizer**: Adam\n",
    "- **Epochs**: Typically 5–20 depending on dataset size\n",
    "- **Metrics**: We'll track loss and (optionally) accuracy\n",
    "After training, we save the model as `cnn_avenue.pth`.\n"
   ]
  },
  {
   "cell_type": "code",
   "execution_count": null,
   "id": "cf6ee1ab",
   "metadata": {},
   "outputs": [
    {
     "name": "stderr",
     "output_type": "stream",
     "text": [
      "                                                                           \r"
     ]
    },
    {
     "name": "stdout",
     "output_type": "stream",
     "text": [
      "📅 Epoch 1/10 - 🔻 Loss: 0.0015\n"
     ]
    },
    {
     "name": "stderr",
     "output_type": "stream",
     "text": [
      "                                                                     \r"
     ]
    },
    {
     "name": "stdout",
     "output_type": "stream",
     "text": [
      "📅 Epoch 2/10 - 🔻 Loss: 0.0000\n"
     ]
    },
    {
     "name": "stderr",
     "output_type": "stream",
     "text": [
      "                                                                     \r"
     ]
    },
    {
     "name": "stdout",
     "output_type": "stream",
     "text": [
      "📅 Epoch 3/10 - 🔻 Loss: 0.0000\n"
     ]
    },
    {
     "name": "stderr",
     "output_type": "stream",
     "text": [
      "                                                                     \r"
     ]
    },
    {
     "name": "stdout",
     "output_type": "stream",
     "text": [
      "📅 Epoch 4/10 - 🔻 Loss: 0.0000\n"
     ]
    },
    {
     "name": "stderr",
     "output_type": "stream",
     "text": [
      "                                                                     \r"
     ]
    },
    {
     "name": "stdout",
     "output_type": "stream",
     "text": [
      "📅 Epoch 5/10 - 🔻 Loss: 0.0000\n"
     ]
    },
    {
     "name": "stderr",
     "output_type": "stream",
     "text": [
      "                                                                     \r"
     ]
    },
    {
     "name": "stdout",
     "output_type": "stream",
     "text": [
      "📅 Epoch 6/10 - 🔻 Loss: 0.0000\n"
     ]
    },
    {
     "name": "stderr",
     "output_type": "stream",
     "text": [
      "                                                                     \r"
     ]
    },
    {
     "name": "stdout",
     "output_type": "stream",
     "text": [
      "📅 Epoch 7/10 - 🔻 Loss: 0.0000\n"
     ]
    },
    {
     "name": "stderr",
     "output_type": "stream",
     "text": [
      "                                                                     \r"
     ]
    },
    {
     "name": "stdout",
     "output_type": "stream",
     "text": [
      "📅 Epoch 8/10 - 🔻 Loss: 0.0000\n"
     ]
    },
    {
     "name": "stderr",
     "output_type": "stream",
     "text": [
      "                                                                     \r"
     ]
    },
    {
     "name": "stdout",
     "output_type": "stream",
     "text": [
      "📅 Epoch 9/10 - 🔻 Loss: 0.0000\n"
     ]
    },
    {
     "name": "stderr",
     "output_type": "stream",
     "text": [
      "                                                                      "
     ]
    },
    {
     "name": "stdout",
     "output_type": "stream",
     "text": [
      "📅 Epoch 10/10 - 🔻 Loss: 0.0000\n"
     ]
    },
    {
     "name": "stderr",
     "output_type": "stream",
     "text": [
      "\r"
     ]
    }
   ],
   "source": [
    "from tqdm import tqdm  # import tqdm at the top\n",
    "\n",
    "device = torch.device('cuda' if torch.cuda.is_available() else 'cpu')\n",
    "\n",
    "model = CNN_Avenue().to(device)\n",
    "criterion = nn.BCELoss()\n",
    "optimizer = optim.Adam(model.parameters(), lr=0.0005)\n",
    "\n",
    "num_epochs = 10\n",
    "\n",
    "for epoch in range(num_epochs):\n",
    "    model.train()\n",
    "    total_loss = 0\n",
    "    \n",
    "    # Wrap the dataloader with tqdm to show batch progress\n",
    "    loop = tqdm(avenue_loader, desc=f\"Epoch {epoch+1}/{num_epochs}\", leave=False)\n",
    "    \n",
    "    for images, labels in loop:\n",
    "        images = images.to(device)\n",
    "        labels = labels.to(device).float()\n",
    "\n",
    "        optimizer.zero_grad()\n",
    "        outputs = model(images)\n",
    "        loss = criterion(outputs, labels)\n",
    "        loss.backward()\n",
    "        optimizer.step()\n",
    "\n",
    "        total_loss += loss.item()\n",
    "        \n",
    "        loop.set_postfix(loss=loss.item())\n",
    "\n",
    "    print(f\"📅 Epoch {epoch+1}/{num_epochs} - 🔻 Loss: {total_loss / len(avenue_loader):.4f}\")\n"
   ]
  },
  {
   "cell_type": "markdown",
   "id": "8166c880",
   "metadata": {},
   "source": [
    "### ✅ Save the Trained CNN_Avenue Model\n",
    "After training completes, we save the model weights for later use in ensemble or evaluation.\n"
   ]
  },
  {
   "cell_type": "code",
   "execution_count": null,
   "id": "5d1467e2",
   "metadata": {},
   "outputs": [
    {
     "name": "stdout",
     "output_type": "stream",
     "text": [
      "✅ Model saved to cnn_avenue.pth\n"
     ]
    }
   ],
   "source": [
    "torch.save(model.state_dict(), \"models/cnn_avenue.pth\")\n",
    "print(\"✅ Model saved to cnn_avenue.pth\")"
   ]
  },
  {
   "cell_type": "markdown",
   "id": "cf4d29ca",
   "metadata": {},
   "source": [
    "📊 Step 5: Evaluation on Test Set using ROC, AUC, and EER\n",
    "We will:\n",
    "\n",
    "Load the saved model (cnn_avenue.pth)\n",
    "\n",
    "Run inference on a labeled test set (labels_avenue_test.csv)\n",
    "\n",
    "Calculate TPR, FPR, and plot ROC curve\n",
    "\n",
    "Compute AUC and EER"
   ]
  },
  {
   "cell_type": "code",
   "execution_count": 3,
   "id": "97b5e7f9",
   "metadata": {},
   "outputs": [],
   "source": [
    "from sklearn.metrics import roc_curve, auc\n",
    "import matplotlib.pyplot as plt\n",
    "import numpy as np\n",
    "\n",
    "# Step 1: Prepare test dataset\n",
    "class TestFrameDataset(Dataset):\n",
    "    def __init__(self, csv_file):\n",
    "        self.data = pd.read_csv(csv_file)\n",
    "        self.transform = transforms.Compose([\n",
    "            transforms.Grayscale(),\n",
    "            transforms.Resize((200, 200)),\n",
    "            transforms.ToTensor()\n",
    "        ])\n",
    "\n",
    "    def __len__(self):\n",
    "        return len(self.data)\n",
    "\n",
    "    def __getitem__(self, idx):\n",
    "        img_path = self.data.iloc[idx]['path']\n",
    "        label = self.data.iloc[idx]['label']\n",
    "        image = Image.open(img_path)\n",
    "        image = self.transform(image)\n",
    "        return image, torch.tensor(label, dtype=torch.float32)\n",
    "\n",
    "# Load test data\n",
    "test_dataset = TestFrameDataset(\"data/avenue/test_labels.csv\")\n",
    "test_loader = DataLoader(test_dataset, batch_size=1, shuffle=False)\n"
   ]
  },
  {
   "cell_type": "code",
   "execution_count": null,
   "id": "9c25a516",
   "metadata": {},
   "outputs": [
    {
     "data": {
      "text/plain": [
       "CNN_Avenue(\n",
       "  (conv1): Sequential(\n",
       "    (0): Conv2d(1, 64, kernel_size=(3, 3), stride=(1, 1), padding=(1, 1))\n",
       "    (1): ReLU()\n",
       "    (2): MaxPool2d(kernel_size=2, stride=2, padding=0, dilation=1, ceil_mode=False)\n",
       "  )\n",
       "  (conv2): Sequential(\n",
       "    (0): Conv2d(64, 64, kernel_size=(3, 3), stride=(1, 1), padding=(1, 1))\n",
       "    (1): ReLU()\n",
       "    (2): MaxPool2d(kernel_size=2, stride=2, padding=0, dilation=1, ceil_mode=False)\n",
       "  )\n",
       "  (flatten): Flatten(start_dim=1, end_dim=-1)\n",
       "  (fc1): Sequential(\n",
       "    (0): Linear(in_features=160000, out_features=128, bias=True)\n",
       "    (1): ReLU()\n",
       "  )\n",
       "  (fc2): Sequential(\n",
       "    (0): Linear(in_features=128, out_features=1, bias=True)\n",
       "    (1): Sigmoid()\n",
       "  )\n",
       ")"
      ]
     },
     "execution_count": 5,
     "metadata": {},
     "output_type": "execute_result"
    }
   ],
   "source": [
    "model = CNN_Avenue().to(device)\n",
    "model.load_state_dict(torch.load(\"models/cnn_avenue.pth\"))\n",
    "model.eval()"
   ]
  },
  {
   "cell_type": "code",
   "execution_count": 6,
   "id": "d8c93660",
   "metadata": {},
   "outputs": [
    {
     "name": "stderr",
     "output_type": "stream",
     "text": [
      "Inference Progress: 100%|██████████| 15324/15324 [16:43<00:00, 15.28it/s] \n"
     ]
    }
   ],
   "source": [
    "from tqdm import tqdm\n",
    "y_true = []\n",
    "y_scores = []\n",
    "\n",
    "model.eval()  # Always good practice during inference\n",
    "\n",
    "with torch.no_grad():\n",
    "    for images, labels in tqdm(test_loader, desc=\"Inference Progress\"):\n",
    "        images = images.to(device)\n",
    "        output = model(images)\n",
    "        y_scores.append(output.item())\n",
    "        y_true.append(labels.item())\n"
   ]
  },
  {
   "cell_type": "code",
   "execution_count": 7,
   "id": "47a498a8",
   "metadata": {},
   "outputs": [
    {
     "name": "stderr",
     "output_type": "stream",
     "text": [
      "C:\\Users\\Lenovo\\AppData\\Roaming\\Python\\Python313\\site-packages\\IPython\\core\\pylabtools.py:170: UserWarning: Glyph 128200 (\\N{CHART WITH UPWARDS TREND}) missing from font(s) DejaVu Sans.\n",
      "  fig.canvas.print_figure(bytes_io, **kw)\n"
     ]
    },
    {
     "data": {
      "image/png": "[encoded data removed]",
      "text/plain": [
       "<Figure size 640x480 with 1 Axes>"
      ]
     },
     "metadata": {},
     "output_type": "display_data"
    },
    {
     "name": "stdout",
     "output_type": "stream",
     "text": [
      "✅ AUC: 0.5000\n",
      "✅ EER: 0.0000 at threshold: inf\n"
     ]
    }
   ],
   "source": [
    "# Step 4: Compute ROC and AUC\n",
    "fpr, tpr, thresholds = roc_curve(y_true, y_scores)\n",
    "roc_auc = auc(fpr, tpr)\n",
    "\n",
    "# Plot ROC\n",
    "plt.figure()\n",
    "plt.plot(fpr, tpr, color='darkorange', lw=2, label=f'ROC curve (AUC = {roc_auc:.2f})')\n",
    "plt.plot([0, 1], [0, 1], color='navy', linestyle='--')\n",
    "plt.xlabel('False Positive Rate (FPR)')\n",
    "plt.ylabel('True Positive Rate (TPR)')\n",
    "plt.title('📈 ROC Curve – CNN_Avenue')\n",
    "plt.legend(loc=\"lower right\")\n",
    "plt.grid()\n",
    "plt.show()\n",
    "\n",
    "# Step 5: Compute EER\n",
    "# EER is where FPR = 1 - TPR\n",
    "eer_threshold = thresholds[np.nanargmin(np.absolute((1 - tpr) - fpr))]\n",
    "eer = fpr[np.nanargmin(np.absolute((1 - tpr) - fpr))]\n",
    "\n",
    "print(f\"✅ AUC: {roc_auc:.4f}\")\n",
    "print(f\"✅ EER: {eer:.4f} at threshold: {eer_threshold:.4f}\")"
   ]
  },
  {
   "cell_type": "markdown",
   "id": "c5e20b11",
   "metadata": {},
   "source": [
    "🧪 Step 1: Train CNN on UCSD Ped1 Dataset (CNN_P1)\n",
    "We'll follow the same process:\n",
    "\n",
    "Define dataset loader\n",
    "\n",
    "Define CNN model (same architecture)\n",
    "\n",
    "Train the model\n",
    "\n",
    "Save the model: cnn_ped1.pth\n",
    "\n",
    "Evaluate using ROC, AUC, and EER\n",
    "\n"
   ]
  },
  {
   "cell_type": "code",
   "execution_count": 8,
   "id": "a7db507b",
   "metadata": {},
   "outputs": [],
   "source": [
    "class FrameDatasetPed1(Dataset):\n",
    "    def __init__(self, csv_file):\n",
    "        self.data = pd.read_csv(csv_file)\n",
    "        self.transform = transforms.Compose([\n",
    "            transforms.Grayscale(),\n",
    "            transforms.Resize((200, 200)),\n",
    "            transforms.ToTensor()\n",
    "        ])\n",
    "\n",
    "    def __len__(self):\n",
    "        return len(self.data)\n",
    "\n",
    "    def __getitem__(self, idx):\n",
    "        img_path = self.data.iloc[idx]['path']\n",
    "        label = self.data.iloc[idx]['label']\n",
    "        image = Image.open(img_path)\n",
    "        image = self.transform(image)\n",
    "        return image, torch.tensor(label, dtype=torch.float32)\n",
    "\n",
    "# Load training data\n",
    "train_dataset_ped1 = FrameDatasetPed1(\"data/UCSD_Anomaly_Dataset.v1p2/labels_ped1_train.csv\")\n",
    "train_loader_ped1 = DataLoader(train_dataset_ped1, batch_size=32, shuffle=True)\n"
   ]
  },
  {
   "cell_type": "markdown",
   "id": "1c38cf04",
   "metadata": {},
   "source": [
    "🧱 Step 2: Use same CNN model"
   ]
  },
  {
   "cell_type": "code",
   "execution_count": 9,
   "id": "708bd6b1",
   "metadata": {},
   "outputs": [],
   "source": [
    "model = CNN_Avenue().to(device)\n",
    "criterion = nn.BCELoss()\n",
    "optimizer = optim.Adam(model.parameters(), lr=0.0005)"
   ]
  },
  {
   "cell_type": "markdown",
   "id": "12d3453e",
   "metadata": {},
   "source": [
    "🧱 Step 3: Training Loop"
   ]
  },
  {
   "cell_type": "code",
   "execution_count": null,
   "id": "80a92fbc",
   "metadata": {},
   "outputs": [
    {
     "name": "stderr",
     "output_type": "stream",
     "text": [
      "                                                                              \r"
     ]
    },
    {
     "name": "stdout",
     "output_type": "stream",
     "text": [
      "✅ Epoch 1/10 - 🔻 Avg Loss: 0.0030\n"
     ]
    },
    {
     "name": "stderr",
     "output_type": "stream",
     "text": [
      "                                                                        \r"
     ]
    },
    {
     "name": "stdout",
     "output_type": "stream",
     "text": [
      "✅ Epoch 2/10 - 🔻 Avg Loss: 0.0000\n"
     ]
    },
    {
     "name": "stderr",
     "output_type": "stream",
     "text": [
      "                                                                        \r"
     ]
    },
    {
     "name": "stdout",
     "output_type": "stream",
     "text": [
      "✅ Epoch 3/10 - 🔻 Avg Loss: 0.0000\n"
     ]
    },
    {
     "name": "stderr",
     "output_type": "stream",
     "text": [
      "                                                                        \r"
     ]
    },
    {
     "name": "stdout",
     "output_type": "stream",
     "text": [
      "✅ Epoch 4/10 - 🔻 Avg Loss: 0.0000\n"
     ]
    },
    {
     "name": "stderr",
     "output_type": "stream",
     "text": [
      "                                                                        \r"
     ]
    },
    {
     "name": "stdout",
     "output_type": "stream",
     "text": [
      "✅ Epoch 5/10 - 🔻 Avg Loss: 0.0000\n"
     ]
    },
    {
     "name": "stderr",
     "output_type": "stream",
     "text": [
      "                                                                        \r"
     ]
    },
    {
     "name": "stdout",
     "output_type": "stream",
     "text": [
      "✅ Epoch 6/10 - 🔻 Avg Loss: 0.0000\n"
     ]
    },
    {
     "name": "stderr",
     "output_type": "stream",
     "text": [
      "                                                                        \r"
     ]
    },
    {
     "name": "stdout",
     "output_type": "stream",
     "text": [
      "✅ Epoch 7/10 - 🔻 Avg Loss: 0.0000\n"
     ]
    },
    {
     "name": "stderr",
     "output_type": "stream",
     "text": [
      "                                                                        \r"
     ]
    },
    {
     "name": "stdout",
     "output_type": "stream",
     "text": [
      "✅ Epoch 8/10 - 🔻 Avg Loss: 0.0000\n"
     ]
    },
    {
     "name": "stderr",
     "output_type": "stream",
     "text": [
      "                                                                        \r"
     ]
    },
    {
     "name": "stdout",
     "output_type": "stream",
     "text": [
      "✅ Epoch 9/10 - 🔻 Avg Loss: 0.0000\n"
     ]
    },
    {
     "name": "stderr",
     "output_type": "stream",
     "text": [
      "                                                                         "
     ]
    },
    {
     "name": "stdout",
     "output_type": "stream",
     "text": [
      "✅ Epoch 10/10 - 🔻 Avg Loss: 0.0000\n"
     ]
    },
    {
     "name": "stderr",
     "output_type": "stream",
     "text": [
      "\r"
     ]
    }
   ],
   "source": [
    "from tqdm import tqdm\n",
    "\n",
    "num_epochs = 10\n",
    "\n",
    "for epoch in range(num_epochs):\n",
    "    model.train()\n",
    "    total_loss = 0\n",
    "\n",
    "    # Wrap the train_loader with tqdm for progress bar\n",
    "    loop = tqdm(train_loader_ped1, desc=f\"📅 Epoch {epoch+1}/{num_epochs}\", leave=False)\n",
    "\n",
    "    for images, labels in loop:\n",
    "        images = images.to(device)\n",
    "        labels = labels.to(device).float()\n",
    "\n",
    "        optimizer.zero_grad()\n",
    "        outputs = model(images)\n",
    "        loss = criterion(outputs, labels)\n",
    "        loss.backward()\n",
    "        optimizer.step()\n",
    "\n",
    "        total_loss += loss.item()\n",
    "\n",
    "        # Update tqdm description dynamically\n",
    "        loop.set_postfix(loss=loss.item())\n",
    "\n",
    "    print(f\"✅ Epoch {epoch+1}/{num_epochs} - 🔻 Avg Loss: {total_loss / len(train_loader_ped1):.4f}\")\n"
   ]
  },
  {
   "cell_type": "markdown",
   "id": "4982c10e",
   "metadata": {},
   "source": [
    "✅ Step 4: Save Trained Model"
   ]
  },
  {
   "cell_type": "code",
   "execution_count": null,
   "id": "73ae3c99",
   "metadata": {},
   "outputs": [],
   "source": [
    "torch.save(model.state_dict(), \"models/cnn_ped1.pth\")\n",
    "print(\"✅ Model saved to cnn_ped1.pth\")\n"
   ]
  },
  {
   "cell_type": "markdown",
   "id": "9a07e369",
   "metadata": {},
   "source": [
    "Step 1: Train CNN on UCSD Ped2 Dataset (CNN_P2)\n",
    "We’ll follow the same process:\n",
    "\n",
    "📄 Dataset CSV: labels_ped2_train.csv\n",
    "\n",
    "📦 Custom Dataset + DataLoader\n",
    "\n",
    "🧱 Model: Same architecture (CNN_Avenue)\n",
    "\n",
    "🎯 Training loop\n",
    "\n",
    "💾 Save: cnn_ped2.pth"
   ]
  },
  {
   "cell_type": "code",
   "execution_count": 10,
   "id": "046746d5",
   "metadata": {},
   "outputs": [],
   "source": [
    "class FrameDatasetPed2(Dataset):\n",
    "    def __init__(self, csv_file):\n",
    "        self.data = pd.read_csv(csv_file)\n",
    "        self.transform = transforms.Compose([\n",
    "            transforms.Grayscale(),\n",
    "            transforms.Resize((200, 200)),\n",
    "            transforms.ToTensor()\n",
    "        ])\n",
    "\n",
    "    def __len__(self):\n",
    "        return len(self.data)\n",
    "\n",
    "    def __getitem__(self, idx):\n",
    "        img_path = self.data.iloc[idx]['path']\n",
    "        label = self.data.iloc[idx]['label']\n",
    "        image = Image.open(img_path)\n",
    "        image = self.transform(image)\n",
    "        return image, torch.tensor(label, dtype=torch.float32)\n",
    "\n",
    "# Create DataLoader\n",
    "train_dataset_ped2 = FrameDatasetPed2(\"data/UCSD_Anomaly_Dataset.v1p2/labels_ped2_train.csv\")\n",
    "train_loader_ped2 = DataLoader(train_dataset_ped2, batch_size=32, shuffle=True)\n"
   ]
  },
  {
   "cell_type": "markdown",
   "id": "1a166531",
   "metadata": {},
   "source": [
    "🧱 Step 2: CNN Model + Optimizer"
   ]
  },
  {
   "cell_type": "code",
   "execution_count": 11,
   "id": "ca2c3227",
   "metadata": {},
   "outputs": [],
   "source": [
    "model = CNN_Avenue().to(device)\n",
    "criterion = nn.BCELoss()\n",
    "optimizer = optim.Adam(model.parameters(), lr=0.0005)\n"
   ]
  },
  {
   "cell_type": "markdown",
   "id": "0306a48f",
   "metadata": {},
   "source": [
    "🧱 Step 3: Training Loop"
   ]
  },
  {
   "cell_type": "code",
   "execution_count": null,
   "id": "160b85ee",
   "metadata": {},
   "outputs": [
    {
     "name": "stderr",
     "output_type": "stream",
     "text": [
      "                                                                             \r"
     ]
    },
    {
     "name": "stdout",
     "output_type": "stream",
     "text": [
      "✅ Epoch 1/10 - 🔻 Avg Loss: 0.0091\n"
     ]
    },
    {
     "name": "stderr",
     "output_type": "stream",
     "text": [
      "                                                                      \r"
     ]
    },
    {
     "name": "stdout",
     "output_type": "stream",
     "text": [
      "✅ Epoch 2/10 - 🔻 Avg Loss: 0.0000\n"
     ]
    },
    {
     "name": "stderr",
     "output_type": "stream",
     "text": [
      "                                                                      \r"
     ]
    },
    {
     "name": "stdout",
     "output_type": "stream",
     "text": [
      "✅ Epoch 3/10 - 🔻 Avg Loss: 0.0000\n"
     ]
    },
    {
     "name": "stderr",
     "output_type": "stream",
     "text": [
      "                                                                      \r"
     ]
    },
    {
     "name": "stdout",
     "output_type": "stream",
     "text": [
      "✅ Epoch 4/10 - 🔻 Avg Loss: 0.0000\n"
     ]
    },
    {
     "name": "stderr",
     "output_type": "stream",
     "text": [
      "                                                                      \r"
     ]
    },
    {
     "name": "stdout",
     "output_type": "stream",
     "text": [
      "✅ Epoch 5/10 - 🔻 Avg Loss: 0.0000\n"
     ]
    },
    {
     "name": "stderr",
     "output_type": "stream",
     "text": [
      "                                                                      \r"
     ]
    },
    {
     "name": "stdout",
     "output_type": "stream",
     "text": [
      "✅ Epoch 6/10 - 🔻 Avg Loss: 0.0000\n"
     ]
    },
    {
     "name": "stderr",
     "output_type": "stream",
     "text": [
      "                                                                      \r"
     ]
    },
    {
     "name": "stdout",
     "output_type": "stream",
     "text": [
      "✅ Epoch 7/10 - 🔻 Avg Loss: 0.0000\n"
     ]
    },
    {
     "name": "stderr",
     "output_type": "stream",
     "text": [
      "                                                                      \r"
     ]
    },
    {
     "name": "stdout",
     "output_type": "stream",
     "text": [
      "✅ Epoch 8/10 - 🔻 Avg Loss: 0.0000\n"
     ]
    },
    {
     "name": "stderr",
     "output_type": "stream",
     "text": [
      "                                                                      \r"
     ]
    },
    {
     "name": "stdout",
     "output_type": "stream",
     "text": [
      "✅ Epoch 9/10 - 🔻 Avg Loss: 0.0000\n"
     ]
    },
    {
     "name": "stderr",
     "output_type": "stream",
     "text": [
      "                                                                       "
     ]
    },
    {
     "name": "stdout",
     "output_type": "stream",
     "text": [
      "✅ Epoch 10/10 - 🔻 Avg Loss: 0.0000\n"
     ]
    },
    {
     "name": "stderr",
     "output_type": "stream",
     "text": [
      "\r"
     ]
    }
   ],
   "source": [
    "from tqdm import tqdm\n",
    "\n",
    "num_epochs = 10\n",
    "\n",
    "for epoch in range(num_epochs):\n",
    "    model.train()\n",
    "    total_loss = 0\n",
    "\n",
    "    # tqdm progress bar for each batch in the epoch\n",
    "    loop = tqdm(train_loader_ped2, desc=f\"📅 Epoch {epoch+1}/{num_epochs}\", leave=False)\n",
    "\n",
    "    for images, labels in loop:\n",
    "        images = images.to(device)\n",
    "        labels = labels.to(device).float()\n",
    "\n",
    "        optimizer.zero_grad()\n",
    "        outputs = model(images)\n",
    "        loss = criterion(outputs, labels)\n",
    "        loss.backward()\n",
    "        optimizer.step()\n",
    "\n",
    "        total_loss += loss.item()\n",
    "\n",
    "        # Update progress bar with current batch loss\n",
    "        loop.set_postfix(loss=loss.item())\n",
    "\n",
    "    print(f\"✅ Epoch {epoch+1}/{num_epochs} - 🔻 Avg Loss: {total_loss / len(train_loader_ped2):.4f}\")\n"
   ]
  },
  {
   "cell_type": "code",
   "execution_count": null,
   "id": "e2efd23b",
   "metadata": {},
   "outputs": [],
   "source": [
    "torch.save(model.state_dict(), \"models/cnn_ped2.pth\")\n",
    "print(\"✅ Model saved to cnn_ped2.pth\")\n"
   ]
  },
  {
   "cell_type": "markdown",
   "id": "2cb92bbc",
   "metadata": {},
   "source": [
    "Last one for vilolent flows\n"
   ]
  },
  {
   "cell_type": "code",
   "execution_count": 12,
   "id": "2623a094",
   "metadata": {},
   "outputs": [],
   "source": [
    "class FrameDatasetVF(Dataset):\n",
    "    def __init__(self, csv_file):\n",
    "        self.data = pd.read_csv(csv_file)\n",
    "        self.transform = transforms.Compose([\n",
    "            transforms.Grayscale(),\n",
    "            transforms.Resize((200, 200)),\n",
    "            transforms.ToTensor()\n",
    "        ])\n",
    "\n",
    "    def __len__(self):\n",
    "        return len(self.data)\n",
    "\n",
    "    def __getitem__(self, idx):\n",
    "        img_path = self.data.iloc[idx]['path']\n",
    "        label = self.data.iloc[idx]['label']\n",
    "        image = Image.open(img_path)\n",
    "        image = self.transform(image)\n",
    "        return image, torch.tensor(label, dtype=torch.float32)\n",
    "\n",
    "# Create DataLoader\n",
    "train_dataset_vf = FrameDatasetVF(\"data/Violent-Flows/violentflows_labels.csv\")\n",
    "train_loader_vf = DataLoader(train_dataset_vf, batch_size=32, shuffle=True)\n"
   ]
  },
  {
   "cell_type": "code",
   "execution_count": 13,
   "id": "88b2c6fc",
   "metadata": {},
   "outputs": [],
   "source": [
    "model = CNN_Avenue().to(device)\n",
    "criterion = nn.BCELoss()\n",
    "optimizer = optim.Adam(model.parameters(), lr=0.0005)\n"
   ]
  },
  {
   "cell_type": "code",
   "execution_count": null,
   "id": "03161cc2",
   "metadata": {},
   "outputs": [
    {
     "name": "stderr",
     "output_type": "stream",
     "text": [
      "                                                                             \r"
     ]
    },
    {
     "name": "stdout",
     "output_type": "stream",
     "text": [
      "✅ Epoch 1/10 - 🔻 Avg Loss: 0.3294\n"
     ]
    },
    {
     "name": "stderr",
     "output_type": "stream",
     "text": [
      "                                                                              \r"
     ]
    },
    {
     "name": "stdout",
     "output_type": "stream",
     "text": [
      "✅ Epoch 2/10 - 🔻 Avg Loss: 0.0545\n"
     ]
    },
    {
     "name": "stderr",
     "output_type": "stream",
     "text": [
      "                                                                               \r"
     ]
    },
    {
     "name": "stdout",
     "output_type": "stream",
     "text": [
      "✅ Epoch 3/10 - 🔻 Avg Loss: 0.0186\n"
     ]
    },
    {
     "name": "stderr",
     "output_type": "stream",
     "text": [
      "                                                                               \r"
     ]
    },
    {
     "name": "stdout",
     "output_type": "stream",
     "text": [
      "✅ Epoch 4/10 - 🔻 Avg Loss: 0.0086\n"
     ]
    },
    {
     "name": "stderr",
     "output_type": "stream",
     "text": [
      "                                                                               \r"
     ]
    },
    {
     "name": "stdout",
     "output_type": "stream",
     "text": [
      "✅ Epoch 5/10 - 🔻 Avg Loss: 0.0037\n"
     ]
    },
    {
     "name": "stderr",
     "output_type": "stream",
     "text": [
      "                                                                               \r"
     ]
    },
    {
     "name": "stdout",
     "output_type": "stream",
     "text": [
      "✅ Epoch 6/10 - 🔻 Avg Loss: 0.0013\n"
     ]
    },
    {
     "name": "stderr",
     "output_type": "stream",
     "text": [
      "                                                                               \r"
     ]
    },
    {
     "name": "stdout",
     "output_type": "stream",
     "text": [
      "✅ Epoch 7/10 - 🔻 Avg Loss: 0.0009\n"
     ]
    },
    {
     "name": "stderr",
     "output_type": "stream",
     "text": [
      "                                                                               \r"
     ]
    },
    {
     "name": "stdout",
     "output_type": "stream",
     "text": [
      "✅ Epoch 8/10 - 🔻 Avg Loss: 0.0083\n"
     ]
    },
    {
     "name": "stderr",
     "output_type": "stream",
     "text": [
      "                                                                               \r"
     ]
    },
    {
     "name": "stdout",
     "output_type": "stream",
     "text": [
      "✅ Epoch 9/10 - 🔻 Avg Loss: 0.0038\n"
     ]
    },
    {
     "name": "stderr",
     "output_type": "stream",
     "text": [
      "                                                                                "
     ]
    },
    {
     "name": "stdout",
     "output_type": "stream",
     "text": [
      "✅ Epoch 10/10 - 🔻 Avg Loss: 0.0004\n"
     ]
    },
    {
     "name": "stderr",
     "output_type": "stream",
     "text": [
      "\r"
     ]
    }
   ],
   "source": [
    "from tqdm import tqdm\n",
    "\n",
    "num_epochs = 10\n",
    "\n",
    "for epoch in range(num_epochs):\n",
    "    model.train()\n",
    "    total_loss = 0\n",
    "\n",
    "    # tqdm progress bar for each batch in the epoch\n",
    "    loop = tqdm(train_loader_vf, desc=f\"📅 Epoch {epoch+1}/{num_epochs}\", leave=False)\n",
    "\n",
    "    for images, labels in loop:\n",
    "        images = images.to(device)\n",
    "        labels = labels.to(device).float()\n",
    "\n",
    "        optimizer.zero_grad()\n",
    "        outputs = model(images)\n",
    "        loss = criterion(outputs, labels)\n",
    "        loss.backward()\n",
    "        optimizer.step()\n",
    "\n",
    "        total_loss += loss.item()\n",
    "\n",
    "        # Update progress bar with current batch loss\n",
    "        loop.set_postfix(loss=loss.item())\n",
    "\n",
    "    print(f\"✅ Epoch {epoch+1}/{num_epochs} - 🔻 Avg Loss: {total_loss / len(train_loader_vf):.4f}\")\n"
   ]
  },
  {
   "cell_type": "code",
   "execution_count": null,
   "id": "c1657878",
   "metadata": {},
   "outputs": [],
   "source": [
    "torch.save(model.state_dict(), \"models/cnn_VF.pth\")\n",
    "print(\"✅ Model saved to cnn_VF.pth\")"
   ]
  },
  {
   "cell_type": "markdown",
   "id": "c9dd9ceb",
   "metadata": {},
   "source": []
  },
  {
   "cell_type": "markdown",
   "id": "6baae076",
   "metadata": {},
   "source": [
    "🧱 Step 1: Load All Models\n",
    "Assuming all models use the same architecture (CNN_Avenue) and are stored as:\n",
    "\n",
    "models/cnn_avenue.pth\n",
    "\n",
    "models/cnn_ped1.pth\n",
    "\n",
    "models/cnn_ped2.pth\n",
    "\n",
    "models/cnn_violent.pth"
   ]
  },
  {
   "cell_type": "code",
   "execution_count": 14,
   "id": "f1ca4fa2",
   "metadata": {},
   "outputs": [],
   "source": [
    "model_A = CNN_Avenue().to(device)\n",
    "model_P1 = CNN_Avenue().to(device)\n",
    "model_P2 = CNN_Avenue().to(device)\n",
    "model_VF = CNN_Avenue().to(device)\n",
    "\n",
    "model_A.load_state_dict(torch.load(\"models/cnn_avenue.pth\", map_location=device))\n",
    "model_P1.load_state_dict(torch.load(\"models/cnn_ped1.pth\", map_location=device))\n",
    "model_P2.load_state_dict(torch.load(\"models/cnn_ped2.pth\", map_location=device))\n",
    "model_VF.load_state_dict(torch.load(\"models/cnn_VF.pth\", map_location=device))\n",
    "\n",
    "models = [model_A, model_P1, model_P2, model_VF]\n",
    "\n",
    "for m in models:\n",
    "    m.eval()\n"
   ]
  },
  {
   "cell_type": "markdown",
   "id": "a4723d4d",
   "metadata": {},
   "source": [
    "🧱 Step 2: Frame Preprocessing Function"
   ]
  },
  {
   "cell_type": "code",
   "execution_count": 15,
   "id": "09e12675",
   "metadata": {},
   "outputs": [],
   "source": [
    "transform = transforms.Compose([\n",
    "    transforms.Grayscale(),\n",
    "    transforms.Resize((200, 200)),\n",
    "    transforms.ToTensor()\n",
    "])\n",
    "\n",
    "def preprocess_image(img_path):\n",
    "    image = Image.open(img_path)\n",
    "    image = transform(image)\n",
    "    image = image.unsqueeze(0)\n",
    "    return image.to(device)\n"
   ]
  },
  {
   "cell_type": "markdown",
   "id": "0d3ce28f",
   "metadata": {},
   "source": [
    "🧱 Step 3: Voting Function"
   ]
  },
  {
   "cell_type": "code",
   "execution_count": null,
   "id": "489d1dcd",
   "metadata": {},
   "outputs": [],
   "source": [
    "def ensemble_predict(img_path, threshold=0.5):\n",
    "    image = preprocess_image(img_path)\n",
    "    outputs = []\n",
    "\n",
    "    for model in models:\n",
    "        with torch.no_grad():\n",
    "            prob = model(image).item()\n",
    "            prediction = 1 if prob >= threshold else 0\n",
    "            outputs.append((prob, prediction))\n",
    "\n",
    "  \n",
    "    predictions = [pred for _, pred in outputs]\n",
    "    final_vote = int(sum(predictions) >= 3)\n",
    "\n",
    "    # Table display\n",
    "    print(f\"\\n🧮 Voting Table for: {img_path}\")\n",
    "    print(\"Model\\t\\tProbability\\tPrediction\")\n",
    "    print(\"----------------------------------------\")\n",
    "    names = [\"CNN_A\", \"CNN_P1\", \"CNN_P2\", \"CNN_VF\"]\n",
    "    for name, (prob, pred) in zip(names, outputs):\n",
    "        print(f\"{name}\\t\\t{prob:.4f}\\t\\t{pred}\")\n",
    "    print(\"----------------------------------------\")\n",
    "    print(f\"✅ Final Ensemble Prediction: {final_vote} (0=Normal, 1=Abnormal)\")\n",
    "\n",
    "    return final_vote\n"
   ]
  },
  {
   "cell_type": "markdown",
   "id": "99c7ac8e",
   "metadata": {},
   "source": [
    "✅ Example Usage onone frame"
   ]
  },
  {
   "cell_type": "code",
   "execution_count": 17,
   "id": "a36fca8f",
   "metadata": {},
   "outputs": [
    {
     "name": "stdout",
     "output_type": "stream",
     "text": [
      "\n",
      "🧮 Voting Table for: data/Violent-Flows/frames/balcony_football_violence__Brannik_Football_Violence__Nattevandring__ysW-tGv-YjI/frame_0000.png\n",
      "Model\t\tProbability\tPrediction\n",
      "----------------------------------------\n",
      "CNN_A\t\t0.0000\t\t0\n",
      "CNN_P1\t\t0.0000\t\t0\n",
      "CNN_P2\t\t0.0000\t\t0\n",
      "CNN_VF\t\t1.0000\t\t1\n",
      "----------------------------------------\n",
      "✅ Final Ensemble Prediction: 0 (0=Normal, 1=Abnormal)\n"
     ]
    },
    {
     "data": {
      "text/plain": [
       "0"
      ]
     },
     "execution_count": 17,
     "metadata": {},
     "output_type": "execute_result"
    }
   ],
   "source": [
    "frame_path = \"data/Violent-Flows/frames/balcony_football_violence__Brannik_Football_Violence__Nattevandring__ysW-tGv-YjI/frame_0000.png\"\n",
    "ensemble_predict(frame_path)"
   ]
  }
 ],
 "metadata": {
  "kernelspec": {
   "display_name": "Python 3",
   "language": "python",
   "name": "python3"
  },
  "language_info": {
   "codemirror_mode": {
    "name": "ipython",
    "version": 3
   },
   "file_extension": ".py",
   "mimetype": "text/x-python",
   "name": "python",
   "nbconvert_exporter": "python",
   "pygments_lexer": "ipython3",
   "version": "3.13.3"
  }
 },
 "nbformat": 4,
 "nbformat_minor": 5
}
