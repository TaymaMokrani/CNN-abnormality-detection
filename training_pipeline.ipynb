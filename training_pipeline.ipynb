{
 "cells": [
  {
   "cell_type": "markdown",
   "id": "46061af3",
   "metadata": {},
   "source": [
    "# ✅ Strategy Overview: Training 4 Models + Ensemble\n",
    "\n",
    "---\n",
    "\n",
    "## 🧩 Step 1: Train a CNN on Each Dataset Individually\n",
    "\n",
    "We already have:\n",
    "\n",
    "- `labels_avenue_train.csv` → **CNN_A**\n",
    "- `labels_ped1_train.csv` → **CNN_P1**\n",
    "- `labels_ped2_train.csv` → **CNN_P2**\n",
    "- `labels_violent_train.csv` → **CNN_VF**\n",
    "\n",
    "Each CNN:\n",
    "\n",
    "- Trained from scratch using the **same 7-layer CNN architecture**.\n",
    "- Uses only its own dataset’s images and labels.\n",
    "- Saved after training:\n",
    "  - `cnn_avenue.pth`\n",
    "  - `cnn_ped1.pth`\n",
    "  - `cnn_ped2.pth`\n",
    "  - `cnn_violent.pth`\n",
    "\n",
    "---\n",
    "\n",
    "\n",
    "## 🧬 Step 2: Combine the Models into an Ensemble\n",
    "\n",
    "### 🔹 Our solution: Ensemble Voting (Fast & Simple)\n",
    "\n",
    "- Input test frame into all 4 models.\n",
    "- Get predictions like: `[0, 1, 0, 1]`\n",
    "- Apply **majority voting** or **average the probabilities** for the final decision.\n",
    "\n",
    "## 🧠 Why This Works\n",
    "\n",
    "- Each dataset has its **own distribution**.\n",
    "- A model trained only on **Avenue** might struggle on **Violent-Flows**.\n",
    "- **Dataset-specific training** ensures deep understanding per domain.\n",
    "- The ensemble approach allows **generalization** across datasets — **without retraining on 12k frames**.\n"
   ]
  },
  {
   "cell_type": "markdown",
   "id": "1aea9b0e",
   "metadata": {},
   "source": [
    "### 📁 CNN_A: Training on Avenue Dataset\n",
    "We begin by training a CNN using the Avenue dataset. The model is based on our 7-layer architecture:\n",
    "\n",
    "1. Input: 200×200 grayscale\n",
    "2. Conv(64, 3×3) + ReLU + MaxPooling(2×2)\n",
    "3. Conv(64, 3×3) + ReLU + MaxPooling(2×2)\n",
    "4. Flatten\n",
    "5. FC + ReLU\n",
    "6. FC + Sigmoid\n",
    "7. Output: Binary (0=Normal, 1=Abnormal)\n",
    "\n",
    "Dataset: `labels_avenue_train.csv`\n"
   ]
  },
  {
   "cell_type": "code",
   "execution_count": 1,
   "id": "a8c99ab7",
   "metadata": {},
   "outputs": [],
   "source": [
    "import torch\n",
    "import torch.nn as nn\n",
    "import torch.optim as optim\n",
    "from torch.utils.data import DataLoader, Dataset\n",
    "import pandas as pd\n",
    "from PIL import Image\n",
    "from torchvision import transforms\n",
    "import os\n",
    "\n",
    "# Custom dataset\n",
    "class FrameDataset(Dataset):\n",
    "    def __init__(self, csv_file):\n",
    "        self.data = pd.read_csv(csv_file)\n",
    "        self.transform = transforms.Compose([\n",
    "            transforms.Grayscale(),\n",
    "            transforms.Resize((200, 200)),\n",
    "            transforms.ToTensor()\n",
    "        ])\n",
    "\n",
    "    def __len__(self):\n",
    "        return len(self.data)\n",
    "\n",
    "    def __getitem__(self, idx):\n",
    "        img_path = self.data.iloc[idx]['path']\n",
    "        label = self.data.iloc[idx]['label']\n",
    "        image = Image.open(img_path)\n",
    "        image = self.transform(image)\n",
    "        return image, torch.tensor(label, dtype=torch.float32)\n",
    "\n",
    "# Dataset & loader\n",
    "avenue_dataset = FrameDataset('combined_data/avenue/train.csv')\n",
    "avenue_loader = DataLoader(avenue_dataset, batch_size=32, shuffle=True)\n"
   ]
  },
  {
   "cell_type": "markdown",
   "id": "b5765b71",
   "metadata": {},
   "source": [
    "### 🧠 CNN Architecture Definition\n",
    "This CNN model has the following layers:\n",
    "\n",
    "1. Conv Block 1: Conv2d → ReLU → MaxPool\n",
    "2. Conv Block 2: Conv2d → ReLU → MaxPool\n",
    "3. Flatten\n",
    "4. FC Layer 1: Linear → ReLU\n",
    "5. FC Layer 2: Linear → Sigmoid (for binary classification)\n"
   ]
  },
  {
   "cell_type": "code",
   "execution_count": 2,
   "id": "226b85bf",
   "metadata": {},
   "outputs": [],
   "source": [
    "class CNN_Avenue(nn.Module):\n",
    "    def __init__(self):\n",
    "        super(CNN_Avenue, self).__init__()\n",
    "        self.conv1 = nn.Sequential(\n",
    "            nn.Conv2d(1, 64, kernel_size=3, stride=1, padding=1),\n",
    "            nn.ReLU(),\n",
    "            nn.MaxPool2d(kernel_size=2, stride=2)\n",
    "        )\n",
    "        self.conv2 = nn.Sequential(\n",
    "            nn.Conv2d(64, 64, kernel_size=3, stride=1, padding=1),\n",
    "            nn.ReLU(),\n",
    "            nn.MaxPool2d(kernel_size=2, stride=2)\n",
    "        )\n",
    "        self.flatten = nn.Flatten()\n",
    "        self.fc1 = nn.Sequential(\n",
    "            nn.Linear(64 * 50 * 50, 128),\n",
    "            nn.ReLU()\n",
    "        )\n",
    "        self.fc2 = nn.Sequential(\n",
    "            nn.Linear(128, 1),\n",
    "            nn.Sigmoid()\n",
    "        )\n",
    "\n",
    "    def forward(self, x):\n",
    "        x = self.conv1(x)\n",
    "        x = self.conv2(x)\n",
    "        x = self.flatten(x)\n",
    "        x = self.fc1(x)\n",
    "        x = self.fc2(x)\n",
    "        return x.squeeze()\n"
   ]
  },
  {
   "cell_type": "markdown",
   "id": "6d444571",
   "metadata": {},
   "source": [
    "### 🎯 Model Training Setup\n",
    "We define the training loop using:\n",
    "\n",
    "- **Loss Function**: Binary Cross Entropy (BCE)\n",
    "- **Optimizer**: Adam\n",
    "- **Epochs**: Typically 5–20 depending on dataset size\n",
    "- **Metrics**: We'll track loss and (optionally) accuracy\n",
    "After training, we save the model as `cnn_avenue.pth`.\n"
   ]
  },
  {
   "cell_type": "code",
   "execution_count": 3,
   "id": "cf6ee1ab",
   "metadata": {},
   "outputs": [
    {
     "name": "stderr",
     "output_type": "stream",
     "text": [
      "                                                                                    \r"
     ]
    },
    {
     "name": "stdout",
     "output_type": "stream",
     "text": [
      "📅 Epoch 1/10 Summary:\n",
      "   🔻 Loss:     0.5801\n",
      "   ✅ Accuracy: 0.6676\n",
      "   🎯 Precision:0.6490\n",
      "   🔁 Recall:   0.6343\n",
      "   🧠 F1 Score: 0.6415\n",
      "--------------------------------------------------\n"
     ]
    },
    {
     "name": "stderr",
     "output_type": "stream",
     "text": [
      "                                                                                    \r"
     ]
    },
    {
     "name": "stdout",
     "output_type": "stream",
     "text": [
      "📅 Epoch 2/10 Summary:\n",
      "   🔻 Loss:     0.3310\n",
      "   ✅ Accuracy: 0.8481\n",
      "   🎯 Precision:0.8155\n",
      "   🔁 Recall:   0.8740\n",
      "   🧠 F1 Score: 0.8437\n",
      "--------------------------------------------------\n"
     ]
    },
    {
     "name": "stderr",
     "output_type": "stream",
     "text": [
      "                                                                                     \r"
     ]
    },
    {
     "name": "stdout",
     "output_type": "stream",
     "text": [
      "📅 Epoch 3/10 Summary:\n",
      "   🔻 Loss:     0.2208\n",
      "   ✅ Accuracy: 0.9087\n",
      "   🎯 Precision:0.8766\n",
      "   🔁 Recall:   0.9373\n",
      "   🧠 F1 Score: 0.9059\n",
      "--------------------------------------------------\n"
     ]
    },
    {
     "name": "stderr",
     "output_type": "stream",
     "text": [
      "                                                                                     \r"
     ]
    },
    {
     "name": "stdout",
     "output_type": "stream",
     "text": [
      "📅 Epoch 4/10 Summary:\n",
      "   🔻 Loss:     0.1455\n",
      "   ✅ Accuracy: 0.9444\n",
      "   🎯 Precision:0.9189\n",
      "   🔁 Recall:   0.9668\n",
      "   🧠 F1 Score: 0.9422\n",
      "--------------------------------------------------\n"
     ]
    },
    {
     "name": "stderr",
     "output_type": "stream",
     "text": [
      "                                                                                     \r"
     ]
    },
    {
     "name": "stdout",
     "output_type": "stream",
     "text": [
      "📅 Epoch 5/10 Summary:\n",
      "   🔻 Loss:     0.1159\n",
      "   ✅ Accuracy: 0.9592\n",
      "   🎯 Precision:0.9415\n",
      "   🔁 Recall:   0.9736\n",
      "   🧠 F1 Score: 0.9573\n",
      "--------------------------------------------------\n"
     ]
    },
    {
     "name": "stderr",
     "output_type": "stream",
     "text": [
      "                                                                                     \r"
     ]
    },
    {
     "name": "stdout",
     "output_type": "stream",
     "text": [
      "📅 Epoch 6/10 Summary:\n",
      "   🔻 Loss:     0.0900\n",
      "   ✅ Accuracy: 0.9688\n",
      "   🎯 Precision:0.9541\n",
      "   🔁 Recall:   0.9808\n",
      "   🧠 F1 Score: 0.9672\n",
      "--------------------------------------------------\n"
     ]
    },
    {
     "name": "stderr",
     "output_type": "stream",
     "text": [
      "                                                                                     \r"
     ]
    },
    {
     "name": "stdout",
     "output_type": "stream",
     "text": [
      "📅 Epoch 7/10 Summary:\n",
      "   🔻 Loss:     0.0656\n",
      "   ✅ Accuracy: 0.9790\n",
      "   🎯 Precision:0.9689\n",
      "   🔁 Recall:   0.9870\n",
      "   🧠 F1 Score: 0.9779\n",
      "--------------------------------------------------\n"
     ]
    },
    {
     "name": "stderr",
     "output_type": "stream",
     "text": [
      "                                                                                     \r"
     ]
    },
    {
     "name": "stdout",
     "output_type": "stream",
     "text": [
      "📅 Epoch 8/10 Summary:\n",
      "   🔻 Loss:     0.0588\n",
      "   ✅ Accuracy: 0.9806\n",
      "   🎯 Precision:0.9725\n",
      "   🔁 Recall:   0.9867\n",
      "   🧠 F1 Score: 0.9795\n",
      "--------------------------------------------------\n"
     ]
    },
    {
     "name": "stderr",
     "output_type": "stream",
     "text": [
      "                                                                                     \r"
     ]
    },
    {
     "name": "stdout",
     "output_type": "stream",
     "text": [
      "📅 Epoch 9/10 Summary:\n",
      "   🔻 Loss:     0.0421\n",
      "   ✅ Accuracy: 0.9875\n",
      "   🎯 Precision:0.9807\n",
      "   🔁 Recall:   0.9929\n",
      "   🧠 F1 Score: 0.9867\n",
      "--------------------------------------------------\n"
     ]
    },
    {
     "name": "stderr",
     "output_type": "stream",
     "text": [
      "                                                                                      "
     ]
    },
    {
     "name": "stdout",
     "output_type": "stream",
     "text": [
      "📅 Epoch 10/10 Summary:\n",
      "   🔻 Loss:     0.0323\n",
      "   ✅ Accuracy: 0.9905\n",
      "   🎯 Precision:0.9876\n",
      "   🔁 Recall:   0.9922\n",
      "   🧠 F1 Score: 0.9899\n",
      "--------------------------------------------------\n"
     ]
    },
    {
     "name": "stderr",
     "output_type": "stream",
     "text": [
      "\r"
     ]
    }
   ],
   "source": [
    "from tqdm import tqdm\n",
    "from sklearn.metrics import precision_score, recall_score, f1_score, accuracy_score\n",
    "import torch\n",
    "import torch.nn as nn\n",
    "import torch.optim as optim\n",
    "\n",
    "device = torch.device('cuda' if torch.cuda.is_available() else 'cpu')\n",
    "\n",
    "model = CNN_Avenue().to(device)\n",
    "criterion = nn.BCELoss()\n",
    "optimizer = optim.Adam(model.parameters(), lr=0.0005)\n",
    "\n",
    "num_epochs = 10\n",
    "\n",
    "for epoch in range(num_epochs):\n",
    "    model.train()\n",
    "    total_loss = 0\n",
    "\n",
    "    all_preds = []\n",
    "    all_labels = []\n",
    "\n",
    "    loop = tqdm(avenue_loader, desc=f\"Epoch {epoch+1}/{num_epochs}\", leave=False)\n",
    "\n",
    "    for images, labels in loop:\n",
    "        images = images.to(device)\n",
    "        labels = labels.to(device).float()\n",
    "\n",
    "        optimizer.zero_grad()\n",
    "        outputs = model(images).squeeze()\n",
    "\n",
    "        loss = criterion(outputs, labels)\n",
    "        loss.backward()\n",
    "        optimizer.step()\n",
    "\n",
    "        total_loss += loss.item()\n",
    "\n",
    "        # Store predictions and labels for metrics\n",
    "        preds = (outputs > 0.5).float()  # Threshold for binary classification\n",
    "        all_preds.extend(preds.cpu().numpy())\n",
    "        all_labels.extend(labels.cpu().numpy())\n",
    "\n",
    "        # Live display of loss and accuracy\n",
    "        batch_acc = accuracy_score(labels.cpu().numpy(), preds.cpu().numpy())\n",
    "        loop.set_postfix(loss=loss.item(), acc=batch_acc)\n",
    "\n",
    "    # Compute metrics for the epoch\n",
    "    epoch_loss = total_loss / len(avenue_loader)\n",
    "    epoch_acc = accuracy_score(all_labels, all_preds)\n",
    "    epoch_precision = precision_score(all_labels, all_preds, zero_division=0)\n",
    "    epoch_recall = recall_score(all_labels, all_preds, zero_division=0)\n",
    "    epoch_f1 = f1_score(all_labels, all_preds, zero_division=0)\n",
    "\n",
    "    # Print metrics\n",
    "    print(f\"📅 Epoch {epoch+1}/{num_epochs} Summary:\")\n",
    "    print(f\"   🔻 Loss:     {epoch_loss:.4f}\")\n",
    "    print(f\"   ✅ Accuracy: {epoch_acc:.4f}\")\n",
    "    print(f\"   🎯 Precision:{epoch_precision:.4f}\")\n",
    "    print(f\"   🔁 Recall:   {epoch_recall:.4f}\")\n",
    "    print(f\"   🧠 F1 Score: {epoch_f1:.4f}\")\n",
    "    print(\"--------------------------------------------------\")"
   ]
  },
  {
   "cell_type": "markdown",
   "id": "8166c880",
   "metadata": {},
   "source": [
    "### ✅ Save the Trained CNN_Avenue Model\n",
    "After training completes, we save the model weights for later use in ensemble or evaluation.\n"
   ]
  },
  {
   "cell_type": "code",
   "execution_count": 4,
   "id": "5d1467e2",
   "metadata": {},
   "outputs": [
    {
     "name": "stdout",
     "output_type": "stream",
     "text": [
      "✅ Model saved to cnn_avenue.pth\n"
     ]
    }
   ],
   "source": [
    "torch.save(model.state_dict(), \"models/cnn_avenue.pth\")\n",
    "print(\"✅ Model saved to cnn_avenue.pth\")"
   ]
  },
  {
   "cell_type": "markdown",
   "id": "cf4d29ca",
   "metadata": {},
   "source": [
    "📊 Step 5: Evaluation on Test Set using ROC, AUC, and EER\n",
    "We will:\n",
    "\n",
    "Load the saved model (cnn_avenue.pth)\n",
    "\n",
    "Run inference on a labeled test set (labels_avenue_test.csv)\n",
    "\n",
    "Calculate TPR, FPR, and plot ROC curve\n",
    "\n",
    "Compute AUC and EER"
   ]
  },
  {
   "cell_type": "markdown",
   "id": "484e750f",
   "metadata": {},
   "source": [
    "Loading model + custom data loader"
   ]
  },
  {
   "cell_type": "code",
   "execution_count": 22,
   "id": "8945bd09",
   "metadata": {},
   "outputs": [],
   "source": [
    "import numpy as np\n",
    "import matplotlib.pyplot as plt\n",
    "from sklearn.metrics import roc_curve, auc\n",
    "\n",
    "device = torch.device('cuda' if torch.cuda.is_available() else 'cpu')\n",
    "\n",
    "model = CNN_Avenue().to(device)\n",
    "model.load_state_dict(torch.load(\"models/cnn_avenue.pth\", map_location=device))\n",
    "model.eval()\n",
    "\n",
    "# Custom Dataset for test data (grayscale + resize 200x200)\n",
    "class AvenueTestDataset(Dataset):\n",
    "    def __init__(self, csv_file):\n",
    "        self.data = pd.read_csv(csv_file)\n",
    "        self.transform = transforms.Compose([\n",
    "            transforms.Grayscale(),\n",
    "            transforms.Resize((200, 200)),\n",
    "            transforms.ToTensor()\n",
    "        ])\n",
    "\n",
    "    def __len__(self):\n",
    "        return len(self.data)\n",
    "\n",
    "    def __getitem__(self, idx):\n",
    "        img_path = self.data.iloc[idx]['path']\n",
    "        label = self.data.iloc[idx]['label']\n",
    "        img = Image.open(img_path).convert('L')  # grayscale\n",
    "        if self.transform:\n",
    "            img = self.transform(img)\n",
    "        return img, label\n",
    "\n",
    "# Load test dataset & dataloader\n",
    "test_dataset = AvenueTestDataset('combined_data/avenue/test.csv')  # or your test csv path\n",
    "test_loader = DataLoader(test_dataset, batch_size=32, shuffle=False)\n",
    "\n",
    "\n"
   ]
  },
  {
   "cell_type": "markdown",
   "id": "096efa63",
   "metadata": {},
   "source": [
    "Computing test factors ; "
   ]
  },
  {
   "cell_type": "code",
   "execution_count": 47,
   "id": "4de2bef3",
   "metadata": {},
   "outputs": [],
   "source": [
    "all_labels = []\n",
    "all_probs = []\n",
    "\n",
    "with torch.no_grad():\n",
    "    for images, labels in test_loader:\n",
    "        images = images.to(device)\n",
    "        outputs = model(images).squeeze()\n",
    "        probs = torch.sigmoid(outputs)\n",
    "        all_probs.extend(probs.cpu().numpy())\n",
    "        all_labels.extend(labels.numpy())\n",
    "\n",
    "all_labels = np.array(all_labels)\n",
    "all_probs = np.array(all_probs)\n",
    "\n",
    "# Calculate ROC, AUC\n",
    "fpr, tpr, thresholds = roc_curve(all_labels, all_probs)\n",
    "roc_auc = auc(fpr, tpr)"
   ]
  },
  {
   "cell_type": "code",
   "execution_count": 48,
   "id": "65e97b5d",
   "metadata": {},
   "outputs": [
    {
     "data": {
      "image/png": "[encoded data removed]",
      "text/plain": [
       "<Figure size 800x600 with 1 Axes>"
      ]
     },
     "metadata": {},
     "output_type": "display_data"
    }
   ],
   "source": [
    "\n",
    "from sklearn.metrics import roc_curve, auc, precision_recall_curve, confusion_matrix, accuracy_score, precision_score, recall_score, f1_score\n",
    "from torch.utils.data import Dataset, DataLoader\n",
    "from torchvision import transforms\n",
    "from PIL import Image\n",
    "import seaborn as sns\n",
    "\n",
    "device = torch.device('cuda' if torch.cuda.is_available() else 'cpu')\n",
    "\n",
    "\n",
    "# 1. ROC Curve & AUC\n",
    "fpr, tpr, roc_thresholds = roc_curve(all_labels, all_probs)\n",
    "roc_auc = auc(fpr, tpr)\n",
    "plt.figure(figsize=(8,6))\n",
    "plt.plot(fpr, tpr, label=f'ROC curve (AUC = {roc_auc:.4f})', color='blue')\n",
    "plt.plot([0, 1], [0, 1], 'k--', label='Random guess')\n",
    "plt.xlabel('False Positive Rate (FPR)')\n",
    "plt.ylabel('True Positive Rate (TPR)')\n",
    "plt.title('ROC Curve - Avenue Test Set')\n",
    "plt.legend(loc='lower right')\n",
    "plt.grid()\n",
    "plt.show()\n"
   ]
  },
  {
   "cell_type": "code",
   "execution_count": 49,
   "id": "0d247814",
   "metadata": {},
   "outputs": [
    {
     "name": "stdout",
     "output_type": "stream",
     "text": [
      "EER: 0.0390 at threshold 0.6718\n",
      "Average Precision (AP): 0.9805\n"
     ]
    },
    {
     "data": {
      "image/png": "[encoded data removed]",
      "text/plain": [
       "<Figure size 800x600 with 1 Axes>"
      ]
     },
     "metadata": {},
     "output_type": "display_data"
    }
   ],
   "source": [
    "# Compute Equal Error Rate (EER)\n",
    "fnr = 1 - tpr\n",
    "eer_threshold = thresholds[np.nanargmin(np.absolute((fnr - fpr)))]\n",
    "eer = fpr[np.nanargmin(np.absolute((fnr - fpr)))]\n",
    "print(f\"EER: {eer:.4f} at threshold {eer_threshold:.4f}\")\n",
    "\n",
    "# 2. Precision-Recall Curve & Average Precision\n",
    "precision, recall, pr_thresholds = precision_recall_curve(all_labels, all_probs)\n",
    "from sklearn.metrics import average_precision_score\n",
    "avg_precision = average_precision_score(all_labels, all_probs)\n",
    "print(f\"Average Precision (AP): {avg_precision:.4f}\")\n",
    "\n",
    "plt.figure(figsize=(8,6))\n",
    "plt.plot(recall, precision, color='green', label=f'Precision-Recall curve (AP = {avg_precision:.4f})')\n",
    "plt.xlabel('Recall')\n",
    "plt.ylabel('Precision')\n",
    "plt.title('Precision-Recall Curve')\n",
    "plt.legend(loc='lower left')\n",
    "plt.grid()\n",
    "plt.show()"
   ]
  },
  {
   "cell_type": "code",
   "execution_count": 50,
   "id": "3ecf1ca3",
   "metadata": {},
   "outputs": [
    {
     "name": "stdout",
     "output_type": "stream",
     "text": [
      "EER: 0.0390 at threshold 0.6718\n"
     ]
    },
    {
     "data": {
      "image/png": "[encoded data removed]",
      "text/plain": [
       "<Figure size 600x500 with 2 Axes>"
      ]
     },
     "metadata": {},
     "output_type": "display_data"
    },
    {
     "name": "stdout",
     "output_type": "stream",
     "text": [
      "At threshold=0.69:\n",
      "Accuracy:  0.9555\n",
      "Precision: 0.9616\n",
      "Recall:    0.9428\n",
      "F1 Score:  0.9521\n"
     ]
    }
   ],
   "source": [
    "# 3. Compute EER and threshold\n",
    "fnr = 1 - tpr\n",
    "eer_idx = np.nanargmin(np.absolute((fnr - fpr)))\n",
    "eer_threshold = roc_thresholds[eer_idx]\n",
    "eer = fpr[eer_idx]\n",
    "print(f\"EER: {eer:.4f} at threshold {eer_threshold:.4f}\")\n",
    "\n",
    "# 4. Choose threshold (can use 0.5 or EER threshold)\n",
    "threshold = 0.69  # or eer_threshold\n",
    "\n",
    "# 5. Binary predictions at chosen threshold\n",
    "preds = (all_probs >= threshold).astype(int)\n",
    "\n",
    "# 6. Confusion matrix\n",
    "cm = confusion_matrix(all_labels, preds)\n",
    "plt.figure(figsize=(6,5))\n",
    "sns.heatmap(cm, annot=True, fmt='d', cmap='Blues', xticklabels=['Pred 0', 'Pred 1'], yticklabels=['True 0', 'True 1'])\n",
    "plt.title(f'Confusion Matrix at threshold={threshold}')\n",
    "plt.ylabel('Actual')\n",
    "plt.xlabel('Predicted')\n",
    "plt.show()\n",
    "\n",
    "# 7. Accuracy, Precision, Recall, F1 Score\n",
    "acc = accuracy_score(all_labels, preds)\n",
    "prec = precision_score(all_labels, preds, zero_division=0)\n",
    "rec = recall_score(all_labels, preds, zero_division=0)\n",
    "f1 = f1_score(all_labels, preds, zero_division=0)\n",
    "\n",
    "print(f\"At threshold={threshold}:\")\n",
    "print(f\"Accuracy:  {acc:.4f}\")\n",
    "print(f\"Precision: {prec:.4f}\")\n",
    "print(f\"Recall:    {rec:.4f}\")\n",
    "print(f\"F1 Score:  {f1:.4f}\")"
   ]
  },
  {
   "cell_type": "markdown",
   "id": "c5e20b11",
   "metadata": {},
   "source": [
    "🧪 Step 1: Train CNN on UCSD Ped1 Dataset (CNN_P1)\n",
    "We'll follow the same process:\n",
    "\n",
    "Define dataset loader\n",
    "\n",
    "Define CNN model (same architecture)\n",
    "\n",
    "Train the model\n",
    "\n",
    "Save the model: cnn_ped1.pth\n",
    "\n",
    "Evaluate using ROC, AUC, and EER\n",
    "\n"
   ]
  },
  {
   "cell_type": "code",
   "execution_count": 51,
   "id": "a7db507b",
   "metadata": {},
   "outputs": [],
   "source": [
    "class FrameDatasetPed1(Dataset):\n",
    "    def __init__(self, csv_file):\n",
    "        self.data = pd.read_csv(csv_file)\n",
    "        self.transform = transforms.Compose([\n",
    "            transforms.Grayscale(),\n",
    "            transforms.Resize((200, 200)),\n",
    "            transforms.ToTensor()\n",
    "        ])\n",
    "\n",
    "    def __len__(self):\n",
    "        return len(self.data)\n",
    "\n",
    "    def __getitem__(self, idx):\n",
    "        img_path = self.data.iloc[idx]['path']\n",
    "        label = self.data.iloc[idx]['label']\n",
    "        image = Image.open(img_path)\n",
    "        image = self.transform(image)\n",
    "        return image, torch.tensor(label, dtype=torch.float32)\n",
    "\n",
    "# Load training data\n",
    "train_dataset_ped1 = FrameDatasetPed1(\"combined_data/UCSD_ped1/ped1_train.csv\")\n",
    "train_loader_ped1 = DataLoader(train_dataset_ped1, batch_size=32, shuffle=True)\n"
   ]
  },
  {
   "cell_type": "markdown",
   "id": "1c38cf04",
   "metadata": {},
   "source": [
    "🧱 Step 2: Use same CNN model"
   ]
  },
  {
   "cell_type": "code",
   "execution_count": 52,
   "id": "708bd6b1",
   "metadata": {},
   "outputs": [],
   "source": [
    "model = CNN_Avenue().to(device)\n",
    "criterion = nn.BCELoss()\n",
    "optimizer = optim.Adam(model.parameters(), lr=0.0005)"
   ]
  },
  {
   "cell_type": "markdown",
   "id": "12d3453e",
   "metadata": {},
   "source": [
    "🧱 Step 3: Training Loop"
   ]
  },
  {
   "cell_type": "code",
   "execution_count": 54,
   "id": "c1ee0e39",
   "metadata": {},
   "outputs": [
    {
     "name": "stderr",
     "output_type": "stream",
     "text": [
      "                                                                                    \r"
     ]
    },
    {
     "name": "stdout",
     "output_type": "stream",
     "text": [
      "📅 Epoch 1/10 Summary:\n",
      "   🔻 Loss:     0.4018\n",
      "   ✅ Accuracy: 0.8324\n",
      "   🎯 Precision:0.8997\n",
      "   🔁 Recall:   0.5595\n",
      "   🧠 F1 Score: 0.6899\n",
      "--------------------------------------------------\n"
     ]
    },
    {
     "name": "stderr",
     "output_type": "stream",
     "text": [
      "                                                                                     \r"
     ]
    },
    {
     "name": "stdout",
     "output_type": "stream",
     "text": [
      "📅 Epoch 2/10 Summary:\n",
      "   🔻 Loss:     0.2127\n",
      "   ✅ Accuracy: 0.9064\n",
      "   🎯 Precision:0.9094\n",
      "   🔁 Recall:   0.7988\n",
      "   🧠 F1 Score: 0.8505\n",
      "--------------------------------------------------\n"
     ]
    },
    {
     "name": "stderr",
     "output_type": "stream",
     "text": [
      "                                                                                     \r"
     ]
    },
    {
     "name": "stdout",
     "output_type": "stream",
     "text": [
      "📅 Epoch 3/10 Summary:\n",
      "   🔻 Loss:     0.1399\n",
      "   ✅ Accuracy: 0.9399\n",
      "   🎯 Precision:0.9260\n",
      "   🔁 Recall:   0.8910\n",
      "   🧠 F1 Score: 0.9082\n",
      "--------------------------------------------------\n"
     ]
    },
    {
     "name": "stderr",
     "output_type": "stream",
     "text": [
      "                                                                                     \r"
     ]
    },
    {
     "name": "stdout",
     "output_type": "stream",
     "text": [
      "📅 Epoch 4/10 Summary:\n",
      "   🔻 Loss:     0.0819\n",
      "   ✅ Accuracy: 0.9700\n",
      "   🎯 Precision:0.9627\n",
      "   🔁 Recall:   0.9466\n",
      "   🧠 F1 Score: 0.9546\n",
      "--------------------------------------------------\n"
     ]
    },
    {
     "name": "stderr",
     "output_type": "stream",
     "text": [
      "                                                                                     \r"
     ]
    },
    {
     "name": "stdout",
     "output_type": "stream",
     "text": [
      "📅 Epoch 5/10 Summary:\n",
      "   🔻 Loss:     0.0397\n",
      "   ✅ Accuracy: 0.9880\n",
      "   🎯 Precision:0.9827\n",
      "   🔁 Recall:   0.9811\n",
      "   🧠 F1 Score: 0.9819\n",
      "--------------------------------------------------\n"
     ]
    },
    {
     "name": "stderr",
     "output_type": "stream",
     "text": [
      "                                                                                     \r"
     ]
    },
    {
     "name": "stdout",
     "output_type": "stream",
     "text": [
      "📅 Epoch 6/10 Summary:\n",
      "   🔻 Loss:     0.0129\n",
      "   ✅ Accuracy: 0.9967\n",
      "   🎯 Precision:0.9953\n",
      "   🔁 Recall:   0.9948\n",
      "   🧠 F1 Score: 0.9950\n",
      "--------------------------------------------------\n"
     ]
    },
    {
     "name": "stderr",
     "output_type": "stream",
     "text": [
      "                                                                                     \r"
     ]
    },
    {
     "name": "stdout",
     "output_type": "stream",
     "text": [
      "📅 Epoch 7/10 Summary:\n",
      "   🔻 Loss:     0.0142\n",
      "   ✅ Accuracy: 0.9962\n",
      "   🎯 Precision:0.9948\n",
      "   🔁 Recall:   0.9937\n",
      "   🧠 F1 Score: 0.9942\n",
      "--------------------------------------------------\n"
     ]
    },
    {
     "name": "stderr",
     "output_type": "stream",
     "text": [
      "                                                                                     \r"
     ]
    },
    {
     "name": "stdout",
     "output_type": "stream",
     "text": [
      "📅 Epoch 8/10 Summary:\n",
      "   🔻 Loss:     0.0113\n",
      "   ✅ Accuracy: 0.9977\n",
      "   🎯 Precision:0.9969\n",
      "   🔁 Recall:   0.9963\n",
      "   🧠 F1 Score: 0.9966\n",
      "--------------------------------------------------\n"
     ]
    },
    {
     "name": "stderr",
     "output_type": "stream",
     "text": [
      "                                                                                     \r"
     ]
    },
    {
     "name": "stdout",
     "output_type": "stream",
     "text": [
      "📅 Epoch 9/10 Summary:\n",
      "   🔻 Loss:     0.0071\n",
      "   ✅ Accuracy: 0.9986\n",
      "   🎯 Precision:0.9984\n",
      "   🔁 Recall:   0.9974\n",
      "   🧠 F1 Score: 0.9979\n",
      "--------------------------------------------------\n"
     ]
    },
    {
     "name": "stderr",
     "output_type": "stream",
     "text": [
      "                                                                                     \r"
     ]
    },
    {
     "name": "stdout",
     "output_type": "stream",
     "text": [
      "📅 Epoch 10/10 Summary:\n",
      "   🔻 Loss:     0.0057\n",
      "   ✅ Accuracy: 0.9990\n",
      "   🎯 Precision:0.9984\n",
      "   🔁 Recall:   0.9984\n",
      "   🧠 F1 Score: 0.9984\n",
      "--------------------------------------------------\n"
     ]
    }
   ],
   "source": [
    "from tqdm import tqdm\n",
    "from sklearn.metrics import precision_score, recall_score, f1_score, accuracy_score\n",
    "import torch\n",
    "import torch.nn as nn\n",
    "import torch.optim as optim\n",
    "\n",
    "device = torch.device('cuda' if torch.cuda.is_available() else 'cpu')\n",
    "\n",
    "model = CNN_Avenue().to(device)  # Make sure CNN_Ped1 is defined for Ped1 dataset\n",
    "criterion = nn.BCELoss()\n",
    "optimizer = optim.Adam(model.parameters(), lr=0.0005)\n",
    "\n",
    "num_epochs = 10\n",
    "\n",
    "for epoch in range(num_epochs):\n",
    "    model.train()\n",
    "    total_loss = 0\n",
    "\n",
    "    all_preds = []\n",
    "    all_labels = []\n",
    "\n",
    "    loop = tqdm(train_loader_ped1, desc=f\"Epoch {epoch+1}/{num_epochs}\", leave=False)\n",
    "\n",
    "    for images, labels in loop:\n",
    "        images = images.to(device)\n",
    "        labels = labels.to(device).float()\n",
    "\n",
    "        optimizer.zero_grad()\n",
    "        outputs = model(images).squeeze()\n",
    "\n",
    "        loss = criterion(outputs, labels)\n",
    "        loss.backward()\n",
    "        optimizer.step()\n",
    "\n",
    "        total_loss += loss.item()\n",
    "\n",
    "        # Store predictions and labels for metrics\n",
    "        preds = (outputs > 0.5).float()  # Threshold for binary classification\n",
    "        all_preds.extend(preds.cpu().numpy())\n",
    "        all_labels.extend(labels.cpu().numpy())\n",
    "\n",
    "        # Live display of loss and accuracy\n",
    "        batch_acc = accuracy_score(labels.cpu().numpy(), preds.cpu().numpy())\n",
    "        loop.set_postfix(loss=loss.item(), acc=batch_acc)\n",
    "\n",
    "    # Compute metrics for the epoch\n",
    "    epoch_loss = total_loss / len(train_loader_ped1)\n",
    "    epoch_acc = accuracy_score(all_labels, all_preds)\n",
    "    epoch_precision = precision_score(all_labels, all_preds, zero_division=0)\n",
    "    epoch_recall = recall_score(all_labels, all_preds, zero_division=0)\n",
    "    epoch_f1 = f1_score(all_labels, all_preds, zero_division=0)\n",
    "\n",
    "    # Print metrics\n",
    "    print(f\"📅 Epoch {epoch+1}/{num_epochs} Summary:\")\n",
    "    print(f\"   🔻 Loss:     {epoch_loss:.4f}\")\n",
    "    print(f\"   ✅ Accuracy: {epoch_acc:.4f}\")\n",
    "    print(f\"   🎯 Precision:{epoch_precision:.4f}\")\n",
    "    print(f\"   🔁 Recall:   {epoch_recall:.4f}\")\n",
    "    print(f\"   🧠 F1 Score: {epoch_f1:.4f}\")\n",
    "    print(\"--------------------------------------------------\")\n"
   ]
  },
  {
   "cell_type": "markdown",
   "id": "4982c10e",
   "metadata": {},
   "source": [
    "✅ Step 4: Save Trained Model"
   ]
  },
  {
   "cell_type": "code",
   "execution_count": 55,
   "id": "73ae3c99",
   "metadata": {},
   "outputs": [
    {
     "name": "stdout",
     "output_type": "stream",
     "text": [
      "✅ Model saved to cnn_ped1.pth\n"
     ]
    }
   ],
   "source": [
    "torch.save(model.state_dict(), \"models/cnn_ped1.pth\")\n",
    "print(\"✅ Model saved to cnn_ped1.pth\")\n"
   ]
  },
  {
   "cell_type": "markdown",
   "id": "e55c69a1",
   "metadata": {},
   "source": [
    "📊 Step 5: Evaluation on Test Set using ROC, AUC, and EER\n",
    "We will:\n",
    "\n",
    "Load the saved model (cnn_avenue.pth)\n",
    "\n",
    "Run inference on a labeled test set (labels_avenue_test.csv)\n",
    "\n",
    "Calculate TPR, FPR, and plot ROC curve\n",
    "\n",
    "Compute AUC and EER"
   ]
  },
  {
   "cell_type": "markdown",
   "id": "23356be7",
   "metadata": {},
   "source": [
    "loading + custom data loader : "
   ]
  },
  {
   "cell_type": "code",
   "execution_count": 56,
   "id": "af4d11e2",
   "metadata": {},
   "outputs": [],
   "source": [
    "import numpy as np\n",
    "import matplotlib.pyplot as plt\n",
    "from sklearn.metrics import roc_curve, auc\n",
    "\n",
    "device = torch.device('cuda' if torch.cuda.is_available() else 'cpu')\n",
    "\n",
    "model = CNN_Avenue().to(device)\n",
    "model.load_state_dict(torch.load(\"models/cnn_ped1.pth\", map_location=device))\n",
    "model.eval()\n",
    "\n",
    "# Custom Dataset for test data (grayscale + resize 200x200)\n",
    "class Ped1TestDataset(Dataset):\n",
    "    def __init__(self, csv_file):\n",
    "        self.data = pd.read_csv(csv_file)\n",
    "        self.transform = transforms.Compose([\n",
    "            transforms.Grayscale(),\n",
    "            transforms.Resize((200, 200)),\n",
    "            transforms.ToTensor()\n",
    "        ])\n",
    "\n",
    "    def __len__(self):\n",
    "        return len(self.data)\n",
    "\n",
    "    def __getitem__(self, idx):\n",
    "        img_path = self.data.iloc[idx]['path']\n",
    "        label = self.data.iloc[idx]['label']\n",
    "        img = Image.open(img_path).convert('L')  # grayscale\n",
    "        if self.transform:\n",
    "            img = self.transform(img)\n",
    "        return img, label\n",
    "\n",
    "# Load test dataset & dataloader\n",
    "test_dataset = Ped1TestDataset('combined_data/UCSD_ped1/ped1_test.csv')  # or your test csv path\n",
    "test_loader = DataLoader(test_dataset, batch_size=32, shuffle=False)\n",
    "\n",
    "\n"
   ]
  },
  {
   "cell_type": "markdown",
   "id": "d9d93874",
   "metadata": {},
   "source": [
    "computing test factors :"
   ]
  },
  {
   "cell_type": "code",
   "execution_count": 57,
   "id": "ca436e19",
   "metadata": {},
   "outputs": [],
   "source": [
    "all_labels = []\n",
    "all_probs = []\n",
    "\n",
    "with torch.no_grad():\n",
    "    for images, labels in test_loader:\n",
    "        images = images.to(device)\n",
    "        outputs = model(images).squeeze()\n",
    "        probs = torch.sigmoid(outputs)\n",
    "        all_probs.extend(probs.cpu().numpy())\n",
    "        all_labels.extend(labels.numpy())\n",
    "\n",
    "all_labels = np.array(all_labels)\n",
    "all_probs = np.array(all_probs)\n",
    "\n",
    "# Calculate ROC, AUC\n",
    "fpr, tpr, thresholds = roc_curve(all_labels, all_probs)\n",
    "roc_auc = auc(fpr, tpr)"
   ]
  },
  {
   "cell_type": "code",
   "execution_count": 58,
   "id": "15d35063",
   "metadata": {},
   "outputs": [
    {
     "data": {
      "image/png": "[encoded data removed]",
      "text/plain": [
       "<Figure size 800x600 with 1 Axes>"
      ]
     },
     "metadata": {},
     "output_type": "display_data"
    }
   ],
   "source": [
    "\n",
    "from sklearn.metrics import roc_curve, auc, precision_recall_curve, confusion_matrix, accuracy_score, precision_score, recall_score, f1_score\n",
    "from torch.utils.data import Dataset, DataLoader\n",
    "from torchvision import transforms\n",
    "from PIL import Image\n",
    "import seaborn as sns\n",
    "\n",
    "device = torch.device('cuda' if torch.cuda.is_available() else 'cpu')\n",
    "\n",
    "\n",
    "# 1. ROC Curve & AUC\n",
    "fpr, tpr, roc_thresholds = roc_curve(all_labels, all_probs)\n",
    "roc_auc = auc(fpr, tpr)\n",
    "plt.figure(figsize=(8,6))\n",
    "plt.plot(fpr, tpr, label=f'ROC curve (AUC = {roc_auc:.4f})', color='blue')\n",
    "plt.plot([0, 1], [0, 1], 'k--', label='Random guess')\n",
    "plt.xlabel('False Positive Rate (FPR)')\n",
    "plt.ylabel('True Positive Rate (TPR)')\n",
    "plt.title('ROC Curve - Avenue Test Set')\n",
    "plt.legend(loc='lower right')\n",
    "plt.grid()\n",
    "plt.show()\n"
   ]
  },
  {
   "cell_type": "code",
   "execution_count": 59,
   "id": "2b75961a",
   "metadata": {},
   "outputs": [
    {
     "name": "stdout",
     "output_type": "stream",
     "text": [
      "EER: 0.0031 at threshold 0.6727\n",
      "Average Precision (AP): 0.9998\n"
     ]
    },
    {
     "data": {
      "image/png": "[encoded data removed]",
      "text/plain": [
       "<Figure size 800x600 with 1 Axes>"
      ]
     },
     "metadata": {},
     "output_type": "display_data"
    }
   ],
   "source": [
    "# Compute Equal Error Rate (EER)\n",
    "fnr = 1 - tpr\n",
    "eer_threshold = thresholds[np.nanargmin(np.absolute((fnr - fpr)))]\n",
    "eer = fpr[np.nanargmin(np.absolute((fnr - fpr)))]\n",
    "print(f\"EER: {eer:.4f} at threshold {eer_threshold:.4f}\")\n",
    "\n",
    "# 2. Precision-Recall Curve & Average Precision\n",
    "precision, recall, pr_thresholds = precision_recall_curve(all_labels, all_probs)\n",
    "from sklearn.metrics import average_precision_score\n",
    "avg_precision = average_precision_score(all_labels, all_probs)\n",
    "print(f\"Average Precision (AP): {avg_precision:.4f}\")\n",
    "\n",
    "plt.figure(figsize=(8,6))\n",
    "plt.plot(recall, precision, color='green', label=f'Precision-Recall curve (AP = {avg_precision:.4f})')\n",
    "plt.xlabel('Recall')\n",
    "plt.ylabel('Precision')\n",
    "plt.title('Precision-Recall Curve')\n",
    "plt.legend(loc='lower left')\n",
    "plt.grid()\n",
    "plt.show()"
   ]
  },
  {
   "cell_type": "code",
   "execution_count": 60,
   "id": "de8c0d99",
   "metadata": {},
   "outputs": [
    {
     "name": "stdout",
     "output_type": "stream",
     "text": [
      "EER: 0.0031 at threshold 0.6727\n"
     ]
    },
    {
     "data": {
      "image/png": "[encoded data removed]",
      "text/plain": [
       "<Figure size 600x500 with 2 Axes>"
      ]
     },
     "metadata": {},
     "output_type": "display_data"
    },
    {
     "name": "stdout",
     "output_type": "stream",
     "text": [
      "At threshold=0.69:\n",
      "Accuracy:  0.9967\n",
      "Precision: 0.9939\n",
      "Recall:    0.9963\n",
      "F1 Score:  0.9951\n"
     ]
    }
   ],
   "source": [
    "# 3. Compute EER and threshold\n",
    "fnr = 1 - tpr\n",
    "eer_idx = np.nanargmin(np.absolute((fnr - fpr)))\n",
    "eer_threshold = roc_thresholds[eer_idx]\n",
    "eer = fpr[eer_idx]\n",
    "print(f\"EER: {eer:.4f} at threshold {eer_threshold:.4f}\")\n",
    "\n",
    "# 4. Choose threshold (can use 0.5 or EER threshold)\n",
    "threshold = 0.69  # or eer_threshold\n",
    "\n",
    "# 5. Binary predictions at chosen threshold\n",
    "preds = (all_probs >= threshold).astype(int)\n",
    "\n",
    "# 6. Confusion matrix\n",
    "cm = confusion_matrix(all_labels, preds)\n",
    "plt.figure(figsize=(6,5))\n",
    "sns.heatmap(cm, annot=True, fmt='d', cmap='Blues', xticklabels=['Pred 0', 'Pred 1'], yticklabels=['True 0', 'True 1'])\n",
    "plt.title(f'Confusion Matrix at threshold={threshold}')\n",
    "plt.ylabel('Actual')\n",
    "plt.xlabel('Predicted')\n",
    "plt.show()\n",
    "\n",
    "# 7. Accuracy, Precision, Recall, F1 Score\n",
    "acc = accuracy_score(all_labels, preds)\n",
    "prec = precision_score(all_labels, preds, zero_division=0)\n",
    "rec = recall_score(all_labels, preds, zero_division=0)\n",
    "f1 = f1_score(all_labels, preds, zero_division=0)\n",
    "\n",
    "print(f\"At threshold={threshold}:\")\n",
    "print(f\"Accuracy:  {acc:.4f}\")\n",
    "print(f\"Precision: {prec:.4f}\")\n",
    "print(f\"Recall:    {rec:.4f}\")\n",
    "print(f\"F1 Score:  {f1:.4f}\")"
   ]
  },
  {
   "cell_type": "markdown",
   "id": "9a07e369",
   "metadata": {},
   "source": [
    "Step 1: Train CNN on UCSD Ped2 Dataset (CNN_P2)\n",
    "We’ll follow the same process:\n",
    "\n",
    "📄 Dataset CSV: labels_ped2_train.csv\n",
    "\n",
    "📦 Custom Dataset + DataLoader\n",
    "\n",
    "🧱 Model: Same architecture (CNN_Avenue)\n",
    "\n",
    "🎯 Training loop\n",
    "\n",
    "💾 Save: cnn_ped2.pth"
   ]
  },
  {
   "cell_type": "code",
   "execution_count": 10,
   "id": "046746d5",
   "metadata": {},
   "outputs": [],
   "source": [
    "class FrameDatasetPed2(Dataset):\n",
    "    def __init__(self, csv_file):\n",
    "        self.data = pd.read_csv(csv_file)\n",
    "        self.transform = transforms.Compose([\n",
    "            transforms.Grayscale(),\n",
    "            transforms.Resize((200, 200)),\n",
    "            transforms.ToTensor()\n",
    "        ])\n",
    "\n",
    "    def __len__(self):\n",
    "        return len(self.data)\n",
    "\n",
    "    def __getitem__(self, idx):\n",
    "        img_path = self.data.iloc[idx]['path']\n",
    "        label = self.data.iloc[idx]['label']\n",
    "        image = Image.open(img_path)\n",
    "        image = self.transform(image)\n",
    "        return image, torch.tensor(label, dtype=torch.float32)\n",
    "\n",
    "# Create DataLoader\n",
    "train_dataset_ped2 = FrameDatasetPed2(\"data/UCSD_Anomaly_Dataset.v1p2/labels_ped2_train.csv\")\n",
    "train_loader_ped2 = DataLoader(train_dataset_ped2, batch_size=32, shuffle=True)\n"
   ]
  },
  {
   "cell_type": "markdown",
   "id": "1a166531",
   "metadata": {},
   "source": [
    "🧱 Step 2: CNN Model + Optimizer"
   ]
  },
  {
   "cell_type": "code",
   "execution_count": 11,
   "id": "ca2c3227",
   "metadata": {},
   "outputs": [],
   "source": [
    "model = CNN_Avenue().to(device)\n",
    "criterion = nn.BCELoss()\n",
    "optimizer = optim.Adam(model.parameters(), lr=0.0005)\n"
   ]
  },
  {
   "cell_type": "markdown",
   "id": "0306a48f",
   "metadata": {},
   "source": [
    "🧱 Step 3: Training Loop"
   ]
  },
  {
   "cell_type": "code",
   "execution_count": null,
   "id": "160b85ee",
   "metadata": {},
   "outputs": [
    {
     "name": "stderr",
     "output_type": "stream",
     "text": [
      "                                                                             \r"
     ]
    },
    {
     "name": "stdout",
     "output_type": "stream",
     "text": [
      "✅ Epoch 1/10 - 🔻 Avg Loss: 0.0091\n"
     ]
    },
    {
     "name": "stderr",
     "output_type": "stream",
     "text": [
      "                                                                      \r"
     ]
    },
    {
     "name": "stdout",
     "output_type": "stream",
     "text": [
      "✅ Epoch 2/10 - 🔻 Avg Loss: 0.0000\n"
     ]
    },
    {
     "name": "stderr",
     "output_type": "stream",
     "text": [
      "                                                                      \r"
     ]
    },
    {
     "name": "stdout",
     "output_type": "stream",
     "text": [
      "✅ Epoch 3/10 - 🔻 Avg Loss: 0.0000\n"
     ]
    },
    {
     "name": "stderr",
     "output_type": "stream",
     "text": [
      "                                                                      \r"
     ]
    },
    {
     "name": "stdout",
     "output_type": "stream",
     "text": [
      "✅ Epoch 4/10 - 🔻 Avg Loss: 0.0000\n"
     ]
    },
    {
     "name": "stderr",
     "output_type": "stream",
     "text": [
      "                                                                      \r"
     ]
    },
    {
     "name": "stdout",
     "output_type": "stream",
     "text": [
      "✅ Epoch 5/10 - 🔻 Avg Loss: 0.0000\n"
     ]
    },
    {
     "name": "stderr",
     "output_type": "stream",
     "text": [
      "                                                                      \r"
     ]
    },
    {
     "name": "stdout",
     "output_type": "stream",
     "text": [
      "✅ Epoch 6/10 - 🔻 Avg Loss: 0.0000\n"
     ]
    },
    {
     "name": "stderr",
     "output_type": "stream",
     "text": [
      "                                                                      \r"
     ]
    },
    {
     "name": "stdout",
     "output_type": "stream",
     "text": [
      "✅ Epoch 7/10 - 🔻 Avg Loss: 0.0000\n"
     ]
    },
    {
     "name": "stderr",
     "output_type": "stream",
     "text": [
      "                                                                      \r"
     ]
    },
    {
     "name": "stdout",
     "output_type": "stream",
     "text": [
      "✅ Epoch 8/10 - 🔻 Avg Loss: 0.0000\n"
     ]
    },
    {
     "name": "stderr",
     "output_type": "stream",
     "text": [
      "                                                                      \r"
     ]
    },
    {
     "name": "stdout",
     "output_type": "stream",
     "text": [
      "✅ Epoch 9/10 - 🔻 Avg Loss: 0.0000\n"
     ]
    },
    {
     "name": "stderr",
     "output_type": "stream",
     "text": [
      "                                                                       "
     ]
    },
    {
     "name": "stdout",
     "output_type": "stream",
     "text": [
      "✅ Epoch 10/10 - 🔻 Avg Loss: 0.0000\n"
     ]
    },
    {
     "name": "stderr",
     "output_type": "stream",
     "text": [
      "\r"
     ]
    }
   ],
   "source": [
    "from tqdm import tqdm\n",
    "\n",
    "num_epochs = 10\n",
    "\n",
    "for epoch in range(num_epochs):\n",
    "    model.train()\n",
    "    total_loss = 0\n",
    "\n",
    "    # tqdm progress bar for each batch in the epoch\n",
    "    loop = tqdm(train_loader_ped2, desc=f\"📅 Epoch {epoch+1}/{num_epochs}\", leave=False)\n",
    "\n",
    "    for images, labels in loop:\n",
    "        images = images.to(device)\n",
    "        labels = labels.to(device).float()\n",
    "\n",
    "        optimizer.zero_grad()\n",
    "        outputs = model(images)\n",
    "        loss = criterion(outputs, labels)\n",
    "        loss.backward()\n",
    "        optimizer.step()\n",
    "\n",
    "        total_loss += loss.item()\n",
    "\n",
    "        # Update progress bar with current batch loss\n",
    "        loop.set_postfix(loss=loss.item())\n",
    "\n",
    "    print(f\"✅ Epoch {epoch+1}/{num_epochs} - 🔻 Avg Loss: {total_loss / len(train_loader_ped2):.4f}\")\n"
   ]
  },
  {
   "cell_type": "code",
   "execution_count": null,
   "id": "e2efd23b",
   "metadata": {},
   "outputs": [],
   "source": [
    "torch.save(model.state_dict(), \"models/cnn_ped2.pth\")\n",
    "print(\"✅ Model saved to cnn_ped2.pth\")\n"
   ]
  },
  {
   "cell_type": "markdown",
   "id": "2cb92bbc",
   "metadata": {},
   "source": [
    "Last one for vilolent flows\n"
   ]
  },
  {
   "cell_type": "code",
   "execution_count": 12,
   "id": "2623a094",
   "metadata": {},
   "outputs": [],
   "source": [
    "class FrameDatasetVF(Dataset):\n",
    "    def __init__(self, csv_file):\n",
    "        self.data = pd.read_csv(csv_file)\n",
    "        self.transform = transforms.Compose([\n",
    "            transforms.Grayscale(),\n",
    "            transforms.Resize((200, 200)),\n",
    "            transforms.ToTensor()\n",
    "        ])\n",
    "\n",
    "    def __len__(self):\n",
    "        return len(self.data)\n",
    "\n",
    "    def __getitem__(self, idx):\n",
    "        img_path = self.data.iloc[idx]['path']\n",
    "        label = self.data.iloc[idx]['label']\n",
    "        image = Image.open(img_path)\n",
    "        image = self.transform(image)\n",
    "        return image, torch.tensor(label, dtype=torch.float32)\n",
    "\n",
    "# Create DataLoader\n",
    "train_dataset_vf = FrameDatasetVF(\"data/Violent-Flows/violentflows_labels.csv\")\n",
    "train_loader_vf = DataLoader(train_dataset_vf, batch_size=32, shuffle=True)\n"
   ]
  },
  {
   "cell_type": "code",
   "execution_count": 13,
   "id": "88b2c6fc",
   "metadata": {},
   "outputs": [],
   "source": [
    "model = CNN_Avenue().to(device)\n",
    "criterion = nn.BCELoss()\n",
    "optimizer = optim.Adam(model.parameters(), lr=0.0005)\n"
   ]
  },
  {
   "cell_type": "code",
   "execution_count": null,
   "id": "03161cc2",
   "metadata": {},
   "outputs": [
    {
     "name": "stderr",
     "output_type": "stream",
     "text": [
      "                                                                             \r"
     ]
    },
    {
     "name": "stdout",
     "output_type": "stream",
     "text": [
      "✅ Epoch 1/10 - 🔻 Avg Loss: 0.3294\n"
     ]
    },
    {
     "name": "stderr",
     "output_type": "stream",
     "text": [
      "                                                                              \r"
     ]
    },
    {
     "name": "stdout",
     "output_type": "stream",
     "text": [
      "✅ Epoch 2/10 - 🔻 Avg Loss: 0.0545\n"
     ]
    },
    {
     "name": "stderr",
     "output_type": "stream",
     "text": [
      "                                                                               \r"
     ]
    },
    {
     "name": "stdout",
     "output_type": "stream",
     "text": [
      "✅ Epoch 3/10 - 🔻 Avg Loss: 0.0186\n"
     ]
    },
    {
     "name": "stderr",
     "output_type": "stream",
     "text": [
      "                                                                               \r"
     ]
    },
    {
     "name": "stdout",
     "output_type": "stream",
     "text": [
      "✅ Epoch 4/10 - 🔻 Avg Loss: 0.0086\n"
     ]
    },
    {
     "name": "stderr",
     "output_type": "stream",
     "text": [
      "                                                                               \r"
     ]
    },
    {
     "name": "stdout",
     "output_type": "stream",
     "text": [
      "✅ Epoch 5/10 - 🔻 Avg Loss: 0.0037\n"
     ]
    },
    {
     "name": "stderr",
     "output_type": "stream",
     "text": [
      "                                                                               \r"
     ]
    },
    {
     "name": "stdout",
     "output_type": "stream",
     "text": [
      "✅ Epoch 6/10 - 🔻 Avg Loss: 0.0013\n"
     ]
    },
    {
     "name": "stderr",
     "output_type": "stream",
     "text": [
      "                                                                               \r"
     ]
    },
    {
     "name": "stdout",
     "output_type": "stream",
     "text": [
      "✅ Epoch 7/10 - 🔻 Avg Loss: 0.0009\n"
     ]
    },
    {
     "name": "stderr",
     "output_type": "stream",
     "text": [
      "                                                                               \r"
     ]
    },
    {
     "name": "stdout",
     "output_type": "stream",
     "text": [
      "✅ Epoch 8/10 - 🔻 Avg Loss: 0.0083\n"
     ]
    },
    {
     "name": "stderr",
     "output_type": "stream",
     "text": [
      "                                                                               \r"
     ]
    },
    {
     "name": "stdout",
     "output_type": "stream",
     "text": [
      "✅ Epoch 9/10 - 🔻 Avg Loss: 0.0038\n"
     ]
    },
    {
     "name": "stderr",
     "output_type": "stream",
     "text": [
      "                                                                                "
     ]
    },
    {
     "name": "stdout",
     "output_type": "stream",
     "text": [
      "✅ Epoch 10/10 - 🔻 Avg Loss: 0.0004\n"
     ]
    },
    {
     "name": "stderr",
     "output_type": "stream",
     "text": [
      "\r"
     ]
    }
   ],
   "source": [
    "from tqdm import tqdm\n",
    "\n",
    "num_epochs = 10\n",
    "\n",
    "for epoch in range(num_epochs):\n",
    "    model.train()\n",
    "    total_loss = 0\n",
    "\n",
    "    # tqdm progress bar for each batch in the epoch\n",
    "    loop = tqdm(train_loader_vf, desc=f\"📅 Epoch {epoch+1}/{num_epochs}\", leave=False)\n",
    "\n",
    "    for images, labels in loop:\n",
    "        images = images.to(device)\n",
    "        labels = labels.to(device).float()\n",
    "\n",
    "        optimizer.zero_grad()\n",
    "        outputs = model(images)\n",
    "        loss = criterion(outputs, labels)\n",
    "        loss.backward()\n",
    "        optimizer.step()\n",
    "\n",
    "        total_loss += loss.item()\n",
    "\n",
    "        # Update progress bar with current batch loss\n",
    "        loop.set_postfix(loss=loss.item())\n",
    "\n",
    "    print(f\"✅ Epoch {epoch+1}/{num_epochs} - 🔻 Avg Loss: {total_loss / len(train_loader_vf):.4f}\")\n"
   ]
  },
  {
   "cell_type": "code",
   "execution_count": null,
   "id": "c1657878",
   "metadata": {},
   "outputs": [],
   "source": [
    "torch.save(model.state_dict(), \"models/cnn_VF.pth\")\n",
    "print(\"✅ Model saved to cnn_VF.pth\")"
   ]
  },
  {
   "cell_type": "markdown",
   "id": "c9dd9ceb",
   "metadata": {},
   "source": []
  },
  {
   "cell_type": "markdown",
   "id": "6baae076",
   "metadata": {},
   "source": [
    "🧱 Step 1: Load All Models\n",
    "Assuming all models use the same architecture (CNN_Avenue) and are stored as:\n",
    "\n",
    "models/cnn_avenue.pth\n",
    "\n",
    "models/cnn_ped1.pth\n",
    "\n",
    "models/cnn_ped2.pth\n",
    "\n",
    "models/cnn_violent.pth"
   ]
  },
  {
   "cell_type": "code",
   "execution_count": 14,
   "id": "f1ca4fa2",
   "metadata": {},
   "outputs": [],
   "source": [
    "model_A = CNN_Avenue().to(device)\n",
    "model_P1 = CNN_Avenue().to(device)\n",
    "model_P2 = CNN_Avenue().to(device)\n",
    "model_VF = CNN_Avenue().to(device)\n",
    "\n",
    "model_A.load_state_dict(torch.load(\"models/cnn_avenue.pth\", map_location=device))\n",
    "model_P1.load_state_dict(torch.load(\"models/cnn_ped1.pth\", map_location=device))\n",
    "model_P2.load_state_dict(torch.load(\"models/cnn_ped2.pth\", map_location=device))\n",
    "model_VF.load_state_dict(torch.load(\"models/cnn_VF.pth\", map_location=device))\n",
    "\n",
    "models = [model_A, model_P1, model_P2, model_VF]\n",
    "\n",
    "for m in models:\n",
    "    m.eval()\n"
   ]
  },
  {
   "cell_type": "markdown",
   "id": "a4723d4d",
   "metadata": {},
   "source": [
    "🧱 Step 2: Frame Preprocessing Function"
   ]
  },
  {
   "cell_type": "code",
   "execution_count": 15,
   "id": "09e12675",
   "metadata": {},
   "outputs": [],
   "source": [
    "transform = transforms.Compose([\n",
    "    transforms.Grayscale(),\n",
    "    transforms.Resize((200, 200)),\n",
    "    transforms.ToTensor()\n",
    "])\n",
    "\n",
    "def preprocess_image(img_path):\n",
    "    image = Image.open(img_path)\n",
    "    image = transform(image)\n",
    "    image = image.unsqueeze(0)\n",
    "    return image.to(device)\n"
   ]
  },
  {
   "cell_type": "markdown",
   "id": "0d3ce28f",
   "metadata": {},
   "source": [
    "🧱 Step 3: Voting Function"
   ]
  },
  {
   "cell_type": "code",
   "execution_count": null,
   "id": "489d1dcd",
   "metadata": {},
   "outputs": [],
   "source": [
    "def ensemble_predict(img_path, threshold=0.5):\n",
    "    image = preprocess_image(img_path)\n",
    "    outputs = []\n",
    "\n",
    "    for model in models:\n",
    "        with torch.no_grad():\n",
    "            prob = model(image).item()\n",
    "            prediction = 1 if prob >= threshold else 0\n",
    "            outputs.append((prob, prediction))\n",
    "\n",
    "  \n",
    "    predictions = [pred for _, pred in outputs]\n",
    "    final_vote = int(sum(predictions) >= 3)\n",
    "\n",
    "    # Table display\n",
    "    print(f\"\\n🧮 Voting Table for: {img_path}\")\n",
    "    print(\"Model\\t\\tProbability\\tPrediction\")\n",
    "    print(\"----------------------------------------\")\n",
    "    names = [\"CNN_A\", \"CNN_P1\", \"CNN_P2\", \"CNN_VF\"]\n",
    "    for name, (prob, pred) in zip(names, outputs):\n",
    "        print(f\"{name}\\t\\t{prob:.4f}\\t\\t{pred}\")\n",
    "    print(\"----------------------------------------\")\n",
    "    print(f\"✅ Final Ensemble Prediction: {final_vote} (0=Normal, 1=Abnormal)\")\n",
    "\n",
    "    return final_vote\n"
   ]
  },
  {
   "cell_type": "markdown",
   "id": "99c7ac8e",
   "metadata": {},
   "source": [
    "✅ Example Usage onone frame"
   ]
  },
  {
   "cell_type": "code",
   "execution_count": 17,
   "id": "a36fca8f",
   "metadata": {},
   "outputs": [
    {
     "name": "stdout",
     "output_type": "stream",
     "text": [
      "\n",
      "🧮 Voting Table for: data/Violent-Flows/frames/balcony_football_violence__Brannik_Football_Violence__Nattevandring__ysW-tGv-YjI/frame_0000.png\n",
      "Model\t\tProbability\tPrediction\n",
      "----------------------------------------\n",
      "CNN_A\t\t0.0000\t\t0\n",
      "CNN_P1\t\t0.0000\t\t0\n",
      "CNN_P2\t\t0.0000\t\t0\n",
      "CNN_VF\t\t1.0000\t\t1\n",
      "----------------------------------------\n",
      "✅ Final Ensemble Prediction: 0 (0=Normal, 1=Abnormal)\n"
     ]
    },
    {
     "data": {
      "text/plain": [
       "0"
      ]
     },
     "execution_count": 17,
     "metadata": {},
     "output_type": "execute_result"
    }
   ],
   "source": [
    "frame_path = \"data/Violent-Flows/frames/balcony_football_violence__Brannik_Football_Violence__Nattevandring__ysW-tGv-YjI/frame_0000.png\"\n",
    "ensemble_predict(frame_path)"
   ]
  }
 ],
 "metadata": {
  "kernelspec": {
   "display_name": "Python 3",
   "language": "python",
   "name": "python3"
  },
  "language_info": {
   "codemirror_mode": {
    "name": "ipython",
    "version": 3
   },
   "file_extension": ".py",
   "mimetype": "text/x-python",
   "name": "python",
   "nbconvert_exporter": "python",
   "pygments_lexer": "ipython3",
   "version": "3.13.3"
  }
 },
 "nbformat": 4,
 "nbformat_minor": 5
}
